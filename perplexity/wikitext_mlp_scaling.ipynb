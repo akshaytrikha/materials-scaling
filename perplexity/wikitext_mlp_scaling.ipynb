{
  "cells": [
    {
      "cell_type": "code",
      "execution_count": null,
      "metadata": {
        "id": "X_5R0yIn6xcr"
      },
      "outputs": [],
      "source": [
        "# clone github repo\n",
        "from getpass import getpass\n",
        "token = getpass('Enter your GitHub Personal Access Token: ')\n",
        "\n",
        "!git clone https://$token@github.com/akshaytrikha/materials-scaling.git"
      ]
    },
    {
      "cell_type": "code",
      "execution_count": null,
      "metadata": {
        "id": "nfzj969GACG-"
      },
      "outputs": [],
      "source": [
        "!wandb login"
      ]
    },
    {
      "cell_type": "code",
      "execution_count": null,
      "metadata": {
        "id": "EeqVH4-U7o8K"
      },
      "outputs": [],
      "source": [
        "%cd materials-scaling\n",
        "%pip install -q -r requirements.txt\n",
        "%cd perplexity"
      ]
    },
    {
      "cell_type": "code",
      "execution_count": null,
      "metadata": {
        "id": "dCRCN24Z9G2m"
      },
      "outputs": [],
      "source": [
        "!python3 train.py --architecture=FCN --batch_size=64 --num_epochs=5 --lr=0.001 --seq_max_length=512 --dataset_version=small --wandb_log"
      ]
    }
  ],
  "metadata": {
    "accelerator": "GPU",
    "colab": {
      "gpuType": "T4",
      "provenance": []
    },
    "kernelspec": {
      "display_name": "Python 3",
      "name": "python3"
    },
    "language_info": {
      "name": "python"
    }
  },
  "nbformat": 4,
  "nbformat_minor": 0
}
