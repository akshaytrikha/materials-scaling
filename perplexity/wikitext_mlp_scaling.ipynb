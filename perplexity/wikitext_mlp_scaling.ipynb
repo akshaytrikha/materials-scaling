{
  "nbformat": 4,
  "nbformat_minor": 0,
  "metadata": {
    "colab": {
      "provenance": [],
      "gpuType": "T4"
    },
    "kernelspec": {
      "name": "python3",
      "display_name": "Python 3"
    },
    "language_info": {
      "name": "python"
    },
    "accelerator": "GPU"
  },
  "cells": [
    {
      "cell_type": "code",
      "source": [
        "# clone github repo\n",
        "from getpass import getpass\n",
        "token = getpass('Enter your GitHub Personal Access Token: ')\n",
        "\n",
        "!git clone https://$token@github.com/akshaytrikha/materials-scaling.git"
      ],
      "metadata": {
        "id": "X_5R0yIn6xcr"
      },
      "execution_count": null,
      "outputs": []
    },
    {
      "cell_type": "code",
      "source": [
        "!wandb login"
      ],
      "metadata": {
        "id": "nfzj969GACG-"
      },
      "execution_count": null,
      "outputs": []
    },
    {
      "cell_type": "code",
      "source": [
        "%cd materials-scaling\n",
        "%pip install -q -r requirements.txt\n",
        "%cd perplexity"
      ],
      "metadata": {
        "id": "EeqVH4-U7o8K"
      },
      "execution_count": null,
      "outputs": []
    },
    {
      "cell_type": "code",
      "source": [
        "!python3 train.py"
      ],
      "metadata": {
        "id": "dCRCN24Z9G2m"
      },
      "execution_count": null,
      "outputs": []
    }
  ]
}