{
 "cells": [
  {
   "cell_type": "markdown",
   "metadata": {},
   "source": [
    "### Setup venv (for RunPod)"
   ]
  },
  {
   "cell_type": "code",
   "execution_count": null,
   "metadata": {},
   "outputs": [],
   "source": [
    "# Paste this into a new terminal\n",
    "# python3 -m venv materials-scaling-venv\n",
    "# source materials-scaling-venv/bin/activate\n",
    "\n",
    "# Then run this in your notebook\n",
    "!python -m ipykernel install --user --name=materials-scaling-venv --display-name \"Python (materials-scaling-venv)\""
   ]
  },
  {
   "cell_type": "markdown",
   "metadata": {},
   "source": [
    "### Clone repo and install packages"
   ]
  },
  {
   "cell_type": "code",
   "execution_count": null,
   "metadata": {},
   "outputs": [],
   "source": [
    "%load_ext autoreload\n",
    "%autoreload 2\n",
    "\n",
    "# clone github repo\n",
    "from getpass import getpass\n",
    "token = getpass('Enter your GitHub Personal Access Token: ')\n",
    "\n",
    "!git clone https://$token@github.com/akshaytrikha/materials-scaling.git"
   ]
  },
  {
   "cell_type": "code",
   "execution_count": null,
   "metadata": {
    "id": "s_EnFIA8vhBt"
   },
   "outputs": [],
   "source": [
    "%cd materials-scaling"
   ]
  },
  {
   "cell_type": "code",
   "execution_count": null,
   "metadata": {
    "id": "EeqVH4-U7o8K"
   },
   "outputs": [],
   "source": [
    "# for RunPod you'll see this cell error out but it's fine run the next one to finish the setup\n",
    "%pip install -q -r requirements.txt\n",
    "%pip install -q torch-scatter -f https://data.pyg.org/whl/torch-2.4.0+cu121.html"
   ]
  },
  {
   "cell_type": "code",
   "execution_count": null,
   "metadata": {},
   "outputs": [],
   "source": [
    "%pip install -q fairchem-core==1.2.0\n",
    "%pip install -q torch_geometric==2.6.1\n",
    "%pip install -q gdown==5.2.0\n",
    "%pip install -q x-transformers==1.37.10"
   ]
  },
  {
   "cell_type": "code",
   "execution_count": null,
   "metadata": {},
   "outputs": [],
   "source": [
    "%cd omat24"
   ]
  },
  {
   "cell_type": "markdown",
   "metadata": {},
   "source": [
    "### Train"
   ]
  },
  {
   "cell_type": "code",
   "execution_count": null,
   "metadata": {
    "editable": true,
    "id": "uNewlZgrRxAR",
    "slideshow": {
     "slide_type": ""
    },
    "tags": []
   },
   "outputs": [],
   "source": [
    "!python3 train.py --architecture=Transformer --data_fraction 0.000001 0.00007 0.0001 --batch_size=1 --epochs=20000 --lr=0.005"
   ]
  }
 ],
 "metadata": {
  "accelerator": "GPU",
  "colab": {
   "gpuType": "A100",
   "provenance": []
  },
  "kernelspec": {
   "display_name": "Python (materials-scaling-venv)",
   "language": "python",
   "name": "materials-scaling-venv"
  },
  "language_info": {
   "codemirror_mode": {
    "name": "ipython",
    "version": 3
   },
   "file_extension": ".py",
   "mimetype": "text/x-python",
   "name": "python",
   "nbconvert_exporter": "python",
   "pygments_lexer": "ipython3",
   "version": "3.11.10"
  }
 },
 "nbformat": 4,
 "nbformat_minor": 4
}
