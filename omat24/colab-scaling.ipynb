{
  "cells": [
    {
      "cell_type": "code",
      "execution_count": null,
      "metadata": {
        "id": "X_5R0yIn6xcr"
      },
      "outputs": [],
      "source": [
        "# clone github repo\n",
        "from getpass import getpass\n",
        "token = getpass('Enter your GitHub Personal Access Token: ')\n",
        "\n",
        "!git clone https://$token@github.com/akshaytrikha/materials-scaling.git"
      ]
    },
    {
      "cell_type": "code",
      "source": [
        "%cd materials-scaling"
      ],
      "metadata": {
        "id": "s_EnFIA8vhBt"
      },
      "execution_count": null,
      "outputs": []
    },
    {
      "cell_type": "code",
      "execution_count": null,
      "metadata": {
        "id": "nfzj969GACG-"
      },
      "outputs": [],
      "source": [
        "# !wandb login"
      ]
    },
    {
      "cell_type": "code",
      "execution_count": null,
      "metadata": {
        "id": "EeqVH4-U7o8K"
      },
      "outputs": [],
      "source": [
        "%pip install -q -r requirements.txt\n",
        "%pip install -q torch-scatter -f https://data.pyg.org/whl/torch-2.4.0+cu121.html\n",
        "%cd omat24"
      ]
    },
    {
      "cell_type": "code",
      "source": [
        "!python3 train.py --data_fractions 0.01 0.02 0.04 0.08 0.1 0.2 0.4 0.8 1.0 --epochs=20 --batch_sizes=256"
      ],
      "metadata": {
        "id": "uNewlZgrRxAR"
      },
      "execution_count": null,
      "outputs": []
    }
  ],
  "metadata": {
    "accelerator": "GPU",
    "colab": {
      "gpuType": "A100",
      "provenance": []
    },
    "kernelspec": {
      "display_name": "Python 3",
      "name": "python3"
    },
    "language_info": {
      "name": "python"
    }
  },
  "nbformat": 4,
  "nbformat_minor": 0
}