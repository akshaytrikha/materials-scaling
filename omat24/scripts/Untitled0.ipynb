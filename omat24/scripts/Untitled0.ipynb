{
  "cells": [
    {
      "cell_type": "code",
      "execution_count": 1,
      "metadata": {
        "id": "DDsHC2VLhUbU"
      },
      "outputs": [],
      "source": [
        "import torch\n",
        "import torch.nn as nn\n",
        "import torch.nn.functional as F\n",
        "import numpy as np\n",
        "import matplotlib.pyplot as plt\n",
        "import pickle\n",
        "from torch.nn.utils.rnn import pad_sequence\n",
        "from tqdm import tqdm"
      ]
    },
    {
      "cell_type": "code",
      "execution_count": 2,
      "metadata": {
        "id": "VYIe2Bj7zfOo"
      },
      "outputs": [],
      "source": [
        "class OMATDataset(torch.utils.data.Dataset):\n",
        "    def __init__(self, X_coords, X_numbers, y):\n",
        "        self.X_coords = X_coords\n",
        "        self.X_numbers = X_numbers\n",
        "        self.y = y\n",
        "\n",
        "    def __len__(self):\n",
        "        return len(self.X_numbers)\n",
        "\n",
        "    def __getitem__(self, idx):\n",
        "       return self.X_coords[idx], self.X_numbers[idx], self.y[idx], torch.tensor([1] * len(self.y[idx]), dtype=torch.int64)\n",
        "\n",
        "class OMATDataLoader(torch.utils.data.DataLoader):\n",
        "    # Sequences are different\n",
        "    def __init__(self, *args, **kwargs):\n",
        "        super().__init__(*args, **kwargs)\n",
        "\n",
        "def collate_fn(batch):\n",
        "    X_coords, X_numbers, labels, mask = zip(*batch)\n",
        "    # print(len(X_numbers[0]), len(X_coords[0]), len(labels[0]))\n",
        "    # print(len(X_numbers[1]), len(X_coords[1]), len(labels[1]))\n",
        "\n",
        "    X_coords_t = pad_sequence([torch.tensor(c, dtype=torch.float32) for c in X_coords], batch_first=True)\n",
        "    X_numbers_t = pad_sequence([torch.tensor(n, dtype=torch.int64) for n in X_numbers], batch_first=True)\n",
        "    labels_t = pad_sequence([torch.tensor(y, dtype=torch.float32) for y in labels], batch_first=True)\n",
        "    mask_t = pad_sequence([torch.tensor(m, dtype=torch.int64) for m in mask], batch_first=True).to(torch.bool)\n",
        "\n",
        "    return X_coords_t, X_numbers_t, labels_t, mask_t\n",
        "\n",
        "\n",
        "class SimpleTransformer(nn.Module):\n",
        "    def __init__(self, num_embeddings, embedding_dim, num_heads, num_layers, dim_feedforward, dropout):\n",
        "        super().__init__()\n",
        "        self.embedding = nn.Embedding(num_embeddings, embedding_dim)\n",
        "\n",
        "        self.transformer = nn.TransformerEncoder(\n",
        "            nn.TransformerEncoderLayer(embedding_dim+6, num_heads, dim_feedforward, dropout,batch_first=True),\n",
        "            num_layers\n",
        "        )\n",
        "        self.fc = nn.Linear(embedding_dim+6, 3)\n",
        "\n",
        "    def forward(self, inputs, mask):\n",
        "        # x = self.embedding(numbers+1)\n",
        "        numbers, coords = inputs\n",
        "        x = torch.cat([self.embedding(numbers), coords], dim=-1)\n",
        "        x = self.transformer(x)\n",
        "        x = self.fc(x)\n",
        "        return x"
      ]
    },
    {
      "cell_type": "code",
      "execution_count": 22,
      "metadata": {
        "id": "CV-Pg9y8zxRi"
      },
      "outputs": [],
      "source": [
        "# train_dataset = pickle.load(open(\"train_dataset.pkl\", \"rb\"))\n",
        "dataset = pickle.load(open(\"dataset.pkl\", \"rb\"))\n",
        "train_split = int(len(dataset) * 0.9)\n",
        "train_dataset, test_dataset = torch.utils.data.random_split(dataset, [train_split, len(dataset) - train_split])\n",
        "model = SimpleTransformer(200, 32, 2, 3, 128, 0.0)\n",
        "optimizer = torch.optim.Adam(model.parameters(), lr=1e-3)\n",
        "losses = []\n",
        "train_dataloader = OMATDataLoader(train_dataset, batch_size=64, shuffle=True,collate_fn=collate_fn)"
      ]
    },
    {
      "cell_type": "code",
      "execution_count": 30,
      "metadata": {
        "colab": {
          "base_uri": "https://localhost:8080/"
        },
        "id": "hx23EN2kzzJS",
        "outputId": "3aedc074-2894-43a4-d7c4-329026a000f9"
      },
      "outputs": [
        {
          "name": "stderr",
          "output_type": "stream",
          "text": [
            "  0%|          | 0/577 [00:00<?, ?it/s]<ipython-input-9-d135031045b5>:26: UserWarning: To copy construct from a tensor, it is recommended to use sourceTensor.clone().detach() or sourceTensor.clone().detach().requires_grad_(True), rather than torch.tensor(sourceTensor).\n",
            "  mask_t = pad_sequence([torch.tensor(m, dtype=torch.int64) for m in mask], batch_first=True).to(torch.bool)\n",
            "Loss: 1.4041: 100%|██████████| 577/577 [00:09<00:00, 58.76it/s]\n",
            "Loss: 1.4252: 100%|██████████| 577/577 [00:09<00:00, 58.53it/s]\n",
            "Loss: 1.4349: 100%|██████████| 577/577 [00:10<00:00, 57.49it/s]\n",
            "Loss: 1.4003: 100%|██████████| 577/577 [00:09<00:00, 57.76it/s]\n",
            "Loss: 1.4212: 100%|██████████| 577/577 [00:10<00:00, 57.65it/s]\n",
            "Loss: 1.3842: 100%|██████████| 577/577 [00:09<00:00, 60.48it/s]\n",
            "Loss: 1.3820: 100%|██████████| 577/577 [00:09<00:00, 58.25it/s]\n",
            "Loss: 1.3936: 100%|██████████| 577/577 [00:10<00:00, 57.60it/s]\n",
            "Loss: 1.3850: 100%|██████████| 577/577 [00:09<00:00, 57.88it/s]\n",
            "Loss: 1.3626: 100%|██████████| 577/577 [00:09<00:00, 57.80it/s]\n"
          ]
        }
      ],
      "source": [
        "device = \"cuda\"\n",
        "model.to(device)\n",
        "for epoch in range(10):\n",
        "    to_iter = tqdm(train_dataloader)\n",
        "    for i, (coords, numbers, forces,mask) in enumerate(to_iter):\n",
        "        to_iter.set_description(f\"Loss: {np.mean(losses[-100:]):.4f}\")\n",
        "        optimizer.zero_grad()\n",
        "        flat_mask = mask.flatten().to(device)\n",
        "        forces = forces.to(device)\n",
        "        label_forces = forces.reshape(-1,3)[flat_mask]\n",
        "        output_forces = model((numbers.to(device),coords.to(device)), mask).reshape(-1,3)[flat_mask]\n",
        "        loss = torch.mean(torch.abs(label_forces - output_forces))\n",
        "        loss.backward()\n",
        "        optimizer.step()\n",
        "        losses.append(loss.item())"
      ]
    },
    {
      "cell_type": "code",
      "execution_count": 31,
      "metadata": {
        "colab": {
          "base_uri": "https://localhost:8080/"
        },
        "id": "9che8Ywh2hRr",
        "outputId": "e3e37b2e-6616-4211-a5ff-700796ad14de"
      },
      "outputs": [
        {
          "name": "stderr",
          "output_type": "stream",
          "text": [
            "  0%|          | 0/65 [00:00<?, ?it/s]<ipython-input-9-d135031045b5>:26: UserWarning: To copy construct from a tensor, it is recommended to use sourceTensor.clone().detach() or sourceTensor.clone().detach().requires_grad_(True), rather than torch.tensor(sourceTensor).\n",
            "  mask_t = pad_sequence([torch.tensor(m, dtype=torch.int64) for m in mask], batch_first=True).to(torch.bool)\n",
            "/usr/local/lib/python3.11/dist-packages/numpy/core/fromnumeric.py:3504: RuntimeWarning: Mean of empty slice.\n",
            "  return _methods._mean(a, axis=axis, dtype=dtype,\n",
            "/usr/local/lib/python3.11/dist-packages/numpy/core/_methods.py:129: RuntimeWarning: invalid value encountered in scalar divide\n",
            "  ret = ret.dtype.type(ret / rcount)\n",
            "MAE: 4.0329: 100%|██████████| 65/65 [00:00<00:00, 99.12it/s] \n"
          ]
        }
      ],
      "source": [
        "absolute_errors = []\n",
        "test_dataloader = OMATDataLoader(test_dataset, batch_size=64, shuffle=True,collate_fn=collate_fn)\n",
        "to_iter = tqdm(test_dataloader)\n",
        "for i, (coords, numbers, forces,mask) in enumerate(to_iter):\n",
        "    with torch.no_grad():\n",
        "        to_iter.set_description(f\"MAE: {np.mean(absolute_errors):.4f}\")\n",
        "        flat_mask = mask.flatten()\n",
        "        label_forces = forces.to(device).reshape(-1,3)[flat_mask.to(device)]\n",
        "        output_forces = model((numbers.to(device),coords.to(device)), mask).reshape(-1,3)[flat_mask]\n",
        "        diff_vec = label_forces.flatten() - output_forces.flatten()\n",
        "        absolute_errors.append(torch.mean(torch.abs(diff_vec)).item() * 3)"
      ]
    },
    {
      "cell_type": "code",
      "execution_count": 29,
      "metadata": {
        "colab": {
          "base_uri": "https://localhost:8080/"
        },
        "id": "JdSQuwys29Vj",
        "outputId": "ba739906-a260-4f6b-ef2c-cc34ebd3f4a8"
      },
      "outputs": [
        {
          "data": {
            "text/plain": [
              "0.675"
            ]
          },
          "execution_count": 29,
          "metadata": {},
          "output_type": "execute_result"
        }
      ],
      "source": [
        "# 5.97\n",
        "27 / 40"
      ]
    },
    {
      "cell_type": "code",
      "execution_count": 32,
      "metadata": {
        "colab": {
          "base_uri": "https://localhost:8080/"
        },
        "id": "zz-Vxk147uaP",
        "outputId": "f040a236-58fd-4957-9b40-c0b44f342b32"
      },
      "outputs": [
        {
          "data": {
            "text/plain": [
              "0.6830508474576271"
            ]
          },
          "execution_count": 32,
          "metadata": {},
          "output_type": "execute_result"
        }
      ],
      "source": [
        "4.03/5.9"
      ]
    },
    {
      "cell_type": "code",
      "execution_count": 33,
      "metadata": {
        "colab": {
          "base_uri": "https://localhost:8080/",
          "height": 447
        },
        "id": "O0-Egrkv7wPE",
        "outputId": "5b287c00-85c2-47b3-e1f0-ac20cea25246"
      },
      "outputs": [
        {
          "data": {
            "text/plain": [
              "[<matplotlib.lines.Line2D at 0x7ae41df06250>]"
            ]
          },
          "execution_count": 33,
          "metadata": {},
          "output_type": "execute_result"
        },
        {
          "data": {
            "image/png": "[encoded data removed]",
            "text/plain": [
              "<Figure size 640x480 with 1 Axes>"
            ]
          },
          "metadata": {},
          "output_type": "display_data"
        }
      ],
      "source": [
        "plt.plot(losses)"
      ]
    },
    {
      "cell_type": "code",
      "execution_count": null,
      "metadata": {
        "id": "1uSRQ22P8X4K"
      },
      "outputs": [],
      "source": []
    }
  ],
  "metadata": {
    "accelerator": "GPU",
    "colab": {
      "gpuType": "T4",
      "provenance": []
    },
    "kernelspec": {
      "display_name": "materials-scaling-venv",
      "language": "python",
      "name": "python3"
    },
    "language_info": {
      "codemirror_mode": {
        "name": "ipython",
        "version": 3
      },
      "file_extension": ".py",
      "mimetype": "text/x-python",
      "name": "python",
      "nbconvert_exporter": "python",
      "pygments_lexer": "ipython3",
      "version": "3.11.8"
    }
  },
  "nbformat": 4,
  "nbformat_minor": 0
}
