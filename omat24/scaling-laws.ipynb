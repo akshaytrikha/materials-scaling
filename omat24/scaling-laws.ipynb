{
 "cells": [
  {
   "cell_type": "code",
   "execution_count": 37,
   "id": "2ec50ccd-9f49-4030-b6bc-0dfc0531bc4c",
   "metadata": {},
   "outputs": [
    {
     "name": "stdout",
     "output_type": "stream",
     "text": [
      "The autoreload extension is already loaded. To reload it, use:\n",
      "  %reload_ext autoreload\n"
     ]
    },
    {
     "data": {
      "text/html": [
       "<style>:root { --jp-notebook-max-width: 100% !important; }</style>"
      ],
      "text/plain": [
       "<IPython.core.display.HTML object>"
      ]
     },
     "metadata": {},
     "output_type": "display_data"
    }
   ],
   "source": [
    "# keep refreshing the env to update experiments.json\n",
    "%load_ext autoreload\n",
    "%autoreload 2\n",
    "\n",
    "# make cells take up the whole width to display graphs better\n",
    "from IPython.display import display, HTML, Markdown\n",
    "display(HTML(\"<style>:root { --jp-notebook-max-width: 100% !important; }</style>\"))\n",
    "\n",
    "import json\n",
    "import numpy as np\n",
    "import plotly.graph_objects as go\n",
    "import plotly.express as px\n",
    "from IPython.display import display\n",
    "import ipywidgets as widgets\n",
    "from scipy.optimize import curve_fit\n",
    "from math import ceil"
   ]
  },
  {
   "cell_type": "code",
   "execution_count": 38,
   "id": "c0f0afd6-2f20-4f4e-b272-f8c30d553892",
   "metadata": {},
   "outputs": [],
   "source": [
    "experiment_filenames  = [\n",
    "    # \"experiments_20250201_224216.json\",  # 4 OOMs FCN overfit on 1 data point for 5k epochs\n",
    "    # \"experiments_20250202_103858.json\",   # 4 OOMs FCN overfit on 1 data point for 20k epochs with LR scheduler\n",
    "    # \"experiments_20250202_153806 copy.json\",  # 4 OOMs FCN overfit on 1 data point for 20k epochs without LR scheduler\n",
    "    # \"experiments_20250202_164415 copy.json\"    # 4 OOMs FCN overfit on 1 data point for 20k epochs without LR scheduler\n",
    "    # \"experiments_20250201_234945.json\"   # 4 OOMs of FCN and data\n",
    "    # \"experiments_20250203_115635 copy.json\"  # 4 OOMs FCN overfit on 1 data point for 20k epochs without LR scheduler LR=0.01\n",
    "]"
   ]
  },
  {
   "cell_type": "code",
   "execution_count": 39,
   "id": "fa91f588-8e81-40a8-9f1c-1c07b6f34b78",
   "metadata": {},
   "outputs": [],
   "source": [
    "scaled_loss = True"
   ]
  },
  {
   "cell_type": "markdown",
   "id": "d04ff15b-f94b-4616-8236-a670a04520e3",
   "metadata": {},
   "source": [
    "### Helper funcs"
   ]
  },
  {
   "cell_type": "code",
   "execution_count": 40,
   "id": "a8a26ade-a194-4649-98b4-56845a66a237",
   "metadata": {},
   "outputs": [],
   "source": [
    "def load_and_process_data(filename):\n",
    "    \"\"\"\n",
    "    Load and process the experimental data from a JSON file.\n",
    "\n",
    "    Args:\n",
    "        filename (str): The name of the JSON file.\n",
    "\n",
    "    Returns:\n",
    "        summary_val (dict): Best achievable validation loss per dataset size.\n",
    "        detailed_runs (dict): Detailed runs data structured by dataset size.\n",
    "        loaded_data (dict): The raw loaded JSON data.\n",
    "    \"\"\"\n",
    "    with open(f\"results/{filename}\", \"r\") as f:\n",
    "        loaded_data = json.load(f)\n",
    "\n",
    "    detailed_runs = {}  # {dataset_size: [(params, best_val_loss, best_train_loss), ...]}\n",
    "    for ds_size_str, runs in loaded_data.items():\n",
    "        ds_size = float(ds_size_str)\n",
    "        run_losses = []\n",
    "        for run in runs:\n",
    "            val_losses = [step_data[\"val_loss\"] for step_data in run[\"losses\"].values() \n",
    "                         if \"val_loss\" in step_data]\n",
    "            train_losses = [step_data[\"train_loss\"] for step_data in run[\"losses\"].values() \n",
    "                          if \"train_loss\" in step_data]\n",
    "            best_val_loss = min(val_losses)\n",
    "            best_train_loss = min(train_losses)\n",
    "            num_params = run[\"config\"][\"num_params\"]\n",
    "            run_losses.append((num_params, best_val_loss, best_train_loss, run))  # Store run data for callbacks\n",
    "        detailed_runs[ds_size] = run_losses\n",
    "\n",
    "    # Create summary_results for scaling law plot\n",
    "    summary_val = {}  # best achievable validation loss per dataset size\n",
    "    for ds_size, runs in detailed_runs.items():\n",
    "        best_val = min(l[1] for l in runs)\n",
    "        summary_val[ds_size] = best_val\n",
    "\n",
    "    return summary_val, detailed_runs, loaded_data\n",
    "\n",
    "def prepare_scaling_data(summary_val):\n",
    "    \"\"\"\n",
    "    Prepare and sort the scaling data.\n",
    "\n",
    "    Args:\n",
    "        summary_val (dict): Best achievable validation loss per dataset size.\n",
    "\n",
    "    Returns:\n",
    "        sorted_ds_sizes (np.array): Sorted dataset sizes.\n",
    "        sorted_val_losses (np.array): Validation losses sorted accordingly.\n",
    "    \"\"\"\n",
    "    ds_sizes = np.array(list(summary_val.keys()))\n",
    "    val_losses = np.array(list(summary_val.values()))\n",
    "    sorted_indices = np.argsort(ds_sizes)\n",
    "    sorted_ds_sizes = ds_sizes[sorted_indices]\n",
    "    sorted_val_losses = val_losses[sorted_indices]\n",
    "    return sorted_ds_sizes, sorted_val_losses\n",
    "\n",
    "def calculate_scaling_law(ds_sizes, val_losses):\n",
    "    \"\"\"\n",
    "    Calculate the scaling law parameters and fitted values.\n",
    "\n",
    "    Args:\n",
    "        ds_sizes (np.array): Array of dataset sizes.\n",
    "        val_losses (np.array): Array of validation losses.\n",
    "\n",
    "    Returns:\n",
    "        fitted_vals (np.array): Fitted validation loss values based on scaling law.\n",
    "        a (float): Scaling law parameter a.\n",
    "        b (float): Scaling law parameter b.\n",
    "    \"\"\"\n",
    "    # Define the power-law function\n",
    "    def power_law(x, a, b):\n",
    "        return a * x ** (-b)\n",
    "\n",
    "    # Fit the power-law curve to the data\n",
    "    popt, _ = curve_fit(power_law, ds_sizes, val_losses, p0=(1, 1))  # Initial guess for a and b\n",
    "\n",
    "    # Extract parameters\n",
    "    a, b = popt\n",
    "\n",
    "    fitted_vals = power_law(ds_sizes, a, b)\n",
    "    return fitted_vals, a, b"
   ]
  },
  {
   "cell_type": "markdown",
   "id": "ca93d03d-80f0-4719-886f-3345af43c1c2",
   "metadata": {},
   "source": [
    "### Prep data"
   ]
  },
  {
   "cell_type": "code",
   "execution_count": 33,
   "id": "70be1fe3-8070-476e-a986-be458284072f",
   "metadata": {},
   "outputs": [],
   "source": [
    "# ------------------ buggy ------------------ \n",
    "# all FCN models 50 epochs\n",
    "# experiment_filename = \"experiments_20250111_214659.json\"\n",
    "\n",
    "# all Transformer models 50 epochs                          ********\n",
    "# experiment_filename = \"experiments_20250112_062438.json\"\n",
    "\n",
    "# ------------------ bugfix ------------------ \n",
    "# all Transformer models 50 epochs  \n",
    "# experiment_filename = \"experiments_20250123_155336.json\"\n",
    "\n",
    "# ------------------ all loss equally scaled ------------------ \n",
    "# experiment_filename = \"experiments_20250123_162306.json\"\n",
    "\n",
    "\n",
    "# ------------------ low batch size (8) on 0.1 fraction ------------------ \n",
    "# experiment_filename = \"experiments_20250123_163741.json\"\n",
    "\n",
    "# ------------------ low batch size (8) ------------------ \n",
    "# 0.01 0.02 0.04 0.08\n",
    "# experiment_filename = \"experiments_20250124_102758.json\"\n",
    "# 0.1 0.2 0.4 0.8 1.0\n",
    "# experiment_filename = \"experiments_20250123_165735.json\"\n",
    "# experiment_filename_1 = \"merged.json\""
   ]
  },
  {
   "cell_type": "code",
   "execution_count": 41,
   "id": "28ca9b9e-f5de-4220-ab12-975eef214fb4",
   "metadata": {},
   "outputs": [],
   "source": [
    "# Initialize dictionaries to store data for all experiments\n",
    "all_summary_vals = {}\n",
    "all_detailed_runs = {}\n",
    "all_loaded_data = {}\n",
    "all_sorted_ds_sizes = {}\n",
    "all_sorted_val_losses = {}\n",
    "all_fitted_vals = {}\n",
    "all_scaling_params = {}\n",
    "\n",
    "# Load and process each experiment file\n",
    "for filename in experiment_filenames:\n",
    "    summary_val, detailed_runs, loaded_data = load_and_process_data(filename)\n",
    "    sorted_ds_sizes, sorted_val_losses = prepare_scaling_data(summary_val)\n",
    "    # fitted_vals, a, b = calculate_scaling_law(sorted_ds_sizes, sorted_val_losses)\n",
    "    \n",
    "    # Store data in dictionaries\n",
    "    all_summary_vals[filename] = summary_val\n",
    "    all_detailed_runs[filename] = detailed_runs\n",
    "    all_loaded_data[filename] = loaded_data\n",
    "    all_sorted_ds_sizes[filename] = sorted_ds_sizes\n",
    "    all_sorted_val_losses[filename] = sorted_val_losses\n",
    "    # all_fitted_vals[filename] = fitted_vals\n",
    "    # all_scaling_params[filename] = (a, b)"
   ]
  },
  {
   "cell_type": "markdown",
   "id": "41617feb-3b70-439e-8cd3-b19c16caffff",
   "metadata": {},
   "source": [
    "### Create plots"
   ]
  },
  {
   "cell_type": "code",
   "execution_count": 45,
   "id": "ae5dfcaa-8584-425d-8f3f-bda16753e420",
   "metadata": {},
   "outputs": [
    {
     "data": {
      "application/vnd.jupyter.widget-view+json": {
       "model_id": "7c3365d65e0f476dbd44d5ad09608562",
       "version_major": 2,
       "version_minor": 0
      },
      "text/plain": [
       "VBox(children=(VBox(children=(FigureWidget({\n",
       "    'data': [{'customdata': [{'dataset_size': 95.0, 'experiment':…"
      ]
     },
     "metadata": {},
     "output_type": "display_data"
    }
   ],
   "source": [
    "# Create Plot-1 (Scaling Law for Validation Loss)\n",
    "fig_plot1 = go.FigureWidget()\n",
    "\n",
    "# Define color and marker styles for different experiments\n",
    "color_palette = px.colors.qualitative.Plotly\n",
    "marker_symbols = ['circle', 'square', 'diamond', 'cross', 'triangle-up', 'triangle-down', 'star']\n",
    "\n",
    "color_map = {}\n",
    "marker_map = {}\n",
    "\n",
    "# Determine the overall min and max for dataset sizes to place baseline lines properly\n",
    "all_x_values = []\n",
    "for idx, filename in enumerate(experiment_filenames):\n",
    "    all_x_values.extend(all_sorted_ds_sizes[filename])\n",
    "min_x = min(all_x_values) if all_x_values else 0\n",
    "max_x = max(all_x_values) if all_x_values else 1\n",
    "\n",
    "# Ensure we don't get zero-range for lines\n",
    "if max_x == min_x:\n",
    "    max_x = min_x + 1\n",
    "\n",
    "for idx, filename in enumerate(experiment_filenames):\n",
    "    color = color_palette[idx % len(color_palette)]\n",
    "    marker = marker_symbols[idx % len(marker_symbols)]\n",
    "    color_map[filename] = color\n",
    "    marker_map[filename] = marker\n",
    "\n",
    "    # Extract data\n",
    "    sorted_ds_sizes = all_sorted_ds_sizes[filename]\n",
    "    sorted_val_losses = all_sorted_val_losses[filename]\n",
    "\n",
    "    # Original Data Trace\n",
    "    fig_plot1.add_trace(\n",
    "        go.Scatter(\n",
    "            x=sorted_ds_sizes,\n",
    "            y=sorted_val_losses,\n",
    "            mode='lines+markers',\n",
    "            name=f'Best Val Loss<br>{filename}',\n",
    "            marker=dict(symbol=marker, size=8, color=color),\n",
    "            customdata=[{'experiment': filename, 'dataset_size': ds} for ds in sorted_ds_sizes],\n",
    "            hovertemplate='Dataset Size: %{x}<br>Val Loss: %{y}<extra></extra>',\n",
    "        )\n",
    "    )\n",
    "\n",
    "# Add the 3 baseline dashed lines\n",
    "if scaled_loss:\n",
    "    zero_everywhere =  275.235\n",
    "    mean_everywhere = 267.801\n",
    "    k_one =  268.464\n",
    "else:\n",
    "    zero_everywhere = 17.559\n",
    "    mean_everywhere = 14.579\n",
    "    k_one = 13.908\n",
    "fig_plot1.add_trace(\n",
    "    go.Scatter(\n",
    "        x=[min_x, max_x],\n",
    "        y=[zero_everywhere, zero_everywhere],\n",
    "        mode='lines',\n",
    "        line=dict(color='#808080', dash='dash'),\n",
    "        name='Naive 0 Everywhere'\n",
    "    )\n",
    ")\n",
    "fig_plot1.add_trace(\n",
    "    go.Scatter(\n",
    "        x=[min_x, max_x],\n",
    "        y=[mean_everywhere, mean_everywhere],\n",
    "        mode='lines',\n",
    "        line=dict(color='#003262', dash='dash'),\n",
    "        name='Naive Mean'\n",
    "    )\n",
    ")\n",
    "fig_plot1.add_trace(\n",
    "    go.Scatter(\n",
    "        x=[min_x, max_x],\n",
    "        y=[k_one, k_one],\n",
    "        mode='lines',\n",
    "        line=dict(color='#FDB515', dash='dash'),\n",
    "        name='Naive k=1'\n",
    "    )\n",
    ")\n",
    "\n",
    "fig_plot1.update_layout(\n",
    "    title=\"Scaling Law: Validation Loss vs Dataset Size\",\n",
    "    xaxis_title=\"Dataset Size\",\n",
    "    yaxis_title=\"Validation Loss\",\n",
    "    template=\"plotly_white\",\n",
    "    width=900,\n",
    "    height=600,\n",
    "    legend=dict(x=1.02, y=1)\n",
    ")\n",
    "\n",
    "# Add buttons for toggling axis scales\n",
    "xaxis_buttons = [\n",
    "    dict(args=[{\"xaxis.type\": \"linear\"}], label=\"X-Linear\", method=\"relayout\"),\n",
    "    dict(args=[{\"xaxis.type\": \"log\"}], label=\"X-Log\", method=\"relayout\")\n",
    "]\n",
    "yaxis_buttons = [\n",
    "    dict(args=[{\"yaxis.type\": \"linear\"}], label=\"Y-Linear\", method=\"relayout\"),\n",
    "    dict(args=[{\"yaxis.type\": \"log\"}], label=\"Y-Log\", method=\"relayout\")\n",
    "]\n",
    "fig_plot1.update_layout(\n",
    "    margin=dict(r=150),\n",
    "    updatemenus=[\n",
    "        dict(type=\"buttons\", direction=\"up\", x=1.02, y=0.05, xanchor=\"left\", yanchor=\"bottom\",\n",
    "             showactive=True, buttons=xaxis_buttons, name=\"xaxis_buttons\"),\n",
    "        dict(type=\"buttons\", direction=\"up\", x=1.145, y=0.05, xanchor=\"left\", yanchor=\"bottom\",\n",
    "             showactive=True, buttons=yaxis_buttons, name=\"yaxis_buttons\")\n",
    "    ]\n",
    ")\n",
    "\n",
    "# Create Plot-2 (Saturation Curves for Train Loss)\n",
    "fig_train_loss = go.FigureWidget()\n",
    "fig_train_loss.update_layout(\n",
    "    title=\"Saturation Curves: Click a point in Plot-1 to view Train Loss curves\",\n",
    "    xaxis_title=\"Epoch\",\n",
    "    yaxis_title=\"Training Loss\",\n",
    "    template=\"plotly_white\",\n",
    "    width=720,\n",
    "    height=480,\n",
    ")\n",
    "fig_train_loss.update_layout(\n",
    "    margin=dict(r=150),\n",
    "    updatemenus=[\n",
    "        dict(type=\"buttons\", direction=\"up\", x=1.02, y=0.05, xanchor=\"left\", yanchor=\"bottom\",\n",
    "             showactive=True, buttons=xaxis_buttons),\n",
    "        dict(type=\"buttons\", direction=\"up\", x=1.145, y=0.05, xanchor=\"left\", yanchor=\"bottom\",\n",
    "             showactive=True, buttons=yaxis_buttons)\n",
    "    ]\n",
    ")\n",
    "\n",
    "# Create Plot-3 (Saturation Curves for Validation Loss)\n",
    "fig_val_loss = go.FigureWidget()\n",
    "fig_val_loss.update_layout(\n",
    "    title=\"Saturation Curves: Click a point in Plot-1 to view Val Loss curves\",\n",
    "    xaxis_title=\"Epoch\",\n",
    "    yaxis_title=\"Validation Loss\",\n",
    "    template=\"plotly_white\",\n",
    "    width=720,\n",
    "    height=480,\n",
    ")\n",
    "fig_val_loss.update_layout(\n",
    "    margin=dict(r=150),\n",
    "    updatemenus=[\n",
    "        dict(type=\"buttons\", direction=\"up\", x=1.02, y=0.05, xanchor=\"left\", yanchor=\"bottom\",\n",
    "             showactive=True, buttons=yaxis_buttons),\n",
    "        dict(type=\"buttons\", direction=\"up\", x=1.145, y=0.05, xanchor=\"left\", yanchor=\"bottom\",\n",
    "             showactive=True, buttons=yaxis_buttons)\n",
    "    ]\n",
    ")\n",
    "\n",
    "# Callback function to update saturation curves based on clicked point in Plot-1\n",
    "def update_saturation_curves(trace, points, selector):\n",
    "    if points.point_inds:\n",
    "        idx = points.point_inds[0]\n",
    "        clicked_data = trace.customdata[idx]\n",
    "        filename = clicked_data['experiment']\n",
    "        ds_size = clicked_data['dataset_size']\n",
    "\n",
    "        # Fetch the matching runs\n",
    "        detailed_runs = all_detailed_runs[filename]\n",
    "        runs = detailed_runs.get(ds_size, [])\n",
    "\n",
    "        # Clear old traces\n",
    "        fig_val_loss.data = []\n",
    "        fig_train_loss.data = []\n",
    "\n",
    "        for run_info in runs:\n",
    "            num_params, best_val_loss, best_train_loss, run_data = run_info\n",
    "            losses_dict = run_data[\"losses\"]\n",
    "\n",
    "            steps = []\n",
    "            train_losses = []\n",
    "            val_losses = []\n",
    "            for step_str, step_vals in losses_dict.items():\n",
    "                step_int = int(step_str)\n",
    "                steps.append(step_int)\n",
    "                if \"train_loss\" in step_vals:\n",
    "                    train_losses.append(step_vals[\"train_loss\"])\n",
    "                else:\n",
    "                    train_losses.append(np.nan)\n",
    "                if \"val_loss\" in step_vals:\n",
    "                    val_losses.append(step_vals[\"val_loss\"])\n",
    "                else:\n",
    "                    val_losses.append(np.nan)\n",
    "\n",
    "            # Sort by step for a proper left-to-right curve\n",
    "            sorted_idx = np.argsort(steps)\n",
    "            steps = [steps[i] for i in sorted_idx]\n",
    "            train_losses = [train_losses[i] for i in sorted_idx]\n",
    "            val_losses = [val_losses[i] for i in sorted_idx]\n",
    "\n",
    "            fig_train_loss.add_trace(\n",
    "                go.Scatter(\n",
    "                    x=steps,\n",
    "                    y=train_losses,\n",
    "                    mode='lines+markers',\n",
    "                    name=f\"{num_params} params\"\n",
    "                )\n",
    "            )\n",
    "            fig_val_loss.add_trace(\n",
    "                go.Scatter(\n",
    "                    x=steps,\n",
    "                    y=val_losses,\n",
    "                    mode='lines+markers',\n",
    "                    name=f\"{num_params} params\"\n",
    "                )\n",
    "            )\n",
    "\n",
    "        # Update titles\n",
    "        fig_train_loss.update_layout(\n",
    "            title=f\"Train Loss Curves for Dataset Size = {int(ds_size)}<br>({filename})\"\n",
    "        )\n",
    "        fig_val_loss.update_layout(\n",
    "            title=f\"Val Loss Curves for Dataset Size = {int(ds_size)}<br>({filename})\"\n",
    "        )\n",
    "\n",
    "# Attach the callback to the \"Best Val Loss\" traces\n",
    "for trace in fig_plot1.data:\n",
    "    if 'Best Val Loss' in trace.name:\n",
    "        trace.on_click(update_saturation_curves)\n",
    "\n",
    "# Arrange the plots in the desired layout\n",
    "top_row = widgets.VBox([fig_plot1])\n",
    "bottom_row = widgets.HBox([fig_train_loss, fig_val_loss])\n",
    "container = widgets.VBox([top_row, bottom_row])\n",
    "\n",
    "display(container)\n"
   ]
  },
  {
   "cell_type": "code",
   "execution_count": 46,
   "id": "b7463c01-8455-4e75-bb47-c35e8a2ab099",
   "metadata": {},
   "outputs": [
    {
     "data": {
      "application/vnd.plotly.v1+json": {
       "config": {
        "plotlyServerURL": "https://plot.ly"
       },
       "data": [
        {
         "line": {
          "color": "#636EFA"
         },
         "marker": {
          "color": "#636EFA",
          "size": 8
         },
         "mode": "lines+markers",
         "name": "1.7K params",
         "type": "scatter",
         "x": [
          95,
          1002
         ],
         "y": [
          153.49623008669934,
          149.46869032334556
         ]
        },
        {
         "line": {
          "color": "#EF553B"
         },
         "marker": {
          "color": "#EF553B",
          "size": 8
         },
         "mode": "lines+markers",
         "name": "18.3K params",
         "type": "scatter",
         "x": [
          95,
          1002
         ],
         "y": [
          160.53641022885512,
          150.1351439347727
         ]
        },
        {
         "line": {
          "color": "#00CC96"
         },
         "marker": {
          "color": "#00CC96",
          "size": 8
         },
         "mode": "lines+markers",
         "name": "137.5K params",
         "type": "scatter",
         "x": [
          95,
          1002
         ],
         "y": [
          153.01678488823364,
          149.13134197535248
         ]
        },
        {
         "line": {
          "color": "#AB63FA"
         },
         "marker": {
          "color": "#AB63FA",
          "size": 8
         },
         "mode": "lines+markers",
         "name": "1.2M params",
         "type": "scatter",
         "x": [
          95,
          1002
         ],
         "y": [
          167.15359911700796,
          152.30180726378097
         ]
        },
        {
         "line": {
          "color": "#FFA15A"
         },
         "marker": {
          "color": "#FFA15A",
          "size": 8
         },
         "mode": "lines+markers",
         "name": "12.7M params",
         "type": "scatter",
         "x": [
          95,
          1002
         ],
         "y": [
          157.62782554578055,
          152.1875059507825
         ]
        },
        {
         "line": {
          "color": "#19D3F3"
         },
         "marker": {
          "color": "#19D3F3",
          "size": 8
         },
         "mode": "lines+markers",
         "name": "115.5M params",
         "type": "scatter",
         "x": [
          95,
          1002
         ],
         "y": [
          152.67712051311725,
          243.75557885920335
         ]
        }
       ],
       "layout": {
        "height": 600,
        "legend": {
         "bgcolor": "rgba(255, 255, 255, 0.8)",
         "title": {
          "text": "Params"
         },
         "x": 0.99,
         "xanchor": "right",
         "y": 0.99,
         "yanchor": "top"
        },
        "template": {
         "data": {
          "bar": [
           {
            "error_x": {
             "color": "#2a3f5f"
            },
            "error_y": {
             "color": "#2a3f5f"
            },
            "marker": {
             "line": {
              "color": "white",
              "width": 0.5
             },
             "pattern": {
              "fillmode": "overlay",
              "size": 10,
              "solidity": 0.2
             }
            },
            "type": "bar"
           }
          ],
          "barpolar": [
           {
            "marker": {
             "line": {
              "color": "white",
              "width": 0.5
             },
             "pattern": {
              "fillmode": "overlay",
              "size": 10,
              "solidity": 0.2
             }
            },
            "type": "barpolar"
           }
          ],
          "carpet": [
           {
            "aaxis": {
             "endlinecolor": "#2a3f5f",
             "gridcolor": "#C8D4E3",
             "linecolor": "#C8D4E3",
             "minorgridcolor": "#C8D4E3",
             "startlinecolor": "#2a3f5f"
            },
            "baxis": {
             "endlinecolor": "#2a3f5f",
             "gridcolor": "#C8D4E3",
             "linecolor": "#C8D4E3",
             "minorgridcolor": "#C8D4E3",
             "startlinecolor": "#2a3f5f"
            },
            "type": "carpet"
           }
          ],
          "choropleth": [
           {
            "colorbar": {
             "outlinewidth": 0,
             "ticks": ""
            },
            "type": "choropleth"
           }
          ],
          "contour": [
           {
            "colorbar": {
             "outlinewidth": 0,
             "ticks": ""
            },
            "colorscale": [
             [
              0,
              "#0d0887"
             ],
             [
              0.1111111111111111,
              "#46039f"
             ],
             [
              0.2222222222222222,
              "#7201a8"
             ],
             [
              0.3333333333333333,
              "#9c179e"
             ],
             [
              0.4444444444444444,
              "#bd3786"
             ],
             [
              0.5555555555555556,
              "#d8576b"
             ],
             [
              0.6666666666666666,
              "#ed7953"
             ],
             [
              0.7777777777777778,
              "#fb9f3a"
             ],
             [
              0.8888888888888888,
              "#fdca26"
             ],
             [
              1,
              "#f0f921"
             ]
            ],
            "type": "contour"
           }
          ],
          "contourcarpet": [
           {
            "colorbar": {
             "outlinewidth": 0,
             "ticks": ""
            },
            "type": "contourcarpet"
           }
          ],
          "heatmap": [
           {
            "colorbar": {
             "outlinewidth": 0,
             "ticks": ""
            },
            "colorscale": [
             [
              0,
              "#0d0887"
             ],
             [
              0.1111111111111111,
              "#46039f"
             ],
             [
              0.2222222222222222,
              "#7201a8"
             ],
             [
              0.3333333333333333,
              "#9c179e"
             ],
             [
              0.4444444444444444,
              "#bd3786"
             ],
             [
              0.5555555555555556,
              "#d8576b"
             ],
             [
              0.6666666666666666,
              "#ed7953"
             ],
             [
              0.7777777777777778,
              "#fb9f3a"
             ],
             [
              0.8888888888888888,
              "#fdca26"
             ],
             [
              1,
              "#f0f921"
             ]
            ],
            "type": "heatmap"
           }
          ],
          "heatmapgl": [
           {
            "colorbar": {
             "outlinewidth": 0,
             "ticks": ""
            },
            "colorscale": [
             [
              0,
              "#0d0887"
             ],
             [
              0.1111111111111111,
              "#46039f"
             ],
             [
              0.2222222222222222,
              "#7201a8"
             ],
             [
              0.3333333333333333,
              "#9c179e"
             ],
             [
              0.4444444444444444,
              "#bd3786"
             ],
             [
              0.5555555555555556,
              "#d8576b"
             ],
             [
              0.6666666666666666,
              "#ed7953"
             ],
             [
              0.7777777777777778,
              "#fb9f3a"
             ],
             [
              0.8888888888888888,
              "#fdca26"
             ],
             [
              1,
              "#f0f921"
             ]
            ],
            "type": "heatmapgl"
           }
          ],
          "histogram": [
           {
            "marker": {
             "pattern": {
              "fillmode": "overlay",
              "size": 10,
              "solidity": 0.2
             }
            },
            "type": "histogram"
           }
          ],
          "histogram2d": [
           {
            "colorbar": {
             "outlinewidth": 0,
             "ticks": ""
            },
            "colorscale": [
             [
              0,
              "#0d0887"
             ],
             [
              0.1111111111111111,
              "#46039f"
             ],
             [
              0.2222222222222222,
              "#7201a8"
             ],
             [
              0.3333333333333333,
              "#9c179e"
             ],
             [
              0.4444444444444444,
              "#bd3786"
             ],
             [
              0.5555555555555556,
              "#d8576b"
             ],
             [
              0.6666666666666666,
              "#ed7953"
             ],
             [
              0.7777777777777778,
              "#fb9f3a"
             ],
             [
              0.8888888888888888,
              "#fdca26"
             ],
             [
              1,
              "#f0f921"
             ]
            ],
            "type": "histogram2d"
           }
          ],
          "histogram2dcontour": [
           {
            "colorbar": {
             "outlinewidth": 0,
             "ticks": ""
            },
            "colorscale": [
             [
              0,
              "#0d0887"
             ],
             [
              0.1111111111111111,
              "#46039f"
             ],
             [
              0.2222222222222222,
              "#7201a8"
             ],
             [
              0.3333333333333333,
              "#9c179e"
             ],
             [
              0.4444444444444444,
              "#bd3786"
             ],
             [
              0.5555555555555556,
              "#d8576b"
             ],
             [
              0.6666666666666666,
              "#ed7953"
             ],
             [
              0.7777777777777778,
              "#fb9f3a"
             ],
             [
              0.8888888888888888,
              "#fdca26"
             ],
             [
              1,
              "#f0f921"
             ]
            ],
            "type": "histogram2dcontour"
           }
          ],
          "mesh3d": [
           {
            "colorbar": {
             "outlinewidth": 0,
             "ticks": ""
            },
            "type": "mesh3d"
           }
          ],
          "parcoords": [
           {
            "line": {
             "colorbar": {
              "outlinewidth": 0,
              "ticks": ""
             }
            },
            "type": "parcoords"
           }
          ],
          "pie": [
           {
            "automargin": true,
            "type": "pie"
           }
          ],
          "scatter": [
           {
            "fillpattern": {
             "fillmode": "overlay",
             "size": 10,
             "solidity": 0.2
            },
            "type": "scatter"
           }
          ],
          "scatter3d": [
           {
            "line": {
             "colorbar": {
              "outlinewidth": 0,
              "ticks": ""
             }
            },
            "marker": {
             "colorbar": {
              "outlinewidth": 0,
              "ticks": ""
             }
            },
            "type": "scatter3d"
           }
          ],
          "scattercarpet": [
           {
            "marker": {
             "colorbar": {
              "outlinewidth": 0,
              "ticks": ""
             }
            },
            "type": "scattercarpet"
           }
          ],
          "scattergeo": [
           {
            "marker": {
             "colorbar": {
              "outlinewidth": 0,
              "ticks": ""
             }
            },
            "type": "scattergeo"
           }
          ],
          "scattergl": [
           {
            "marker": {
             "colorbar": {
              "outlinewidth": 0,
              "ticks": ""
             }
            },
            "type": "scattergl"
           }
          ],
          "scattermapbox": [
           {
            "marker": {
             "colorbar": {
              "outlinewidth": 0,
              "ticks": ""
             }
            },
            "type": "scattermapbox"
           }
          ],
          "scatterpolar": [
           {
            "marker": {
             "colorbar": {
              "outlinewidth": 0,
              "ticks": ""
             }
            },
            "type": "scatterpolar"
           }
          ],
          "scatterpolargl": [
           {
            "marker": {
             "colorbar": {
              "outlinewidth": 0,
              "ticks": ""
             }
            },
            "type": "scatterpolargl"
           }
          ],
          "scatterternary": [
           {
            "marker": {
             "colorbar": {
              "outlinewidth": 0,
              "ticks": ""
             }
            },
            "type": "scatterternary"
           }
          ],
          "surface": [
           {
            "colorbar": {
             "outlinewidth": 0,
             "ticks": ""
            },
            "colorscale": [
             [
              0,
              "#0d0887"
             ],
             [
              0.1111111111111111,
              "#46039f"
             ],
             [
              0.2222222222222222,
              "#7201a8"
             ],
             [
              0.3333333333333333,
              "#9c179e"
             ],
             [
              0.4444444444444444,
              "#bd3786"
             ],
             [
              0.5555555555555556,
              "#d8576b"
             ],
             [
              0.6666666666666666,
              "#ed7953"
             ],
             [
              0.7777777777777778,
              "#fb9f3a"
             ],
             [
              0.8888888888888888,
              "#fdca26"
             ],
             [
              1,
              "#f0f921"
             ]
            ],
            "type": "surface"
           }
          ],
          "table": [
           {
            "cells": {
             "fill": {
              "color": "#EBF0F8"
             },
             "line": {
              "color": "white"
             }
            },
            "header": {
             "fill": {
              "color": "#C8D4E3"
             },
             "line": {
              "color": "white"
             }
            },
            "type": "table"
           }
          ]
         },
         "layout": {
          "annotationdefaults": {
           "arrowcolor": "#2a3f5f",
           "arrowhead": 0,
           "arrowwidth": 1
          },
          "autotypenumbers": "strict",
          "coloraxis": {
           "colorbar": {
            "outlinewidth": 0,
            "ticks": ""
           }
          },
          "colorscale": {
           "diverging": [
            [
             0,
             "#8e0152"
            ],
            [
             0.1,
             "#c51b7d"
            ],
            [
             0.2,
             "#de77ae"
            ],
            [
             0.3,
             "#f1b6da"
            ],
            [
             0.4,
             "#fde0ef"
            ],
            [
             0.5,
             "#f7f7f7"
            ],
            [
             0.6,
             "#e6f5d0"
            ],
            [
             0.7,
             "#b8e186"
            ],
            [
             0.8,
             "#7fbc41"
            ],
            [
             0.9,
             "#4d9221"
            ],
            [
             1,
             "#276419"
            ]
           ],
           "sequential": [
            [
             0,
             "#0d0887"
            ],
            [
             0.1111111111111111,
             "#46039f"
            ],
            [
             0.2222222222222222,
             "#7201a8"
            ],
            [
             0.3333333333333333,
             "#9c179e"
            ],
            [
             0.4444444444444444,
             "#bd3786"
            ],
            [
             0.5555555555555556,
             "#d8576b"
            ],
            [
             0.6666666666666666,
             "#ed7953"
            ],
            [
             0.7777777777777778,
             "#fb9f3a"
            ],
            [
             0.8888888888888888,
             "#fdca26"
            ],
            [
             1,
             "#f0f921"
            ]
           ],
           "sequentialminus": [
            [
             0,
             "#0d0887"
            ],
            [
             0.1111111111111111,
             "#46039f"
            ],
            [
             0.2222222222222222,
             "#7201a8"
            ],
            [
             0.3333333333333333,
             "#9c179e"
            ],
            [
             0.4444444444444444,
             "#bd3786"
            ],
            [
             0.5555555555555556,
             "#d8576b"
            ],
            [
             0.6666666666666666,
             "#ed7953"
            ],
            [
             0.7777777777777778,
             "#fb9f3a"
            ],
            [
             0.8888888888888888,
             "#fdca26"
            ],
            [
             1,
             "#f0f921"
            ]
           ]
          },
          "colorway": [
           "#636efa",
           "#EF553B",
           "#00cc96",
           "#ab63fa",
           "#FFA15A",
           "#19d3f3",
           "#FF6692",
           "#B6E880",
           "#FF97FF",
           "#FECB52"
          ],
          "font": {
           "color": "#2a3f5f"
          },
          "geo": {
           "bgcolor": "white",
           "lakecolor": "white",
           "landcolor": "white",
           "showlakes": true,
           "showland": true,
           "subunitcolor": "#C8D4E3"
          },
          "hoverlabel": {
           "align": "left"
          },
          "hovermode": "closest",
          "mapbox": {
           "style": "light"
          },
          "paper_bgcolor": "white",
          "plot_bgcolor": "white",
          "polar": {
           "angularaxis": {
            "gridcolor": "#EBF0F8",
            "linecolor": "#EBF0F8",
            "ticks": ""
           },
           "bgcolor": "white",
           "radialaxis": {
            "gridcolor": "#EBF0F8",
            "linecolor": "#EBF0F8",
            "ticks": ""
           }
          },
          "scene": {
           "xaxis": {
            "backgroundcolor": "white",
            "gridcolor": "#DFE8F3",
            "gridwidth": 2,
            "linecolor": "#EBF0F8",
            "showbackground": true,
            "ticks": "",
            "zerolinecolor": "#EBF0F8"
           },
           "yaxis": {
            "backgroundcolor": "white",
            "gridcolor": "#DFE8F3",
            "gridwidth": 2,
            "linecolor": "#EBF0F8",
            "showbackground": true,
            "ticks": "",
            "zerolinecolor": "#EBF0F8"
           },
           "zaxis": {
            "backgroundcolor": "white",
            "gridcolor": "#DFE8F3",
            "gridwidth": 2,
            "linecolor": "#EBF0F8",
            "showbackground": true,
            "ticks": "",
            "zerolinecolor": "#EBF0F8"
           }
          },
          "shapedefaults": {
           "line": {
            "color": "#2a3f5f"
           }
          },
          "ternary": {
           "aaxis": {
            "gridcolor": "#DFE8F3",
            "linecolor": "#A2B1C6",
            "ticks": ""
           },
           "baxis": {
            "gridcolor": "#DFE8F3",
            "linecolor": "#A2B1C6",
            "ticks": ""
           },
           "bgcolor": "white",
           "caxis": {
            "gridcolor": "#DFE8F3",
            "linecolor": "#A2B1C6",
            "ticks": ""
           }
          },
          "title": {
           "x": 0.05
          },
          "xaxis": {
           "automargin": true,
           "gridcolor": "#EBF0F8",
           "linecolor": "#EBF0F8",
           "ticks": "",
           "title": {
            "standoff": 15
           },
           "zerolinecolor": "#EBF0F8",
           "zerolinewidth": 2
          },
          "yaxis": {
           "automargin": true,
           "gridcolor": "#EBF0F8",
           "linecolor": "#EBF0F8",
           "ticks": "",
           "title": {
            "standoff": 15
           },
           "zerolinecolor": "#EBF0F8",
           "zerolinewidth": 2
          }
         }
        },
        "title": {
         "text": "Loss vs Model and Dataset Size"
        },
        "updatemenus": [
         {
          "buttons": [
           {
            "args": [
             {
              "xaxis.type": "linear"
             }
            ],
            "label": "X-Linear",
            "method": "relayout"
           },
           {
            "args": [
             {
              "xaxis.type": "log"
             }
            ],
            "label": "X-Log",
            "method": "relayout"
           }
          ],
          "direction": "up",
          "showactive": true,
          "type": "buttons",
          "x": 1.02,
          "xanchor": "left",
          "y": 0.05,
          "yanchor": "bottom"
         },
         {
          "buttons": [
           {
            "args": [
             {
              "yaxis.type": "linear"
             }
            ],
            "label": "Y-Linear",
            "method": "relayout"
           },
           {
            "args": [
             {
              "yaxis.type": "log"
             }
            ],
            "label": "Y-Log",
            "method": "relayout"
           }
          ],
          "direction": "up",
          "showactive": true,
          "type": "buttons",
          "x": 1.145,
          "xanchor": "left",
          "y": 0.05,
          "yanchor": "bottom"
         }
        ],
        "width": 900,
        "xaxis": {
         "title": {
          "text": "Tokens in Dataset"
         },
         "type": "log"
        },
        "yaxis": {
         "title": {
          "text": "Loss"
         }
        }
       }
      },
      "image/png": "[encoded data removed]",
      "text/html": [
       "<div>                            <div id=\"51db730e-1f57-48d7-83b3-fe27db3347e5\" class=\"plotly-graph-div\" style=\"height:600px; width:900px;\"></div>            <script type=\"text/javascript\">                require([\"plotly\"], function(Plotly) {                    window.PLOTLYENV=window.PLOTLYENV || {};                                    if (document.getElementById(\"51db730e-1f57-48d7-83b3-fe27db3347e5\")) {                    Plotly.newPlot(                        \"51db730e-1f57-48d7-83b3-fe27db3347e5\",                        [{\"line\":{\"color\":\"#636EFA\"},\"marker\":{\"color\":\"#636EFA\",\"size\":8},\"mode\":\"lines+markers\",\"name\":\"1.7K params\",\"x\":[95.0,1002.0],\"y\":[153.49623008669934,149.46869032334556],\"type\":\"scatter\"},{\"line\":{\"color\":\"#EF553B\"},\"marker\":{\"color\":\"#EF553B\",\"size\":8},\"mode\":\"lines+markers\",\"name\":\"18.3K params\",\"x\":[95.0,1002.0],\"y\":[160.53641022885512,150.1351439347727],\"type\":\"scatter\"},{\"line\":{\"color\":\"#00CC96\"},\"marker\":{\"color\":\"#00CC96\",\"size\":8},\"mode\":\"lines+markers\",\"name\":\"137.5K params\",\"x\":[95.0,1002.0],\"y\":[153.01678488823364,149.13134197535248],\"type\":\"scatter\"},{\"line\":{\"color\":\"#AB63FA\"},\"marker\":{\"color\":\"#AB63FA\",\"size\":8},\"mode\":\"lines+markers\",\"name\":\"1.2M params\",\"x\":[95.0,1002.0],\"y\":[167.15359911700796,152.30180726378097],\"type\":\"scatter\"},{\"line\":{\"color\":\"#FFA15A\"},\"marker\":{\"color\":\"#FFA15A\",\"size\":8},\"mode\":\"lines+markers\",\"name\":\"12.7M params\",\"x\":[95.0,1002.0],\"y\":[157.62782554578055,152.1875059507825],\"type\":\"scatter\"},{\"line\":{\"color\":\"#19D3F3\"},\"marker\":{\"color\":\"#19D3F3\",\"size\":8},\"mode\":\"lines+markers\",\"name\":\"115.5M params\",\"x\":[95.0,1002.0],\"y\":[152.67712051311725,243.75557885920335],\"type\":\"scatter\"}],                        {\"template\":{\"data\":{\"barpolar\":[{\"marker\":{\"line\":{\"color\":\"white\",\"width\":0.5},\"pattern\":{\"fillmode\":\"overlay\",\"size\":10,\"solidity\":0.2}},\"type\":\"barpolar\"}],\"bar\":[{\"error_x\":{\"color\":\"#2a3f5f\"},\"error_y\":{\"color\":\"#2a3f5f\"},\"marker\":{\"line\":{\"color\":\"white\",\"width\":0.5},\"pattern\":{\"fillmode\":\"overlay\",\"size\":10,\"solidity\":0.2}},\"type\":\"bar\"}],\"carpet\":[{\"aaxis\":{\"endlinecolor\":\"#2a3f5f\",\"gridcolor\":\"#C8D4E3\",\"linecolor\":\"#C8D4E3\",\"minorgridcolor\":\"#C8D4E3\",\"startlinecolor\":\"#2a3f5f\"},\"baxis\":{\"endlinecolor\":\"#2a3f5f\",\"gridcolor\":\"#C8D4E3\",\"linecolor\":\"#C8D4E3\",\"minorgridcolor\":\"#C8D4E3\",\"startlinecolor\":\"#2a3f5f\"},\"type\":\"carpet\"}],\"choropleth\":[{\"colorbar\":{\"outlinewidth\":0,\"ticks\":\"\"},\"type\":\"choropleth\"}],\"contourcarpet\":[{\"colorbar\":{\"outlinewidth\":0,\"ticks\":\"\"},\"type\":\"contourcarpet\"}],\"contour\":[{\"colorbar\":{\"outlinewidth\":0,\"ticks\":\"\"},\"colorscale\":[[0.0,\"#0d0887\"],[0.1111111111111111,\"#46039f\"],[0.2222222222222222,\"#7201a8\"],[0.3333333333333333,\"#9c179e\"],[0.4444444444444444,\"#bd3786\"],[0.5555555555555556,\"#d8576b\"],[0.6666666666666666,\"#ed7953\"],[0.7777777777777778,\"#fb9f3a\"],[0.8888888888888888,\"#fdca26\"],[1.0,\"#f0f921\"]],\"type\":\"contour\"}],\"heatmapgl\":[{\"colorbar\":{\"outlinewidth\":0,\"ticks\":\"\"},\"colorscale\":[[0.0,\"#0d0887\"],[0.1111111111111111,\"#46039f\"],[0.2222222222222222,\"#7201a8\"],[0.3333333333333333,\"#9c179e\"],[0.4444444444444444,\"#bd3786\"],[0.5555555555555556,\"#d8576b\"],[0.6666666666666666,\"#ed7953\"],[0.7777777777777778,\"#fb9f3a\"],[0.8888888888888888,\"#fdca26\"],[1.0,\"#f0f921\"]],\"type\":\"heatmapgl\"}],\"heatmap\":[{\"colorbar\":{\"outlinewidth\":0,\"ticks\":\"\"},\"colorscale\":[[0.0,\"#0d0887\"],[0.1111111111111111,\"#46039f\"],[0.2222222222222222,\"#7201a8\"],[0.3333333333333333,\"#9c179e\"],[0.4444444444444444,\"#bd3786\"],[0.5555555555555556,\"#d8576b\"],[0.6666666666666666,\"#ed7953\"],[0.7777777777777778,\"#fb9f3a\"],[0.8888888888888888,\"#fdca26\"],[1.0,\"#f0f921\"]],\"type\":\"heatmap\"}],\"histogram2dcontour\":[{\"colorbar\":{\"outlinewidth\":0,\"ticks\":\"\"},\"colorscale\":[[0.0,\"#0d0887\"],[0.1111111111111111,\"#46039f\"],[0.2222222222222222,\"#7201a8\"],[0.3333333333333333,\"#9c179e\"],[0.4444444444444444,\"#bd3786\"],[0.5555555555555556,\"#d8576b\"],[0.6666666666666666,\"#ed7953\"],[0.7777777777777778,\"#fb9f3a\"],[0.8888888888888888,\"#fdca26\"],[1.0,\"#f0f921\"]],\"type\":\"histogram2dcontour\"}],\"histogram2d\":[{\"colorbar\":{\"outlinewidth\":0,\"ticks\":\"\"},\"colorscale\":[[0.0,\"#0d0887\"],[0.1111111111111111,\"#46039f\"],[0.2222222222222222,\"#7201a8\"],[0.3333333333333333,\"#9c179e\"],[0.4444444444444444,\"#bd3786\"],[0.5555555555555556,\"#d8576b\"],[0.6666666666666666,\"#ed7953\"],[0.7777777777777778,\"#fb9f3a\"],[0.8888888888888888,\"#fdca26\"],[1.0,\"#f0f921\"]],\"type\":\"histogram2d\"}],\"histogram\":[{\"marker\":{\"pattern\":{\"fillmode\":\"overlay\",\"size\":10,\"solidity\":0.2}},\"type\":\"histogram\"}],\"mesh3d\":[{\"colorbar\":{\"outlinewidth\":0,\"ticks\":\"\"},\"type\":\"mesh3d\"}],\"parcoords\":[{\"line\":{\"colorbar\":{\"outlinewidth\":0,\"ticks\":\"\"}},\"type\":\"parcoords\"}],\"pie\":[{\"automargin\":true,\"type\":\"pie\"}],\"scatter3d\":[{\"line\":{\"colorbar\":{\"outlinewidth\":0,\"ticks\":\"\"}},\"marker\":{\"colorbar\":{\"outlinewidth\":0,\"ticks\":\"\"}},\"type\":\"scatter3d\"}],\"scattercarpet\":[{\"marker\":{\"colorbar\":{\"outlinewidth\":0,\"ticks\":\"\"}},\"type\":\"scattercarpet\"}],\"scattergeo\":[{\"marker\":{\"colorbar\":{\"outlinewidth\":0,\"ticks\":\"\"}},\"type\":\"scattergeo\"}],\"scattergl\":[{\"marker\":{\"colorbar\":{\"outlinewidth\":0,\"ticks\":\"\"}},\"type\":\"scattergl\"}],\"scattermapbox\":[{\"marker\":{\"colorbar\":{\"outlinewidth\":0,\"ticks\":\"\"}},\"type\":\"scattermapbox\"}],\"scatterpolargl\":[{\"marker\":{\"colorbar\":{\"outlinewidth\":0,\"ticks\":\"\"}},\"type\":\"scatterpolargl\"}],\"scatterpolar\":[{\"marker\":{\"colorbar\":{\"outlinewidth\":0,\"ticks\":\"\"}},\"type\":\"scatterpolar\"}],\"scatter\":[{\"fillpattern\":{\"fillmode\":\"overlay\",\"size\":10,\"solidity\":0.2},\"type\":\"scatter\"}],\"scatterternary\":[{\"marker\":{\"colorbar\":{\"outlinewidth\":0,\"ticks\":\"\"}},\"type\":\"scatterternary\"}],\"surface\":[{\"colorbar\":{\"outlinewidth\":0,\"ticks\":\"\"},\"colorscale\":[[0.0,\"#0d0887\"],[0.1111111111111111,\"#46039f\"],[0.2222222222222222,\"#7201a8\"],[0.3333333333333333,\"#9c179e\"],[0.4444444444444444,\"#bd3786\"],[0.5555555555555556,\"#d8576b\"],[0.6666666666666666,\"#ed7953\"],[0.7777777777777778,\"#fb9f3a\"],[0.8888888888888888,\"#fdca26\"],[1.0,\"#f0f921\"]],\"type\":\"surface\"}],\"table\":[{\"cells\":{\"fill\":{\"color\":\"#EBF0F8\"},\"line\":{\"color\":\"white\"}},\"header\":{\"fill\":{\"color\":\"#C8D4E3\"},\"line\":{\"color\":\"white\"}},\"type\":\"table\"}]},\"layout\":{\"annotationdefaults\":{\"arrowcolor\":\"#2a3f5f\",\"arrowhead\":0,\"arrowwidth\":1},\"autotypenumbers\":\"strict\",\"coloraxis\":{\"colorbar\":{\"outlinewidth\":0,\"ticks\":\"\"}},\"colorscale\":{\"diverging\":[[0,\"#8e0152\"],[0.1,\"#c51b7d\"],[0.2,\"#de77ae\"],[0.3,\"#f1b6da\"],[0.4,\"#fde0ef\"],[0.5,\"#f7f7f7\"],[0.6,\"#e6f5d0\"],[0.7,\"#b8e186\"],[0.8,\"#7fbc41\"],[0.9,\"#4d9221\"],[1,\"#276419\"]],\"sequential\":[[0.0,\"#0d0887\"],[0.1111111111111111,\"#46039f\"],[0.2222222222222222,\"#7201a8\"],[0.3333333333333333,\"#9c179e\"],[0.4444444444444444,\"#bd3786\"],[0.5555555555555556,\"#d8576b\"],[0.6666666666666666,\"#ed7953\"],[0.7777777777777778,\"#fb9f3a\"],[0.8888888888888888,\"#fdca26\"],[1.0,\"#f0f921\"]],\"sequentialminus\":[[0.0,\"#0d0887\"],[0.1111111111111111,\"#46039f\"],[0.2222222222222222,\"#7201a8\"],[0.3333333333333333,\"#9c179e\"],[0.4444444444444444,\"#bd3786\"],[0.5555555555555556,\"#d8576b\"],[0.6666666666666666,\"#ed7953\"],[0.7777777777777778,\"#fb9f3a\"],[0.8888888888888888,\"#fdca26\"],[1.0,\"#f0f921\"]]},\"colorway\":[\"#636efa\",\"#EF553B\",\"#00cc96\",\"#ab63fa\",\"#FFA15A\",\"#19d3f3\",\"#FF6692\",\"#B6E880\",\"#FF97FF\",\"#FECB52\"],\"font\":{\"color\":\"#2a3f5f\"},\"geo\":{\"bgcolor\":\"white\",\"lakecolor\":\"white\",\"landcolor\":\"white\",\"showlakes\":true,\"showland\":true,\"subunitcolor\":\"#C8D4E3\"},\"hoverlabel\":{\"align\":\"left\"},\"hovermode\":\"closest\",\"mapbox\":{\"style\":\"light\"},\"paper_bgcolor\":\"white\",\"plot_bgcolor\":\"white\",\"polar\":{\"angularaxis\":{\"gridcolor\":\"#EBF0F8\",\"linecolor\":\"#EBF0F8\",\"ticks\":\"\"},\"bgcolor\":\"white\",\"radialaxis\":{\"gridcolor\":\"#EBF0F8\",\"linecolor\":\"#EBF0F8\",\"ticks\":\"\"}},\"scene\":{\"xaxis\":{\"backgroundcolor\":\"white\",\"gridcolor\":\"#DFE8F3\",\"gridwidth\":2,\"linecolor\":\"#EBF0F8\",\"showbackground\":true,\"ticks\":\"\",\"zerolinecolor\":\"#EBF0F8\"},\"yaxis\":{\"backgroundcolor\":\"white\",\"gridcolor\":\"#DFE8F3\",\"gridwidth\":2,\"linecolor\":\"#EBF0F8\",\"showbackground\":true,\"ticks\":\"\",\"zerolinecolor\":\"#EBF0F8\"},\"zaxis\":{\"backgroundcolor\":\"white\",\"gridcolor\":\"#DFE8F3\",\"gridwidth\":2,\"linecolor\":\"#EBF0F8\",\"showbackground\":true,\"ticks\":\"\",\"zerolinecolor\":\"#EBF0F8\"}},\"shapedefaults\":{\"line\":{\"color\":\"#2a3f5f\"}},\"ternary\":{\"aaxis\":{\"gridcolor\":\"#DFE8F3\",\"linecolor\":\"#A2B1C6\",\"ticks\":\"\"},\"baxis\":{\"gridcolor\":\"#DFE8F3\",\"linecolor\":\"#A2B1C6\",\"ticks\":\"\"},\"bgcolor\":\"white\",\"caxis\":{\"gridcolor\":\"#DFE8F3\",\"linecolor\":\"#A2B1C6\",\"ticks\":\"\"}},\"title\":{\"x\":0.05},\"xaxis\":{\"automargin\":true,\"gridcolor\":\"#EBF0F8\",\"linecolor\":\"#EBF0F8\",\"ticks\":\"\",\"title\":{\"standoff\":15},\"zerolinecolor\":\"#EBF0F8\",\"zerolinewidth\":2},\"yaxis\":{\"automargin\":true,\"gridcolor\":\"#EBF0F8\",\"linecolor\":\"#EBF0F8\",\"ticks\":\"\",\"title\":{\"standoff\":15},\"zerolinecolor\":\"#EBF0F8\",\"zerolinewidth\":2}}},\"legend\":{\"title\":{\"text\":\"Params\"},\"yanchor\":\"top\",\"y\":0.99,\"xanchor\":\"right\",\"x\":0.99,\"bgcolor\":\"rgba(255, 255, 255, 0.8)\"},\"title\":{\"text\":\"Loss vs Model and Dataset Size\"},\"xaxis\":{\"title\":{\"text\":\"Tokens in Dataset\"},\"type\":\"log\"},\"yaxis\":{\"title\":{\"text\":\"Loss\"}},\"width\":900,\"height\":600,\"updatemenus\":[{\"buttons\":[{\"args\":[{\"xaxis.type\":\"linear\"}],\"label\":\"X-Linear\",\"method\":\"relayout\"},{\"args\":[{\"xaxis.type\":\"log\"}],\"label\":\"X-Log\",\"method\":\"relayout\"}],\"direction\":\"up\",\"showactive\":true,\"type\":\"buttons\",\"x\":1.02,\"xanchor\":\"left\",\"y\":0.05,\"yanchor\":\"bottom\"},{\"buttons\":[{\"args\":[{\"yaxis.type\":\"linear\"}],\"label\":\"Y-Linear\",\"method\":\"relayout\"},{\"args\":[{\"yaxis.type\":\"log\"}],\"label\":\"Y-Log\",\"method\":\"relayout\"}],\"direction\":\"up\",\"showactive\":true,\"type\":\"buttons\",\"x\":1.145,\"xanchor\":\"left\",\"y\":0.05,\"yanchor\":\"bottom\"}]},                        {\"responsive\": true}                    ).then(function(){\n",
       "                            \n",
       "var gd = document.getElementById('51db730e-1f57-48d7-83b3-fe27db3347e5');\n",
       "var x = new MutationObserver(function (mutations, observer) {{\n",
       "        var display = window.getComputedStyle(gd).display;\n",
       "        if (!display || display === 'none') {{\n",
       "            console.log([gd, 'removed!']);\n",
       "            Plotly.purge(gd);\n",
       "            observer.disconnect();\n",
       "        }}\n",
       "}});\n",
       "\n",
       "// Listen for the removal of the full notebook cells\n",
       "var notebookContainer = gd.closest('#notebook-container');\n",
       "if (notebookContainer) {{\n",
       "    x.observe(notebookContainer, {childList: true});\n",
       "}}\n",
       "\n",
       "// Listen for the clearing of the current output cell\n",
       "var outputEl = gd.closest('.output');\n",
       "if (outputEl) {{\n",
       "    x.observe(outputEl, {childList: true});\n",
       "}}\n",
       "\n",
       "                        })                };                });            </script>        </div>"
      ]
     },
     "metadata": {},
     "output_type": "display_data"
    }
   ],
   "source": [
    "# This adds a new cell after your data loading code to create the desired visualization\n",
    "import numpy as np\n",
    "import plotly.graph_objects as go\n",
    "import plotly.express as px\n",
    "from IPython.display import display\n",
    "import ipywidgets as widgets\n",
    "from scipy.optimize import curve_fit\n",
    "import math\n",
    "\n",
    "# Function to create the Loss vs Model and Dataset Size plot\n",
    "def create_model_dataset_plot(all_detailed_runs, experiment_filename):\n",
    "    fig = go.Figure()\n",
    "    \n",
    "    # Get data from the first experiment (or chosen one)\n",
    "    detailed_runs = all_detailed_runs[experiment_filename]\n",
    "    \n",
    "    # Define a color map for different parameter sizes\n",
    "    color_palette = px.colors.qualitative.Plotly\n",
    "    model_sizes = set()\n",
    "    \n",
    "    # First, collect all unique model sizes for consistent color mapping\n",
    "    for ds_size, runs in detailed_runs.items():\n",
    "        for run_info in runs:\n",
    "            num_params = run_info[0]\n",
    "            model_sizes.add(num_params)\n",
    "    \n",
    "    model_sizes = sorted(list(model_sizes))\n",
    "    color_map = {size: color_palette[i % len(color_palette)] for i, size in enumerate(model_sizes)}\n",
    "    \n",
    "    # Format dataset sizes and model parameters for more readable display\n",
    "    def format_number(num):\n",
    "        if num >= 1e9:\n",
    "            return f\"{num/1e9:.1f}B\"\n",
    "        elif num >= 1e6:\n",
    "            return f\"{num/1e6:.1f}M\"\n",
    "        elif num >= 1e3:\n",
    "            return f\"{num/1e3:.1f}K\"\n",
    "        else:\n",
    "            return f\"{num:.1f}\"\n",
    "    \n",
    "    # For each model size, plot a line across dataset sizes\n",
    "    for model_size in model_sizes:\n",
    "        ds_sizes = []\n",
    "        val_losses = []\n",
    "        \n",
    "        # Collect validation losses for this model size across all dataset sizes\n",
    "        for ds_size, runs in detailed_runs.items():\n",
    "            # Find the run with this model size\n",
    "            for run_info in runs:\n",
    "                num_params, val_loss, _, _ = run_info\n",
    "                if num_params == model_size:\n",
    "                    ds_sizes.append(ds_size)\n",
    "                    val_losses.append(val_loss)\n",
    "                    break\n",
    "        \n",
    "        # Sort by dataset size for proper line plotting\n",
    "        if ds_sizes:\n",
    "            sorted_indices = np.argsort(ds_sizes)\n",
    "            sorted_ds_sizes = [ds_sizes[i] for i in sorted_indices]\n",
    "            sorted_val_losses = [val_losses[i] for i in sorted_indices]\n",
    "            \n",
    "            # Add trace for this model size\n",
    "            fig.add_trace(\n",
    "                go.Scatter(\n",
    "                    x=sorted_ds_sizes,\n",
    "                    y=sorted_val_losses,\n",
    "                    mode='lines+markers',\n",
    "                    name=f\"{format_number(model_size)} params\",\n",
    "                    line=dict(color=color_map[model_size]),\n",
    "                    marker=dict(color=color_map[model_size], size=8)\n",
    "                )\n",
    "            )\n",
    "    \n",
    "    # Update layout\n",
    "    fig.update_layout(\n",
    "        title=\"Loss vs Model and Dataset Size\",\n",
    "        xaxis_title=\"Tokens in Dataset\",\n",
    "        yaxis_title=\"Loss\",\n",
    "        template=\"plotly_white\",\n",
    "        width=900,\n",
    "        height=600,\n",
    "        legend_title=\"Params\",\n",
    "        legend=dict(\n",
    "            yanchor=\"top\",\n",
    "            y=0.99,\n",
    "            xanchor=\"right\",\n",
    "            x=0.99,\n",
    "            bgcolor=\"rgba(255, 255, 255, 0.8)\"\n",
    "        )\n",
    "    )\n",
    "    \n",
    "    # Set log scale for x-axis by default\n",
    "    fig.update_xaxes(type=\"log\")\n",
    "    \n",
    "    # Add buttons for toggling axis scales\n",
    "    xaxis_buttons = [\n",
    "        dict(args=[{\"xaxis.type\": \"linear\"}], label=\"X-Linear\", method=\"relayout\"),\n",
    "        dict(args=[{\"xaxis.type\": \"log\"}], label=\"X-Log\", method=\"relayout\")\n",
    "    ]\n",
    "    yaxis_buttons = [\n",
    "        dict(args=[{\"yaxis.type\": \"linear\"}], label=\"Y-Linear\", method=\"relayout\"),\n",
    "        dict(args=[{\"yaxis.type\": \"log\"}], label=\"Y-Log\", method=\"relayout\")\n",
    "    ]\n",
    "    \n",
    "    fig.update_layout(\n",
    "        updatemenus=[\n",
    "            dict(type=\"buttons\", direction=\"up\", x=1.02, y=0.05, xanchor=\"left\", yanchor=\"bottom\",\n",
    "                 showactive=True, buttons=xaxis_buttons),\n",
    "            dict(type=\"buttons\", direction=\"up\", x=1.145, y=0.05, xanchor=\"left\", yanchor=\"bottom\",\n",
    "                 showactive=True, buttons=yaxis_buttons)\n",
    "        ]\n",
    "    )\n",
    "    \n",
    "    # Fit power law curves for each model size if enough points\n",
    "    for model_size in model_sizes:\n",
    "        ds_sizes = []\n",
    "        val_losses = []\n",
    "        \n",
    "        for ds_size, runs in detailed_runs.items():\n",
    "            for run_info in runs:\n",
    "                num_params, val_loss, _, _ = run_info\n",
    "                if num_params == model_size:\n",
    "                    ds_sizes.append(ds_size)\n",
    "                    val_losses.append(val_loss)\n",
    "                    break\n",
    "        \n",
    "        if len(ds_sizes) >= 3:  # Need at least 3 points for a reasonable fit\n",
    "            sorted_indices = np.argsort(ds_sizes)\n",
    "            sorted_ds_sizes = np.array([ds_sizes[i] for i in sorted_indices])\n",
    "            sorted_val_losses = np.array([val_losses[i] for i in sorted_indices])\n",
    "            \n",
    "            # Extend the x range for the fitted curve\n",
    "            min_ds = min(sorted_ds_sizes)\n",
    "            max_ds = max(sorted_ds_sizes)\n",
    "            extended_ds = np.logspace(math.log10(min_ds*0.5), math.log10(max_ds*2), 100)\n",
    "            \n",
    "            try:\n",
    "                # Define power law function\n",
    "                def power_law(x, a, b):\n",
    "                    return a * x ** (-b)\n",
    "                \n",
    "                # Fit curve\n",
    "                popt, _ = curve_fit(power_law, sorted_ds_sizes, sorted_val_losses, p0=(1, 0.1))\n",
    "                a, b = popt\n",
    "                \n",
    "                # Add fitted curve\n",
    "                fig.add_trace(\n",
    "                    go.Scatter(\n",
    "                        x=extended_ds,\n",
    "                        y=power_law(extended_ds, a, b),\n",
    "                        mode='lines',\n",
    "                        line=dict(color=color_map[model_size], dash='dot'),\n",
    "                        showlegend=False\n",
    "                    )\n",
    "                )\n",
    "            except:\n",
    "                # If curve fitting fails, just skip it\n",
    "                pass\n",
    "    \n",
    "    return fig\n",
    "\n",
    "# Call the function with your data\n",
    "# Example usage after your data loading section:\n",
    "model_dataset_fig = create_model_dataset_plot(all_detailed_runs, experiment_filenames[0])\n",
    "display(model_dataset_fig)"
   ]
  },
  {
   "cell_type": "code",
   "execution_count": null,
   "id": "9c5434f1-7090-49cf-bb23-7d5a1fec9467",
   "metadata": {},
   "outputs": [],
   "source": []
  }
 ],
 "metadata": {
  "kernelspec": {
   "display_name": "base",
   "language": "python",
   "name": "python3"
  },
  "language_info": {
   "codemirror_mode": {
    "name": "ipython",
    "version": 3
   },
   "file_extension": ".py",
   "mimetype": "text/x-python",
   "name": "python",
   "nbconvert_exporter": "python",
   "pygments_lexer": "ipython3",
   "version": "3.11.5"
  }
 },
 "nbformat": 4,
 "nbformat_minor": 5
}
