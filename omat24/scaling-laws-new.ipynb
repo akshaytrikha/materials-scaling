{
 "cells": [
  {
   "cell_type": "code",
   "execution_count": 107,
   "metadata": {},
   "outputs": [
    {
     "data": {
      "text/html": [
       "<style>:root { --jp-notebook-max-width: 100% !important; }</style>"
      ],
      "text/plain": [
       "<IPython.core.display.HTML object>"
      ]
     },
     "metadata": {},
     "output_type": "display_data"
    }
   ],
   "source": [
    "import os\n",
    "import re\n",
    "import glob\n",
    "from pathlib import Path\n",
    "import numpy as np\n",
    "import pandas as pd\n",
    "import plotly.graph_objects as go\n",
    "import plotly.express as px\n",
    "from IPython.display import display, HTML\n",
    "import math\n",
    "from datetime import datetime\n",
    "import ipywidgets as widgets\n",
    "from plotly.subplots import make_subplots\n",
    "from tensorboard.backend.event_processing import event_accumulator\n",
    "\n",
    "display(HTML(\"<style>:root { --jp-notebook-max-width: 100% !important; }</style>\"))\n",
    "\n",
    "def find_latest_log_dir(base_dir=\"runs\"):\n",
    "    dirs = glob.glob(os.path.join(base_dir, \"exp_*\"))\n",
    "    if not dirs:\n",
    "        return None\n",
    "    return max(dirs, key=os.path.getctime)\n",
    "\n",
    "def parse_tag_name(tag):\n",
    "    match = re.match(r'model_ds(\\d+)_p(\\d+)/(?:train|val)(?:_(.+))?_loss', tag)\n",
    "    if match:\n",
    "        ds_size = int(match.group(1))\n",
    "        params = int(match.group(2))\n",
    "        metric_type = match.group(3) if match.group(3) else ''\n",
    "        is_train = 'train' in tag\n",
    "        metric = f\"{'train' if is_train else 'val'}{('_' + metric_type) if metric_type else ''}_loss\"\n",
    "        return ds_size, params, metric\n",
    "    \n",
    "    match = re.match(r'model_ds(\\d+)_p(\\d+)/(train|val)__loss', tag)\n",
    "    if match:\n",
    "        ds_size = int(match.group(1))\n",
    "        params = int(match.group(2))\n",
    "        is_train = match.group(3) == 'train'\n",
    "        metric = f\"{'train' if is_train else 'val'}_loss\"\n",
    "        return ds_size, params, metric\n",
    "    \n",
    "    return None, None, tag\n",
    "\n",
    "def format_number(num):\n",
    "    if num >= 1e9:\n",
    "        return f\"{num/1e9:.1f}B\"\n",
    "    elif num >= 1e6:\n",
    "        return f\"{num/1e6:.1f}M\"\n",
    "    elif num >= 1e3:\n",
    "        return f\"{num/1e3:.1f}K\"\n",
    "    else:\n",
    "        return f\"{num:.1f}\"\n",
    "\n",
    "def load_tensorboard_data(log_dir):\n",
    "    all_data = []    \n",
    "    event_files = glob.glob(os.path.join(log_dir, \"event*\"))\n",
    "    \n",
    "    if not event_files:\n",
    "        return pd.DataFrame()\n",
    "        \n",
    "    for event_file in event_files:\n",
    "        try:\n",
    "            ea = event_accumulator.EventAccumulator(\n",
    "                event_file,\n",
    "                size_guidance={event_accumulator.SCALARS: 0}\n",
    "            )\n",
    "            ea.Reload()\n",
    "            \n",
    "            tags = ea.Tags()['scalars']\n",
    "            if len(tags) == 0:\n",
    "                continue\n",
    "            \n",
    "            for tag in tags:\n",
    "                if any(skip in tag for skip in ['Grads', 'G2W']):\n",
    "                    continue\n",
    "                    \n",
    "                ds_size, params, metric = parse_tag_name(tag)\n",
    "                if ds_size is None:\n",
    "                    continue\n",
    "                \n",
    "                events = ea.Scalars(tag)\n",
    "                \n",
    "                for event in events:\n",
    "                    if math.isnan(event.value):\n",
    "                        continue\n",
    "                    \n",
    "                    record = {\n",
    "                        'log_dir': os.path.basename(log_dir),\n",
    "                        'dataset_size': ds_size,\n",
    "                        'params': params,\n",
    "                        'metric': metric,\n",
    "                        'epoch': event.step,\n",
    "                        'value': event.value,\n",
    "                        'wall_time': event.wall_time\n",
    "                    }\n",
    "                    all_data.append(record)\n",
    "                    \n",
    "        except Exception:\n",
    "            continue\n",
    "    \n",
    "    return pd.DataFrame(all_data) if all_data else pd.DataFrame()\n",
    "\n",
    "def combine_stress_data(iso_df, aniso_df):\n",
    "    if iso_df.empty or aniso_df.empty:\n",
    "        return pd.DataFrame()\n",
    "        \n",
    "    iso_grouped = iso_df.groupby(['params', 'epoch'])['value'].mean().reset_index()\n",
    "    aniso_grouped = aniso_df.groupby(['params', 'epoch'])['value'].mean().reset_index() \n",
    "    \n",
    "    merged = pd.merge(\n",
    "        iso_grouped,\n",
    "        aniso_grouped,\n",
    "        on=['params', 'epoch'],\n",
    "        suffixes=('_iso', '_aniso')\n",
    "    )        \n",
    "    \n",
    "    merged['value'] = merged['value_iso'] + merged['value_aniso']\n",
    "    return merged\n",
    "\n",
    "def prepare_best_losses(df):\n",
    "    if df.empty:\n",
    "        return {}\n",
    "        \n",
    "    val_metrics = df[df['metric'].str.contains('val', na=False)]\n",
    "    if val_metrics.empty:\n",
    "        return {}\n",
    "    \n",
    "    overall_metric = 'val_loss'\n",
    "    if df[df['metric'] == 'val_loss'].empty:\n",
    "        overall_metric = 'val_energy_loss'\n",
    "    \n",
    "    overall_df = df[df['metric'] == overall_metric]\n",
    "    if overall_df.empty:\n",
    "        return {}\n",
    "    \n",
    "    min_loss_epochs = overall_df.loc[\n",
    "        overall_df.groupby(['log_dir', 'dataset_size', 'params'])['value'].idxmin()\n",
    "    ][['log_dir', 'dataset_size', 'params', 'epoch', 'value']]\n",
    "    \n",
    "    min_loss_epochs = min_loss_epochs.rename(columns={'value': 'best_overall_loss'})\n",
    "    \n",
    "    metric_types = {\n",
    "        'overall': overall_metric,\n",
    "        'energy': 'val_energy_loss',\n",
    "        'force': 'val_force_loss',\n",
    "        'stress': None\n",
    "    }\n",
    "    \n",
    "    results = {'overall': min_loss_epochs.copy()}\n",
    "    \n",
    "    for metric_key, metric_name in metric_types.items():\n",
    "        if metric_key == 'overall' or metric_name is None:\n",
    "            continue\n",
    "            \n",
    "        metric_df = df[df['metric'] == metric_name]\n",
    "        if metric_df.empty:\n",
    "            continue\n",
    "        \n",
    "        merged_df = pd.merge(\n",
    "            min_loss_epochs,\n",
    "            metric_df,\n",
    "            on=['log_dir', 'dataset_size', 'params', 'epoch'],\n",
    "            suffixes=('_overall', '')\n",
    "        )\n",
    "        \n",
    "        if merged_df.empty:\n",
    "            continue\n",
    "            \n",
    "        metric_result = merged_df[['log_dir', 'dataset_size', 'params', 'epoch', 'value']]\n",
    "        results[metric_key] = metric_result\n",
    "    \n",
    "    stress_iso_df = df[df['metric'] == 'val_stress_iso_loss'].copy()\n",
    "    stress_aniso_df = df[df['metric'] == 'val_stress_aniso_loss'].copy()\n",
    "    \n",
    "    if not stress_iso_df.empty and not stress_aniso_df.empty:\n",
    "        stress_iso_df = stress_iso_df.rename(columns={'value': 'iso_value'})\n",
    "        iso_merged = pd.merge(\n",
    "            min_loss_epochs,\n",
    "            stress_iso_df,\n",
    "            on=['log_dir', 'dataset_size', 'params', 'epoch']\n",
    "        )\n",
    "        \n",
    "        stress_aniso_df = stress_aniso_df.rename(columns={'value': 'aniso_value'})\n",
    "        stress_merged = pd.merge(\n",
    "            iso_merged,\n",
    "            stress_aniso_df,\n",
    "            on=['log_dir', 'dataset_size', 'params', 'epoch']\n",
    "        )\n",
    "        \n",
    "        if not stress_merged.empty:\n",
    "            stress_merged['value'] = stress_merged['iso_value'] + stress_merged['aniso_value']\n",
    "            \n",
    "            stress_result = stress_merged[['log_dir', 'dataset_size', 'params', 'epoch', 'value']]\n",
    "            results['stress'] = stress_result\n",
    "    \n",
    "    return results\n",
    "\n",
    "def load_data_from_selection(log_dir):\n",
    "    if not os.path.exists(log_dir):\n",
    "        print(f\"Directory does not exist: {log_dir}\")\n",
    "        return None, None\n",
    "    \n",
    "    df = load_tensorboard_data(log_dir)\n",
    "    if not df.empty:\n",
    "        best_losses = prepare_best_losses(df)\n",
    "        return df, best_losses\n",
    "    else:\n",
    "        return None, None\n",
    "\n",
    "def create_subplot_figure(row_count, col_count, titles, spacing=0.15):\n",
    "    return make_subplots(\n",
    "        rows=row_count,\n",
    "        cols=col_count,\n",
    "        subplot_titles=titles,\n",
    "        vertical_spacing=spacing,\n",
    "        horizontal_spacing=spacing\n",
    "    )\n",
    "\n",
    "def setup_figure_layout(fig, title, width=1250, height=1000):\n",
    "    fig.update_layout(\n",
    "        title=title,\n",
    "        width=width,\n",
    "        height=height,\n",
    "        template=\"plotly_white\",\n",
    "        legend=dict(\n",
    "            yanchor=\"top\",\n",
    "            y=0.99,\n",
    "            xanchor=\"right\",\n",
    "            x=0.99\n",
    "        )\n",
    "    )\n",
    "    return fig\n",
    "\n",
    "def plot_model_comparisons(best_losses):\n",
    "    if not best_losses:\n",
    "        return None\n",
    "    \n",
    "    metric_keys = list(best_losses.keys())\n",
    "    titles = {\n",
    "        'overall': 'Overall Validation Loss',\n",
    "        'energy': 'Energy Loss',\n",
    "        'force': 'Force Loss',\n",
    "        'stress': 'Stress Loss'\n",
    "    }\n",
    "    \n",
    "    rows = min(2, len(metric_keys))\n",
    "    cols = (len(metric_keys) + rows - 1) // rows\n",
    "    \n",
    "    fig = create_subplot_figure(rows, cols, [titles.get(key, key) for key in metric_keys])\n",
    "    \n",
    "    all_params = set()\n",
    "    for key in metric_keys:\n",
    "        all_params.update(best_losses[key]['params'].unique())\n",
    "    \n",
    "    color_map = {size: px.colors.qualitative.Plotly[i % len(px.colors.qualitative.Plotly)] \n",
    "                 for i, size in enumerate(sorted(all_params))}\n",
    "    \n",
    "    for i, key in enumerate(metric_keys):\n",
    "        row = i // cols + 1\n",
    "        col = i % cols + 1\n",
    "        best_val_loss = best_losses[key]\n",
    "        \n",
    "        for model_size in sorted(best_val_loss['params'].unique()):\n",
    "            model_data = best_val_loss[best_val_loss['params'] == model_size].sort_values('dataset_size')\n",
    "            \n",
    "            show_in_legend = (i == 0)\n",
    "            name = f\"{format_number(model_size)} params\"\n",
    "            y_values = model_data['best_overall_loss'] if key == 'overall' else model_data['value']\n",
    "            \n",
    "            fig.add_trace(\n",
    "                go.Scatter(\n",
    "                    x=model_data['dataset_size'],\n",
    "                    y=y_values,\n",
    "                    mode='lines+markers',\n",
    "                    name=name,\n",
    "                    line=dict(color=color_map[model_size]),\n",
    "                    marker=dict(color=color_map[model_size], size=8),\n",
    "                    showlegend=show_in_legend,\n",
    "                    hovertemplate=(\n",
    "                        \"Dataset size: %{x}<br>\"\n",
    "                        f\"Loss: %{{y}}<br>\"\n",
    "                        f\"Params: {format_number(model_size)}\"\n",
    "                        \"<extra></extra>\"\n",
    "                    )\n",
    "                ),\n",
    "                row=row, col=col\n",
    "            )\n",
    "    \n",
    "    fig = setup_figure_layout(fig, \"\")\n",
    "    \n",
    "    for i in range(1, rows*cols+1):\n",
    "        row_idx = (i-1)//cols+1\n",
    "        col_idx = (i-1)%cols+1\n",
    "        fig.update_xaxes(type=\"log\", title_text=\"Dataset Size\", row=row_idx, col=col_idx)\n",
    "        fig.update_yaxes(title_text=\"Loss Value\", row=row_idx, col=col_idx)\n",
    "    \n",
    "    return fig\n",
    "\n",
    "def plot_comprehensive_loss_curves(df, dataset_size):\n",
    "    if df.empty:\n",
    "        return None\n",
    "    \n",
    "    ds_data = df[df['dataset_size'] == dataset_size]\n",
    "    if ds_data.empty:\n",
    "        return None\n",
    "    \n",
    "    loss_types = [\n",
    "        ('train_loss', 'Train Loss'),\n",
    "        ('val_loss', 'Validation Loss'),\n",
    "        ('train_energy_loss', 'Train Energy Loss'),\n",
    "        ('val_energy_loss', 'Validation Energy Loss'),\n",
    "        ('train_force_loss', 'Train Force Loss'),\n",
    "        ('val_force_loss', 'Validation Force Loss'),\n",
    "        ('train_stress', 'Train Stress Loss (Iso+Aniso)'),\n",
    "        ('val_stress', 'Validation Stress Loss (Iso+Aniso)')\n",
    "    ]\n",
    "    \n",
    "    fig = create_subplot_figure(4, 2, [title for _, title in loss_types], spacing=0.1)\n",
    "    \n",
    "    all_params = sorted(ds_data['params'].unique())\n",
    "    color_map = {size: px.colors.qualitative.Plotly[i % len(px.colors.qualitative.Plotly)] \n",
    "                for i, size in enumerate(all_params)}\n",
    "    \n",
    "    stress_pairs = [\n",
    "        ('train_stress', ds_data[ds_data['metric'] == 'train_stress_iso_loss'].copy(),\n",
    "                      ds_data[ds_data['metric'] == 'train_stress_aniso_loss'].copy()),\n",
    "        ('val_stress', ds_data[ds_data['metric'] == 'val_stress_iso_loss'].copy(),\n",
    "                     ds_data[ds_data['metric'] == 'val_stress_aniso_loss'].copy())\n",
    "    ]\n",
    "    \n",
    "    stress_data = {}\n",
    "    for key, iso_df, aniso_df in stress_pairs:\n",
    "        stress_data[key] = combine_stress_data(iso_df, aniso_df)\n",
    "    \n",
    "    for i, (metric_key, title) in enumerate(loss_types):\n",
    "        row = i // 2 + 1\n",
    "        col = i % 2 + 1\n",
    "        \n",
    "        if metric_key in stress_data:\n",
    "            data_to_plot = stress_data[metric_key]\n",
    "            is_combined = True\n",
    "        else:\n",
    "            data_to_plot = ds_data[ds_data['metric'] == metric_key]\n",
    "            is_combined = False\n",
    "        \n",
    "        if data_to_plot.empty:\n",
    "            continue\n",
    "        \n",
    "        for params in sorted(ds_data['params'].unique()):\n",
    "            model_data = data_to_plot[data_to_plot['params'] == params]\n",
    "            \n",
    "            if model_data.empty:\n",
    "                continue\n",
    "                \n",
    "            model_data = model_data.sort_values('epoch')\n",
    "            \n",
    "            fig.add_trace(\n",
    "                go.Scatter(\n",
    "                    x=model_data['epoch'],\n",
    "                    y=model_data['value'],\n",
    "                    mode='lines+markers',\n",
    "                    name=f\"{params} params\",\n",
    "                    line=dict(color=color_map[params]),\n",
    "                    marker=dict(size=6, color=color_map[params]),\n",
    "                    showlegend=(i == 0),\n",
    "                    hovertemplate='Epoch: %{x}<br>Loss: %{y}<extra></extra>'\n",
    "                ),\n",
    "                row=row, col=col\n",
    "            )\n",
    "    \n",
    "    fig = setup_figure_layout(fig, \"\", 1500, 1200)\n",
    "    \n",
    "    for i in range(1, 9):\n",
    "        row_idx = (i-1) // 2 + 1\n",
    "        col_idx = (i-1) % 2 + 1\n",
    "        fig.update_xaxes(title_text=\"Epoch\", row=row_idx, col=col_idx)\n",
    "        fig.update_yaxes(title_text=\"Loss Value\", row=row_idx, col=col_idx)\n",
    "    \n",
    "    return fig\n",
    "\n",
    "def plot_params_vs_losses(best_losses):\n",
    "    if not best_losses:\n",
    "        return None\n",
    "    \n",
    "    loss_types = [\n",
    "        ('overall', 'Overall Validation Loss'),\n",
    "        ('energy', 'Energy Loss'),\n",
    "        ('force', 'Force Loss'),\n",
    "        ('stress', 'Stress Loss (Iso+Aniso)')\n",
    "    ]\n",
    "    \n",
    "    fig = create_subplot_figure(2, 2, [title for _, title in loss_types])\n",
    "    \n",
    "    all_ds_sizes = set()\n",
    "    for key in [t[0] for t in loss_types]:\n",
    "        if key in best_losses:\n",
    "            all_ds_sizes.update(best_losses[key]['dataset_size'].unique())\n",
    "    \n",
    "    color_map = {size: px.colors.qualitative.Plotly[i % len(px.colors.qualitative.Plotly)] \n",
    "                for i, size in enumerate(sorted(all_ds_sizes))}\n",
    "    \n",
    "    for i, (key, title) in enumerate(loss_types):\n",
    "        row = i // 2 + 1\n",
    "        col = i % 2 + 1\n",
    "        \n",
    "        if key not in best_losses:\n",
    "            continue\n",
    "            \n",
    "        best_val_loss = best_losses[key]\n",
    "        \n",
    "        for ds_size in sorted(best_val_loss['dataset_size'].unique()):\n",
    "            ds_data = best_val_loss[best_val_loss['dataset_size'] == ds_size].sort_values('params')\n",
    "            \n",
    "            if len(ds_data) <= 1:\n",
    "                continue\n",
    "                \n",
    "            y_values = ds_data['best_overall_loss'] if key == 'overall' else ds_data['value']\n",
    "            \n",
    "            fig.add_trace(\n",
    "                go.Scatter(\n",
    "                    x=ds_data['params'],\n",
    "                    y=y_values,\n",
    "                    mode='lines+markers',\n",
    "                    name=f\"Dataset Size: {ds_size}\",\n",
    "                    line=dict(color=color_map[ds_size]),\n",
    "                    marker=dict(color=color_map[ds_size], size=8),\n",
    "                    showlegend=(i == 0),\n",
    "                    hovertemplate=(\n",
    "                        \"Params: %{x}<br>\"\n",
    "                        f\"Loss: %{{y}}<br>\"\n",
    "                        f\"Dataset Size: {ds_size}\"\n",
    "                        \"<extra></extra>\"\n",
    "                    )\n",
    "                ),\n",
    "                row=row, col=col\n",
    "            )\n",
    "    \n",
    "    fig = setup_figure_layout(fig, \"Validation Loss vs Model Parameters\")\n",
    "    \n",
    "    for i in range(1, 5):\n",
    "        row_idx = (i-1) // 2 + 1\n",
    "        col_idx = (i-1) % 2 + 1\n",
    "        fig.update_xaxes(type=\"log\", title_text=\"Model Parameters\", row=row_idx, col=col_idx)\n",
    "        fig.update_yaxes(title_text=\"Loss Value\", row=row_idx, col=col_idx)\n",
    "    \n",
    "    return fig"
   ]
  },
  {
   "cell_type": "code",
   "execution_count": 108,
   "metadata": {},
   "outputs": [
    {
     "data": {
      "application/vnd.jupyter.widget-view+json": {
       "model_id": "cae34f5fc6f644ba9172a262a60b61f9",
       "version_major": 2,
       "version_minor": 0
      },
      "text/plain": [
       "VBox(children=(SelectMultiple(description='Log directories:', index=(0,), layout=Layout(height='150px', width=…"
      ]
     },
     "metadata": {},
     "output_type": "display_data"
    },
    {
     "data": {
      "application/vnd.jupyter.widget-view+json": {
       "model_id": "6eeb7e8038b74db6b6d705fecd14e104",
       "version_major": 2,
       "version_minor": 0
      },
      "text/plain": [
       "Output()"
      ]
     },
     "metadata": {},
     "output_type": "display_data"
    }
   ],
   "source": [
    "log_dirs = glob.glob(os.path.join(\"runs\", \"exp_*\"))\n",
    "log_dirs.sort(key=os.path.getctime, reverse=True)  # Sort by creation time\n",
    "if not log_dirs:\n",
    "    print(\"No TensorBoard logs found in the 'runs' directory.\")\n",
    "else:\n",
    "    options = [(f\"{os.path.basename(log_dir)}\", log_dir) for log_dir in log_dirs]\n",
    "    directory_selector = widgets.SelectMultiple(\n",
    "        options=options,\n",
    "        value=[log_dirs[0]],  # Default to most recent\n",
    "        description='Log directories:',\n",
    "        style={'description_width': 'initial'},\n",
    "        layout=widgets.Layout(width='500px', height='150px')\n",
    "    )\n",
    "    load_button = widgets.Button(\n",
    "        description='Load Data',\n",
    "        button_style='primary',\n",
    "        tooltip='Load data from selected directories',\n",
    "        layout=widgets.Layout(width='200px')\n",
    "    )\n",
    "    display(widgets.VBox([directory_selector, load_button]))\n",
    "    load_output = widgets.Output()\n",
    "    display(load_output)\n",
    "    \n",
    "    def on_load_button_clicked(b):\n",
    "        with load_output:\n",
    "            load_output.clear_output()\n",
    "            selected_dirs = directory_selector.value   \n",
    "            if not selected_dirs:\n",
    "                print(\"Please select at least one log directory.\")\n",
    "                return           \n",
    "            print(f\"Loading data from {len(selected_dirs)} directories...\")\n",
    "            global df, best_losses\n",
    "            all_data = []\n",
    "            for log_dir in selected_dirs:\n",
    "                print(f\"Processing {os.path.basename(log_dir)}...\")\n",
    "                current_df = load_tensorboard_data(log_dir)\n",
    "                if not current_df.empty:\n",
    "                    all_data.append(current_df)\n",
    "            if all_data:\n",
    "                df = pd.concat(all_data, ignore_index=True)\n",
    "                print(f\"Successfully loaded {len(df)} data points from {len(selected_dirs)} directories.\")\n",
    "                best_losses = prepare_best_losses(df)\n",
    "            else:\n",
    "                df = pd.DataFrame()\n",
    "                best_losses = {}\n",
    "                print(\"No data could be loaded from the selected directories.\")    \n",
    "    load_button.on_click(on_load_button_clicked)"
   ]
  },
  {
   "cell_type": "code",
   "execution_count": 109,
   "metadata": {},
   "outputs": [
    {
     "name": "stdout",
     "output_type": "stream",
     "text": [
      "Creating model comparison plots...\n"
     ]
    },
    {
     "data": {
      "application/vnd.plotly.v1+json": {
       "config": {
        "plotlyServerURL": "https://plot.ly"
       },
       "data": [
        {
         "hovertemplate": "Dataset size: %{x}<br>Loss: %{y}<br>Params: 970.0<extra></extra>",
         "line": {
          "color": "#636EFA"
         },
         "marker": {
          "color": "#636EFA",
          "size": 8
         },
         "mode": "lines+markers",
         "name": "970.0 params",
         "showlegend": true,
         "type": "scatter",
         "x": [
          3,
          33
         ],
         "xaxis": "x",
         "y": [
          302.6672668457031,
          279.15960693359375
         ],
         "yaxis": "y"
        },
        {
         "hovertemplate": "Dataset size: %{x}<br>Loss: %{y}<br>Params: 5.5K<extra></extra>",
         "line": {
          "color": "#EF553B"
         },
         "marker": {
          "color": "#EF553B",
          "size": 8
         },
         "mode": "lines+markers",
         "name": "5.5K params",
         "showlegend": true,
         "type": "scatter",
         "x": [
          3,
          33
         ],
         "xaxis": "x",
         "y": [
          315.5051574707031,
          326.2633972167969
         ],
         "yaxis": "y"
        },
        {
         "hovertemplate": "Dataset size: %{x}<br>Loss: %{y}<br>Params: 28.7K<extra></extra>",
         "line": {
          "color": "#00CC96"
         },
         "marker": {
          "color": "#00CC96",
          "size": 8
         },
         "mode": "lines+markers",
         "name": "28.7K params",
         "showlegend": true,
         "type": "scatter",
         "x": [
          3,
          33
         ],
         "xaxis": "x",
         "y": [
          331.2684020996094,
          353.53875732421875
         ],
         "yaxis": "y"
        },
        {
         "hovertemplate": "Dataset size: %{x}<br>Loss: %{y}<br>Params: 970.0<extra></extra>",
         "line": {
          "color": "#636EFA"
         },
         "marker": {
          "color": "#636EFA",
          "size": 8
         },
         "mode": "lines+markers",
         "name": "970.0 params",
         "showlegend": false,
         "type": "scatter",
         "x": [
          3,
          33
         ],
         "xaxis": "x2",
         "y": [
          7.828356742858887,
          3.353917360305786
         ],
         "yaxis": "y2"
        },
        {
         "hovertemplate": "Dataset size: %{x}<br>Loss: %{y}<br>Params: 5.5K<extra></extra>",
         "line": {
          "color": "#EF553B"
         },
         "marker": {
          "color": "#EF553B",
          "size": 8
         },
         "mode": "lines+markers",
         "name": "5.5K params",
         "showlegend": false,
         "type": "scatter",
         "x": [
          3,
          33
         ],
         "xaxis": "x2",
         "y": [
          5.237451076507568,
          3.1745386123657227
         ],
         "yaxis": "y2"
        },
        {
         "hovertemplate": "Dataset size: %{x}<br>Loss: %{y}<br>Params: 28.7K<extra></extra>",
         "line": {
          "color": "#00CC96"
         },
         "marker": {
          "color": "#00CC96",
          "size": 8
         },
         "mode": "lines+markers",
         "name": "28.7K params",
         "showlegend": false,
         "type": "scatter",
         "x": [
          3,
          33
         ],
         "xaxis": "x2",
         "y": [
          4.218497276306152,
          3.1199638843536377
         ],
         "yaxis": "y2"
        },
        {
         "hovertemplate": "Dataset size: %{x}<br>Loss: %{y}<br>Params: 970.0<extra></extra>",
         "line": {
          "color": "#636EFA"
         },
         "marker": {
          "color": "#636EFA",
          "size": 8
         },
         "mode": "lines+markers",
         "name": "970.0 params",
         "showlegend": false,
         "type": "scatter",
         "x": [
          3,
          33
         ],
         "xaxis": "x3",
         "y": [
          271.2458801269531,
          271.617431640625
         ],
         "yaxis": "y3"
        },
        {
         "hovertemplate": "Dataset size: %{x}<br>Loss: %{y}<br>Params: 5.5K<extra></extra>",
         "line": {
          "color": "#EF553B"
         },
         "marker": {
          "color": "#EF553B",
          "size": 8
         },
         "mode": "lines+markers",
         "name": "5.5K params",
         "showlegend": false,
         "type": "scatter",
         "x": [
          3,
          33
         ],
         "xaxis": "x3",
         "y": [
          283.8420104980469,
          316.1528015136719
         ],
         "yaxis": "y3"
        },
        {
         "hovertemplate": "Dataset size: %{x}<br>Loss: %{y}<br>Params: 28.7K<extra></extra>",
         "line": {
          "color": "#00CC96"
         },
         "marker": {
          "color": "#00CC96",
          "size": 8
         },
         "mode": "lines+markers",
         "name": "28.7K params",
         "showlegend": false,
         "type": "scatter",
         "x": [
          3,
          33
         ],
         "xaxis": "x3",
         "y": [
          296.1905517578125,
          341.645751953125
         ],
         "yaxis": "y3"
        },
        {
         "hovertemplate": "Dataset size: %{x}<br>Loss: %{y}<br>Params: 970.0<extra></extra>",
         "line": {
          "color": "#636EFA"
         },
         "marker": {
          "color": "#636EFA",
          "size": 8
         },
         "mode": "lines+markers",
         "name": "970.0 params",
         "showlegend": false,
         "type": "scatter",
         "x": [
          3,
          33
         ],
         "xaxis": "x4",
         "y": [
          23.593008995056152,
          4.188255548477173
         ],
         "yaxis": "y4"
        },
        {
         "hovertemplate": "Dataset size: %{x}<br>Loss: %{y}<br>Params: 5.5K<extra></extra>",
         "line": {
          "color": "#EF553B"
         },
         "marker": {
          "color": "#EF553B",
          "size": 8
         },
         "mode": "lines+markers",
         "name": "5.5K params",
         "showlegend": false,
         "type": "scatter",
         "x": [
          3,
          33
         ],
         "xaxis": "x4",
         "y": [
          26.425698280334473,
          6.936044335365295
         ],
         "yaxis": "y4"
        },
        {
         "hovertemplate": "Dataset size: %{x}<br>Loss: %{y}<br>Params: 28.7K<extra></extra>",
         "line": {
          "color": "#00CC96"
         },
         "marker": {
          "color": "#00CC96",
          "size": 8
         },
         "mode": "lines+markers",
         "name": "28.7K params",
         "showlegend": false,
         "type": "scatter",
         "x": [
          3,
          33
         ],
         "xaxis": "x4",
         "y": [
          30.859365701675415,
          8.77305293083191
         ],
         "yaxis": "y4"
        }
       ],
       "layout": {
        "annotations": [
         {
          "font": {
           "size": 16
          },
          "showarrow": false,
          "text": "Overall Validation Loss",
          "x": 0.2125,
          "xanchor": "center",
          "xref": "paper",
          "y": 1,
          "yanchor": "bottom",
          "yref": "paper"
         },
         {
          "font": {
           "size": 16
          },
          "showarrow": false,
          "text": "Energy Loss",
          "x": 0.7875,
          "xanchor": "center",
          "xref": "paper",
          "y": 1,
          "yanchor": "bottom",
          "yref": "paper"
         },
         {
          "font": {
           "size": 16
          },
          "showarrow": false,
          "text": "Force Loss",
          "x": 0.2125,
          "xanchor": "center",
          "xref": "paper",
          "y": 0.425,
          "yanchor": "bottom",
          "yref": "paper"
         },
         {
          "font": {
           "size": 16
          },
          "showarrow": false,
          "text": "Stress Loss",
          "x": 0.7875,
          "xanchor": "center",
          "xref": "paper",
          "y": 0.425,
          "yanchor": "bottom",
          "yref": "paper"
         }
        ],
        "height": 1000,
        "legend": {
         "x": 0.99,
         "xanchor": "right",
         "y": 0.99,
         "yanchor": "top"
        },
        "template": {
         "data": {
          "bar": [
           {
            "error_x": {
             "color": "#2a3f5f"
            },
            "error_y": {
             "color": "#2a3f5f"
            },
            "marker": {
             "line": {
              "color": "white",
              "width": 0.5
             },
             "pattern": {
              "fillmode": "overlay",
              "size": 10,
              "solidity": 0.2
             }
            },
            "type": "bar"
           }
          ],
          "barpolar": [
           {
            "marker": {
             "line": {
              "color": "white",
              "width": 0.5
             },
             "pattern": {
              "fillmode": "overlay",
              "size": 10,
              "solidity": 0.2
             }
            },
            "type": "barpolar"
           }
          ],
          "carpet": [
           {
            "aaxis": {
             "endlinecolor": "#2a3f5f",
             "gridcolor": "#C8D4E3",
             "linecolor": "#C8D4E3",
             "minorgridcolor": "#C8D4E3",
             "startlinecolor": "#2a3f5f"
            },
            "baxis": {
             "endlinecolor": "#2a3f5f",
             "gridcolor": "#C8D4E3",
             "linecolor": "#C8D4E3",
             "minorgridcolor": "#C8D4E3",
             "startlinecolor": "#2a3f5f"
            },
            "type": "carpet"
           }
          ],
          "choropleth": [
           {
            "colorbar": {
             "outlinewidth": 0,
             "ticks": ""
            },
            "type": "choropleth"
           }
          ],
          "contour": [
           {
            "colorbar": {
             "outlinewidth": 0,
             "ticks": ""
            },
            "colorscale": [
             [
              0,
              "#0d0887"
             ],
             [
              0.1111111111111111,
              "#46039f"
             ],
             [
              0.2222222222222222,
              "#7201a8"
             ],
             [
              0.3333333333333333,
              "#9c179e"
             ],
             [
              0.4444444444444444,
              "#bd3786"
             ],
             [
              0.5555555555555556,
              "#d8576b"
             ],
             [
              0.6666666666666666,
              "#ed7953"
             ],
             [
              0.7777777777777778,
              "#fb9f3a"
             ],
             [
              0.8888888888888888,
              "#fdca26"
             ],
             [
              1,
              "#f0f921"
             ]
            ],
            "type": "contour"
           }
          ],
          "contourcarpet": [
           {
            "colorbar": {
             "outlinewidth": 0,
             "ticks": ""
            },
            "type": "contourcarpet"
           }
          ],
          "heatmap": [
           {
            "colorbar": {
             "outlinewidth": 0,
             "ticks": ""
            },
            "colorscale": [
             [
              0,
              "#0d0887"
             ],
             [
              0.1111111111111111,
              "#46039f"
             ],
             [
              0.2222222222222222,
              "#7201a8"
             ],
             [
              0.3333333333333333,
              "#9c179e"
             ],
             [
              0.4444444444444444,
              "#bd3786"
             ],
             [
              0.5555555555555556,
              "#d8576b"
             ],
             [
              0.6666666666666666,
              "#ed7953"
             ],
             [
              0.7777777777777778,
              "#fb9f3a"
             ],
             [
              0.8888888888888888,
              "#fdca26"
             ],
             [
              1,
              "#f0f921"
             ]
            ],
            "type": "heatmap"
           }
          ],
          "heatmapgl": [
           {
            "colorbar": {
             "outlinewidth": 0,
             "ticks": ""
            },
            "colorscale": [
             [
              0,
              "#0d0887"
             ],
             [
              0.1111111111111111,
              "#46039f"
             ],
             [
              0.2222222222222222,
              "#7201a8"
             ],
             [
              0.3333333333333333,
              "#9c179e"
             ],
             [
              0.4444444444444444,
              "#bd3786"
             ],
             [
              0.5555555555555556,
              "#d8576b"
             ],
             [
              0.6666666666666666,
              "#ed7953"
             ],
             [
              0.7777777777777778,
              "#fb9f3a"
             ],
             [
              0.8888888888888888,
              "#fdca26"
             ],
             [
              1,
              "#f0f921"
             ]
            ],
            "type": "heatmapgl"
           }
          ],
          "histogram": [
           {
            "marker": {
             "pattern": {
              "fillmode": "overlay",
              "size": 10,
              "solidity": 0.2
             }
            },
            "type": "histogram"
           }
          ],
          "histogram2d": [
           {
            "colorbar": {
             "outlinewidth": 0,
             "ticks": ""
            },
            "colorscale": [
             [
              0,
              "#0d0887"
             ],
             [
              0.1111111111111111,
              "#46039f"
             ],
             [
              0.2222222222222222,
              "#7201a8"
             ],
             [
              0.3333333333333333,
              "#9c179e"
             ],
             [
              0.4444444444444444,
              "#bd3786"
             ],
             [
              0.5555555555555556,
              "#d8576b"
             ],
             [
              0.6666666666666666,
              "#ed7953"
             ],
             [
              0.7777777777777778,
              "#fb9f3a"
             ],
             [
              0.8888888888888888,
              "#fdca26"
             ],
             [
              1,
              "#f0f921"
             ]
            ],
            "type": "histogram2d"
           }
          ],
          "histogram2dcontour": [
           {
            "colorbar": {
             "outlinewidth": 0,
             "ticks": ""
            },
            "colorscale": [
             [
              0,
              "#0d0887"
             ],
             [
              0.1111111111111111,
              "#46039f"
             ],
             [
              0.2222222222222222,
              "#7201a8"
             ],
             [
              0.3333333333333333,
              "#9c179e"
             ],
             [
              0.4444444444444444,
              "#bd3786"
             ],
             [
              0.5555555555555556,
              "#d8576b"
             ],
             [
              0.6666666666666666,
              "#ed7953"
             ],
             [
              0.7777777777777778,
              "#fb9f3a"
             ],
             [
              0.8888888888888888,
              "#fdca26"
             ],
             [
              1,
              "#f0f921"
             ]
            ],
            "type": "histogram2dcontour"
           }
          ],
          "mesh3d": [
           {
            "colorbar": {
             "outlinewidth": 0,
             "ticks": ""
            },
            "type": "mesh3d"
           }
          ],
          "parcoords": [
           {
            "line": {
             "colorbar": {
              "outlinewidth": 0,
              "ticks": ""
             }
            },
            "type": "parcoords"
           }
          ],
          "pie": [
           {
            "automargin": true,
            "type": "pie"
           }
          ],
          "scatter": [
           {
            "fillpattern": {
             "fillmode": "overlay",
             "size": 10,
             "solidity": 0.2
            },
            "type": "scatter"
           }
          ],
          "scatter3d": [
           {
            "line": {
             "colorbar": {
              "outlinewidth": 0,
              "ticks": ""
             }
            },
            "marker": {
             "colorbar": {
              "outlinewidth": 0,
              "ticks": ""
             }
            },
            "type": "scatter3d"
           }
          ],
          "scattercarpet": [
           {
            "marker": {
             "colorbar": {
              "outlinewidth": 0,
              "ticks": ""
             }
            },
            "type": "scattercarpet"
           }
          ],
          "scattergeo": [
           {
            "marker": {
             "colorbar": {
              "outlinewidth": 0,
              "ticks": ""
             }
            },
            "type": "scattergeo"
           }
          ],
          "scattergl": [
           {
            "marker": {
             "colorbar": {
              "outlinewidth": 0,
              "ticks": ""
             }
            },
            "type": "scattergl"
           }
          ],
          "scattermapbox": [
           {
            "marker": {
             "colorbar": {
              "outlinewidth": 0,
              "ticks": ""
             }
            },
            "type": "scattermapbox"
           }
          ],
          "scatterpolar": [
           {
            "marker": {
             "colorbar": {
              "outlinewidth": 0,
              "ticks": ""
             }
            },
            "type": "scatterpolar"
           }
          ],
          "scatterpolargl": [
           {
            "marker": {
             "colorbar": {
              "outlinewidth": 0,
              "ticks": ""
             }
            },
            "type": "scatterpolargl"
           }
          ],
          "scatterternary": [
           {
            "marker": {
             "colorbar": {
              "outlinewidth": 0,
              "ticks": ""
             }
            },
            "type": "scatterternary"
           }
          ],
          "surface": [
           {
            "colorbar": {
             "outlinewidth": 0,
             "ticks": ""
            },
            "colorscale": [
             [
              0,
              "#0d0887"
             ],
             [
              0.1111111111111111,
              "#46039f"
             ],
             [
              0.2222222222222222,
              "#7201a8"
             ],
             [
              0.3333333333333333,
              "#9c179e"
             ],
             [
              0.4444444444444444,
              "#bd3786"
             ],
             [
              0.5555555555555556,
              "#d8576b"
             ],
             [
              0.6666666666666666,
              "#ed7953"
             ],
             [
              0.7777777777777778,
              "#fb9f3a"
             ],
             [
              0.8888888888888888,
              "#fdca26"
             ],
             [
              1,
              "#f0f921"
             ]
            ],
            "type": "surface"
           }
          ],
          "table": [
           {
            "cells": {
             "fill": {
              "color": "#EBF0F8"
             },
             "line": {
              "color": "white"
             }
            },
            "header": {
             "fill": {
              "color": "#C8D4E3"
             },
             "line": {
              "color": "white"
             }
            },
            "type": "table"
           }
          ]
         },
         "layout": {
          "annotationdefaults": {
           "arrowcolor": "#2a3f5f",
           "arrowhead": 0,
           "arrowwidth": 1
          },
          "autotypenumbers": "strict",
          "coloraxis": {
           "colorbar": {
            "outlinewidth": 0,
            "ticks": ""
           }
          },
          "colorscale": {
           "diverging": [
            [
             0,
             "#8e0152"
            ],
            [
             0.1,
             "#c51b7d"
            ],
            [
             0.2,
             "#de77ae"
            ],
            [
             0.3,
             "#f1b6da"
            ],
            [
             0.4,
             "#fde0ef"
            ],
            [
             0.5,
             "#f7f7f7"
            ],
            [
             0.6,
             "#e6f5d0"
            ],
            [
             0.7,
             "#b8e186"
            ],
            [
             0.8,
             "#7fbc41"
            ],
            [
             0.9,
             "#4d9221"
            ],
            [
             1,
             "#276419"
            ]
           ],
           "sequential": [
            [
             0,
             "#0d0887"
            ],
            [
             0.1111111111111111,
             "#46039f"
            ],
            [
             0.2222222222222222,
             "#7201a8"
            ],
            [
             0.3333333333333333,
             "#9c179e"
            ],
            [
             0.4444444444444444,
             "#bd3786"
            ],
            [
             0.5555555555555556,
             "#d8576b"
            ],
            [
             0.6666666666666666,
             "#ed7953"
            ],
            [
             0.7777777777777778,
             "#fb9f3a"
            ],
            [
             0.8888888888888888,
             "#fdca26"
            ],
            [
             1,
             "#f0f921"
            ]
           ],
           "sequentialminus": [
            [
             0,
             "#0d0887"
            ],
            [
             0.1111111111111111,
             "#46039f"
            ],
            [
             0.2222222222222222,
             "#7201a8"
            ],
            [
             0.3333333333333333,
             "#9c179e"
            ],
            [
             0.4444444444444444,
             "#bd3786"
            ],
            [
             0.5555555555555556,
             "#d8576b"
            ],
            [
             0.6666666666666666,
             "#ed7953"
            ],
            [
             0.7777777777777778,
             "#fb9f3a"
            ],
            [
             0.8888888888888888,
             "#fdca26"
            ],
            [
             1,
             "#f0f921"
            ]
           ]
          },
          "colorway": [
           "#636efa",
           "#EF553B",
           "#00cc96",
           "#ab63fa",
           "#FFA15A",
           "#19d3f3",
           "#FF6692",
           "#B6E880",
           "#FF97FF",
           "#FECB52"
          ],
          "font": {
           "color": "#2a3f5f"
          },
          "geo": {
           "bgcolor": "white",
           "lakecolor": "white",
           "landcolor": "white",
           "showlakes": true,
           "showland": true,
           "subunitcolor": "#C8D4E3"
          },
          "hoverlabel": {
           "align": "left"
          },
          "hovermode": "closest",
          "mapbox": {
           "style": "light"
          },
          "paper_bgcolor": "white",
          "plot_bgcolor": "white",
          "polar": {
           "angularaxis": {
            "gridcolor": "#EBF0F8",
            "linecolor": "#EBF0F8",
            "ticks": ""
           },
           "bgcolor": "white",
           "radialaxis": {
            "gridcolor": "#EBF0F8",
            "linecolor": "#EBF0F8",
            "ticks": ""
           }
          },
          "scene": {
           "xaxis": {
            "backgroundcolor": "white",
            "gridcolor": "#DFE8F3",
            "gridwidth": 2,
            "linecolor": "#EBF0F8",
            "showbackground": true,
            "ticks": "",
            "zerolinecolor": "#EBF0F8"
           },
           "yaxis": {
            "backgroundcolor": "white",
            "gridcolor": "#DFE8F3",
            "gridwidth": 2,
            "linecolor": "#EBF0F8",
            "showbackground": true,
            "ticks": "",
            "zerolinecolor": "#EBF0F8"
           },
           "zaxis": {
            "backgroundcolor": "white",
            "gridcolor": "#DFE8F3",
            "gridwidth": 2,
            "linecolor": "#EBF0F8",
            "showbackground": true,
            "ticks": "",
            "zerolinecolor": "#EBF0F8"
           }
          },
          "shapedefaults": {
           "line": {
            "color": "#2a3f5f"
           }
          },
          "ternary": {
           "aaxis": {
            "gridcolor": "#DFE8F3",
            "linecolor": "#A2B1C6",
            "ticks": ""
           },
           "baxis": {
            "gridcolor": "#DFE8F3",
            "linecolor": "#A2B1C6",
            "ticks": ""
           },
           "bgcolor": "white",
           "caxis": {
            "gridcolor": "#DFE8F3",
            "linecolor": "#A2B1C6",
            "ticks": ""
           }
          },
          "title": {
           "x": 0.05
          },
          "xaxis": {
           "automargin": true,
           "gridcolor": "#EBF0F8",
           "linecolor": "#EBF0F8",
           "ticks": "",
           "title": {
            "standoff": 15
           },
           "zerolinecolor": "#EBF0F8",
           "zerolinewidth": 2
          },
          "yaxis": {
           "automargin": true,
           "gridcolor": "#EBF0F8",
           "linecolor": "#EBF0F8",
           "ticks": "",
           "title": {
            "standoff": 15
           },
           "zerolinecolor": "#EBF0F8",
           "zerolinewidth": 2
          }
         }
        },
        "title": {
         "text": ""
        },
        "width": 1250,
        "xaxis": {
         "anchor": "y",
         "domain": [
          0,
          0.425
         ],
         "title": {
          "text": "Dataset Size"
         },
         "type": "log"
        },
        "xaxis2": {
         "anchor": "y2",
         "domain": [
          0.575,
          1
         ],
         "title": {
          "text": "Dataset Size"
         },
         "type": "log"
        },
        "xaxis3": {
         "anchor": "y3",
         "domain": [
          0,
          0.425
         ],
         "title": {
          "text": "Dataset Size"
         },
         "type": "log"
        },
        "xaxis4": {
         "anchor": "y4",
         "domain": [
          0.575,
          1
         ],
         "title": {
          "text": "Dataset Size"
         },
         "type": "log"
        },
        "yaxis": {
         "anchor": "x",
         "domain": [
          0.575,
          1
         ],
         "title": {
          "text": "Loss Value"
         }
        },
        "yaxis2": {
         "anchor": "x2",
         "domain": [
          0.575,
          1
         ],
         "title": {
          "text": "Loss Value"
         }
        },
        "yaxis3": {
         "anchor": "x3",
         "domain": [
          0,
          0.425
         ],
         "title": {
          "text": "Loss Value"
         }
        },
        "yaxis4": {
         "anchor": "x4",
         "domain": [
          0,
          0.425
         ],
         "title": {
          "text": "Loss Value"
         }
        }
       }
      },
      "image/png": "[encoded data removed]",
      "text/html": [
       "<div>                            <div id=\"cf3cc434-ea60-4ea4-b223-9994f2777ba3\" class=\"plotly-graph-div\" style=\"height:1000px; width:1250px;\"></div>            <script type=\"text/javascript\">                require([\"plotly\"], function(Plotly) {                    window.PLOTLYENV=window.PLOTLYENV || {};                                    if (document.getElementById(\"cf3cc434-ea60-4ea4-b223-9994f2777ba3\")) {                    Plotly.newPlot(                        \"cf3cc434-ea60-4ea4-b223-9994f2777ba3\",                        [{\"hovertemplate\":\"Dataset size: %{x}\\u003cbr\\u003eLoss: %{y}\\u003cbr\\u003eParams: 970.0\\u003cextra\\u003e\\u003c\\u002fextra\\u003e\",\"line\":{\"color\":\"#636EFA\"},\"marker\":{\"color\":\"#636EFA\",\"size\":8},\"mode\":\"lines+markers\",\"name\":\"970.0 params\",\"showlegend\":true,\"x\":[3,33],\"y\":[302.6672668457031,279.15960693359375],\"type\":\"scatter\",\"xaxis\":\"x\",\"yaxis\":\"y\"},{\"hovertemplate\":\"Dataset size: %{x}\\u003cbr\\u003eLoss: %{y}\\u003cbr\\u003eParams: 5.5K\\u003cextra\\u003e\\u003c\\u002fextra\\u003e\",\"line\":{\"color\":\"#EF553B\"},\"marker\":{\"color\":\"#EF553B\",\"size\":8},\"mode\":\"lines+markers\",\"name\":\"5.5K params\",\"showlegend\":true,\"x\":[3,33],\"y\":[315.5051574707031,326.2633972167969],\"type\":\"scatter\",\"xaxis\":\"x\",\"yaxis\":\"y\"},{\"hovertemplate\":\"Dataset size: %{x}\\u003cbr\\u003eLoss: %{y}\\u003cbr\\u003eParams: 28.7K\\u003cextra\\u003e\\u003c\\u002fextra\\u003e\",\"line\":{\"color\":\"#00CC96\"},\"marker\":{\"color\":\"#00CC96\",\"size\":8},\"mode\":\"lines+markers\",\"name\":\"28.7K params\",\"showlegend\":true,\"x\":[3,33],\"y\":[331.2684020996094,353.53875732421875],\"type\":\"scatter\",\"xaxis\":\"x\",\"yaxis\":\"y\"},{\"hovertemplate\":\"Dataset size: %{x}\\u003cbr\\u003eLoss: %{y}\\u003cbr\\u003eParams: 970.0\\u003cextra\\u003e\\u003c\\u002fextra\\u003e\",\"line\":{\"color\":\"#636EFA\"},\"marker\":{\"color\":\"#636EFA\",\"size\":8},\"mode\":\"lines+markers\",\"name\":\"970.0 params\",\"showlegend\":false,\"x\":[3,33],\"y\":[7.828356742858887,3.353917360305786],\"type\":\"scatter\",\"xaxis\":\"x2\",\"yaxis\":\"y2\"},{\"hovertemplate\":\"Dataset size: %{x}\\u003cbr\\u003eLoss: %{y}\\u003cbr\\u003eParams: 5.5K\\u003cextra\\u003e\\u003c\\u002fextra\\u003e\",\"line\":{\"color\":\"#EF553B\"},\"marker\":{\"color\":\"#EF553B\",\"size\":8},\"mode\":\"lines+markers\",\"name\":\"5.5K params\",\"showlegend\":false,\"x\":[3,33],\"y\":[5.237451076507568,3.1745386123657227],\"type\":\"scatter\",\"xaxis\":\"x2\",\"yaxis\":\"y2\"},{\"hovertemplate\":\"Dataset size: %{x}\\u003cbr\\u003eLoss: %{y}\\u003cbr\\u003eParams: 28.7K\\u003cextra\\u003e\\u003c\\u002fextra\\u003e\",\"line\":{\"color\":\"#00CC96\"},\"marker\":{\"color\":\"#00CC96\",\"size\":8},\"mode\":\"lines+markers\",\"name\":\"28.7K params\",\"showlegend\":false,\"x\":[3,33],\"y\":[4.218497276306152,3.1199638843536377],\"type\":\"scatter\",\"xaxis\":\"x2\",\"yaxis\":\"y2\"},{\"hovertemplate\":\"Dataset size: %{x}\\u003cbr\\u003eLoss: %{y}\\u003cbr\\u003eParams: 970.0\\u003cextra\\u003e\\u003c\\u002fextra\\u003e\",\"line\":{\"color\":\"#636EFA\"},\"marker\":{\"color\":\"#636EFA\",\"size\":8},\"mode\":\"lines+markers\",\"name\":\"970.0 params\",\"showlegend\":false,\"x\":[3,33],\"y\":[271.2458801269531,271.617431640625],\"type\":\"scatter\",\"xaxis\":\"x3\",\"yaxis\":\"y3\"},{\"hovertemplate\":\"Dataset size: %{x}\\u003cbr\\u003eLoss: %{y}\\u003cbr\\u003eParams: 5.5K\\u003cextra\\u003e\\u003c\\u002fextra\\u003e\",\"line\":{\"color\":\"#EF553B\"},\"marker\":{\"color\":\"#EF553B\",\"size\":8},\"mode\":\"lines+markers\",\"name\":\"5.5K params\",\"showlegend\":false,\"x\":[3,33],\"y\":[283.8420104980469,316.1528015136719],\"type\":\"scatter\",\"xaxis\":\"x3\",\"yaxis\":\"y3\"},{\"hovertemplate\":\"Dataset size: %{x}\\u003cbr\\u003eLoss: %{y}\\u003cbr\\u003eParams: 28.7K\\u003cextra\\u003e\\u003c\\u002fextra\\u003e\",\"line\":{\"color\":\"#00CC96\"},\"marker\":{\"color\":\"#00CC96\",\"size\":8},\"mode\":\"lines+markers\",\"name\":\"28.7K params\",\"showlegend\":false,\"x\":[3,33],\"y\":[296.1905517578125,341.645751953125],\"type\":\"scatter\",\"xaxis\":\"x3\",\"yaxis\":\"y3\"},{\"hovertemplate\":\"Dataset size: %{x}\\u003cbr\\u003eLoss: %{y}\\u003cbr\\u003eParams: 970.0\\u003cextra\\u003e\\u003c\\u002fextra\\u003e\",\"line\":{\"color\":\"#636EFA\"},\"marker\":{\"color\":\"#636EFA\",\"size\":8},\"mode\":\"lines+markers\",\"name\":\"970.0 params\",\"showlegend\":false,\"x\":[3,33],\"y\":[23.593008995056152,4.188255548477173],\"type\":\"scatter\",\"xaxis\":\"x4\",\"yaxis\":\"y4\"},{\"hovertemplate\":\"Dataset size: %{x}\\u003cbr\\u003eLoss: %{y}\\u003cbr\\u003eParams: 5.5K\\u003cextra\\u003e\\u003c\\u002fextra\\u003e\",\"line\":{\"color\":\"#EF553B\"},\"marker\":{\"color\":\"#EF553B\",\"size\":8},\"mode\":\"lines+markers\",\"name\":\"5.5K params\",\"showlegend\":false,\"x\":[3,33],\"y\":[26.425698280334473,6.936044335365295],\"type\":\"scatter\",\"xaxis\":\"x4\",\"yaxis\":\"y4\"},{\"hovertemplate\":\"Dataset size: %{x}\\u003cbr\\u003eLoss: %{y}\\u003cbr\\u003eParams: 28.7K\\u003cextra\\u003e\\u003c\\u002fextra\\u003e\",\"line\":{\"color\":\"#00CC96\"},\"marker\":{\"color\":\"#00CC96\",\"size\":8},\"mode\":\"lines+markers\",\"name\":\"28.7K params\",\"showlegend\":false,\"x\":[3,33],\"y\":[30.859365701675415,8.77305293083191],\"type\":\"scatter\",\"xaxis\":\"x4\",\"yaxis\":\"y4\"}],                        {\"template\":{\"data\":{\"barpolar\":[{\"marker\":{\"line\":{\"color\":\"white\",\"width\":0.5},\"pattern\":{\"fillmode\":\"overlay\",\"size\":10,\"solidity\":0.2}},\"type\":\"barpolar\"}],\"bar\":[{\"error_x\":{\"color\":\"#2a3f5f\"},\"error_y\":{\"color\":\"#2a3f5f\"},\"marker\":{\"line\":{\"color\":\"white\",\"width\":0.5},\"pattern\":{\"fillmode\":\"overlay\",\"size\":10,\"solidity\":0.2}},\"type\":\"bar\"}],\"carpet\":[{\"aaxis\":{\"endlinecolor\":\"#2a3f5f\",\"gridcolor\":\"#C8D4E3\",\"linecolor\":\"#C8D4E3\",\"minorgridcolor\":\"#C8D4E3\",\"startlinecolor\":\"#2a3f5f\"},\"baxis\":{\"endlinecolor\":\"#2a3f5f\",\"gridcolor\":\"#C8D4E3\",\"linecolor\":\"#C8D4E3\",\"minorgridcolor\":\"#C8D4E3\",\"startlinecolor\":\"#2a3f5f\"},\"type\":\"carpet\"}],\"choropleth\":[{\"colorbar\":{\"outlinewidth\":0,\"ticks\":\"\"},\"type\":\"choropleth\"}],\"contourcarpet\":[{\"colorbar\":{\"outlinewidth\":0,\"ticks\":\"\"},\"type\":\"contourcarpet\"}],\"contour\":[{\"colorbar\":{\"outlinewidth\":0,\"ticks\":\"\"},\"colorscale\":[[0.0,\"#0d0887\"],[0.1111111111111111,\"#46039f\"],[0.2222222222222222,\"#7201a8\"],[0.3333333333333333,\"#9c179e\"],[0.4444444444444444,\"#bd3786\"],[0.5555555555555556,\"#d8576b\"],[0.6666666666666666,\"#ed7953\"],[0.7777777777777778,\"#fb9f3a\"],[0.8888888888888888,\"#fdca26\"],[1.0,\"#f0f921\"]],\"type\":\"contour\"}],\"heatmapgl\":[{\"colorbar\":{\"outlinewidth\":0,\"ticks\":\"\"},\"colorscale\":[[0.0,\"#0d0887\"],[0.1111111111111111,\"#46039f\"],[0.2222222222222222,\"#7201a8\"],[0.3333333333333333,\"#9c179e\"],[0.4444444444444444,\"#bd3786\"],[0.5555555555555556,\"#d8576b\"],[0.6666666666666666,\"#ed7953\"],[0.7777777777777778,\"#fb9f3a\"],[0.8888888888888888,\"#fdca26\"],[1.0,\"#f0f921\"]],\"type\":\"heatmapgl\"}],\"heatmap\":[{\"colorbar\":{\"outlinewidth\":0,\"ticks\":\"\"},\"colorscale\":[[0.0,\"#0d0887\"],[0.1111111111111111,\"#46039f\"],[0.2222222222222222,\"#7201a8\"],[0.3333333333333333,\"#9c179e\"],[0.4444444444444444,\"#bd3786\"],[0.5555555555555556,\"#d8576b\"],[0.6666666666666666,\"#ed7953\"],[0.7777777777777778,\"#fb9f3a\"],[0.8888888888888888,\"#fdca26\"],[1.0,\"#f0f921\"]],\"type\":\"heatmap\"}],\"histogram2dcontour\":[{\"colorbar\":{\"outlinewidth\":0,\"ticks\":\"\"},\"colorscale\":[[0.0,\"#0d0887\"],[0.1111111111111111,\"#46039f\"],[0.2222222222222222,\"#7201a8\"],[0.3333333333333333,\"#9c179e\"],[0.4444444444444444,\"#bd3786\"],[0.5555555555555556,\"#d8576b\"],[0.6666666666666666,\"#ed7953\"],[0.7777777777777778,\"#fb9f3a\"],[0.8888888888888888,\"#fdca26\"],[1.0,\"#f0f921\"]],\"type\":\"histogram2dcontour\"}],\"histogram2d\":[{\"colorbar\":{\"outlinewidth\":0,\"ticks\":\"\"},\"colorscale\":[[0.0,\"#0d0887\"],[0.1111111111111111,\"#46039f\"],[0.2222222222222222,\"#7201a8\"],[0.3333333333333333,\"#9c179e\"],[0.4444444444444444,\"#bd3786\"],[0.5555555555555556,\"#d8576b\"],[0.6666666666666666,\"#ed7953\"],[0.7777777777777778,\"#fb9f3a\"],[0.8888888888888888,\"#fdca26\"],[1.0,\"#f0f921\"]],\"type\":\"histogram2d\"}],\"histogram\":[{\"marker\":{\"pattern\":{\"fillmode\":\"overlay\",\"size\":10,\"solidity\":0.2}},\"type\":\"histogram\"}],\"mesh3d\":[{\"colorbar\":{\"outlinewidth\":0,\"ticks\":\"\"},\"type\":\"mesh3d\"}],\"parcoords\":[{\"line\":{\"colorbar\":{\"outlinewidth\":0,\"ticks\":\"\"}},\"type\":\"parcoords\"}],\"pie\":[{\"automargin\":true,\"type\":\"pie\"}],\"scatter3d\":[{\"line\":{\"colorbar\":{\"outlinewidth\":0,\"ticks\":\"\"}},\"marker\":{\"colorbar\":{\"outlinewidth\":0,\"ticks\":\"\"}},\"type\":\"scatter3d\"}],\"scattercarpet\":[{\"marker\":{\"colorbar\":{\"outlinewidth\":0,\"ticks\":\"\"}},\"type\":\"scattercarpet\"}],\"scattergeo\":[{\"marker\":{\"colorbar\":{\"outlinewidth\":0,\"ticks\":\"\"}},\"type\":\"scattergeo\"}],\"scattergl\":[{\"marker\":{\"colorbar\":{\"outlinewidth\":0,\"ticks\":\"\"}},\"type\":\"scattergl\"}],\"scattermapbox\":[{\"marker\":{\"colorbar\":{\"outlinewidth\":0,\"ticks\":\"\"}},\"type\":\"scattermapbox\"}],\"scatterpolargl\":[{\"marker\":{\"colorbar\":{\"outlinewidth\":0,\"ticks\":\"\"}},\"type\":\"scatterpolargl\"}],\"scatterpolar\":[{\"marker\":{\"colorbar\":{\"outlinewidth\":0,\"ticks\":\"\"}},\"type\":\"scatterpolar\"}],\"scatter\":[{\"fillpattern\":{\"fillmode\":\"overlay\",\"size\":10,\"solidity\":0.2},\"type\":\"scatter\"}],\"scatterternary\":[{\"marker\":{\"colorbar\":{\"outlinewidth\":0,\"ticks\":\"\"}},\"type\":\"scatterternary\"}],\"surface\":[{\"colorbar\":{\"outlinewidth\":0,\"ticks\":\"\"},\"colorscale\":[[0.0,\"#0d0887\"],[0.1111111111111111,\"#46039f\"],[0.2222222222222222,\"#7201a8\"],[0.3333333333333333,\"#9c179e\"],[0.4444444444444444,\"#bd3786\"],[0.5555555555555556,\"#d8576b\"],[0.6666666666666666,\"#ed7953\"],[0.7777777777777778,\"#fb9f3a\"],[0.8888888888888888,\"#fdca26\"],[1.0,\"#f0f921\"]],\"type\":\"surface\"}],\"table\":[{\"cells\":{\"fill\":{\"color\":\"#EBF0F8\"},\"line\":{\"color\":\"white\"}},\"header\":{\"fill\":{\"color\":\"#C8D4E3\"},\"line\":{\"color\":\"white\"}},\"type\":\"table\"}]},\"layout\":{\"annotationdefaults\":{\"arrowcolor\":\"#2a3f5f\",\"arrowhead\":0,\"arrowwidth\":1},\"autotypenumbers\":\"strict\",\"coloraxis\":{\"colorbar\":{\"outlinewidth\":0,\"ticks\":\"\"}},\"colorscale\":{\"diverging\":[[0,\"#8e0152\"],[0.1,\"#c51b7d\"],[0.2,\"#de77ae\"],[0.3,\"#f1b6da\"],[0.4,\"#fde0ef\"],[0.5,\"#f7f7f7\"],[0.6,\"#e6f5d0\"],[0.7,\"#b8e186\"],[0.8,\"#7fbc41\"],[0.9,\"#4d9221\"],[1,\"#276419\"]],\"sequential\":[[0.0,\"#0d0887\"],[0.1111111111111111,\"#46039f\"],[0.2222222222222222,\"#7201a8\"],[0.3333333333333333,\"#9c179e\"],[0.4444444444444444,\"#bd3786\"],[0.5555555555555556,\"#d8576b\"],[0.6666666666666666,\"#ed7953\"],[0.7777777777777778,\"#fb9f3a\"],[0.8888888888888888,\"#fdca26\"],[1.0,\"#f0f921\"]],\"sequentialminus\":[[0.0,\"#0d0887\"],[0.1111111111111111,\"#46039f\"],[0.2222222222222222,\"#7201a8\"],[0.3333333333333333,\"#9c179e\"],[0.4444444444444444,\"#bd3786\"],[0.5555555555555556,\"#d8576b\"],[0.6666666666666666,\"#ed7953\"],[0.7777777777777778,\"#fb9f3a\"],[0.8888888888888888,\"#fdca26\"],[1.0,\"#f0f921\"]]},\"colorway\":[\"#636efa\",\"#EF553B\",\"#00cc96\",\"#ab63fa\",\"#FFA15A\",\"#19d3f3\",\"#FF6692\",\"#B6E880\",\"#FF97FF\",\"#FECB52\"],\"font\":{\"color\":\"#2a3f5f\"},\"geo\":{\"bgcolor\":\"white\",\"lakecolor\":\"white\",\"landcolor\":\"white\",\"showlakes\":true,\"showland\":true,\"subunitcolor\":\"#C8D4E3\"},\"hoverlabel\":{\"align\":\"left\"},\"hovermode\":\"closest\",\"mapbox\":{\"style\":\"light\"},\"paper_bgcolor\":\"white\",\"plot_bgcolor\":\"white\",\"polar\":{\"angularaxis\":{\"gridcolor\":\"#EBF0F8\",\"linecolor\":\"#EBF0F8\",\"ticks\":\"\"},\"bgcolor\":\"white\",\"radialaxis\":{\"gridcolor\":\"#EBF0F8\",\"linecolor\":\"#EBF0F8\",\"ticks\":\"\"}},\"scene\":{\"xaxis\":{\"backgroundcolor\":\"white\",\"gridcolor\":\"#DFE8F3\",\"gridwidth\":2,\"linecolor\":\"#EBF0F8\",\"showbackground\":true,\"ticks\":\"\",\"zerolinecolor\":\"#EBF0F8\"},\"yaxis\":{\"backgroundcolor\":\"white\",\"gridcolor\":\"#DFE8F3\",\"gridwidth\":2,\"linecolor\":\"#EBF0F8\",\"showbackground\":true,\"ticks\":\"\",\"zerolinecolor\":\"#EBF0F8\"},\"zaxis\":{\"backgroundcolor\":\"white\",\"gridcolor\":\"#DFE8F3\",\"gridwidth\":2,\"linecolor\":\"#EBF0F8\",\"showbackground\":true,\"ticks\":\"\",\"zerolinecolor\":\"#EBF0F8\"}},\"shapedefaults\":{\"line\":{\"color\":\"#2a3f5f\"}},\"ternary\":{\"aaxis\":{\"gridcolor\":\"#DFE8F3\",\"linecolor\":\"#A2B1C6\",\"ticks\":\"\"},\"baxis\":{\"gridcolor\":\"#DFE8F3\",\"linecolor\":\"#A2B1C6\",\"ticks\":\"\"},\"bgcolor\":\"white\",\"caxis\":{\"gridcolor\":\"#DFE8F3\",\"linecolor\":\"#A2B1C6\",\"ticks\":\"\"}},\"title\":{\"x\":0.05},\"xaxis\":{\"automargin\":true,\"gridcolor\":\"#EBF0F8\",\"linecolor\":\"#EBF0F8\",\"ticks\":\"\",\"title\":{\"standoff\":15},\"zerolinecolor\":\"#EBF0F8\",\"zerolinewidth\":2},\"yaxis\":{\"automargin\":true,\"gridcolor\":\"#EBF0F8\",\"linecolor\":\"#EBF0F8\",\"ticks\":\"\",\"title\":{\"standoff\":15},\"zerolinecolor\":\"#EBF0F8\",\"zerolinewidth\":2}}},\"xaxis\":{\"anchor\":\"y\",\"domain\":[0.0,0.425],\"title\":{\"text\":\"Dataset Size\"},\"type\":\"log\"},\"yaxis\":{\"anchor\":\"x\",\"domain\":[0.575,1.0],\"title\":{\"text\":\"Loss Value\"}},\"xaxis2\":{\"anchor\":\"y2\",\"domain\":[0.575,1.0],\"title\":{\"text\":\"Dataset Size\"},\"type\":\"log\"},\"yaxis2\":{\"anchor\":\"x2\",\"domain\":[0.575,1.0],\"title\":{\"text\":\"Loss Value\"}},\"xaxis3\":{\"anchor\":\"y3\",\"domain\":[0.0,0.425],\"title\":{\"text\":\"Dataset Size\"},\"type\":\"log\"},\"yaxis3\":{\"anchor\":\"x3\",\"domain\":[0.0,0.425],\"title\":{\"text\":\"Loss Value\"}},\"xaxis4\":{\"anchor\":\"y4\",\"domain\":[0.575,1.0],\"title\":{\"text\":\"Dataset Size\"},\"type\":\"log\"},\"yaxis4\":{\"anchor\":\"x4\",\"domain\":[0.0,0.425],\"title\":{\"text\":\"Loss Value\"}},\"annotations\":[{\"font\":{\"size\":16},\"showarrow\":false,\"text\":\"Overall Validation Loss\",\"x\":0.2125,\"xanchor\":\"center\",\"xref\":\"paper\",\"y\":1.0,\"yanchor\":\"bottom\",\"yref\":\"paper\"},{\"font\":{\"size\":16},\"showarrow\":false,\"text\":\"Energy Loss\",\"x\":0.7875,\"xanchor\":\"center\",\"xref\":\"paper\",\"y\":1.0,\"yanchor\":\"bottom\",\"yref\":\"paper\"},{\"font\":{\"size\":16},\"showarrow\":false,\"text\":\"Force Loss\",\"x\":0.2125,\"xanchor\":\"center\",\"xref\":\"paper\",\"y\":0.425,\"yanchor\":\"bottom\",\"yref\":\"paper\"},{\"font\":{\"size\":16},\"showarrow\":false,\"text\":\"Stress Loss\",\"x\":0.7875,\"xanchor\":\"center\",\"xref\":\"paper\",\"y\":0.425,\"yanchor\":\"bottom\",\"yref\":\"paper\"}],\"legend\":{\"yanchor\":\"top\",\"y\":0.99,\"xanchor\":\"right\",\"x\":0.99},\"title\":{\"text\":\"\"},\"width\":1250,\"height\":1000},                        {\"responsive\": true}                    ).then(function(){\n",
       "                            \n",
       "var gd = document.getElementById('cf3cc434-ea60-4ea4-b223-9994f2777ba3');\n",
       "var x = new MutationObserver(function (mutations, observer) {{\n",
       "        var display = window.getComputedStyle(gd).display;\n",
       "        if (!display || display === 'none') {{\n",
       "            console.log([gd, 'removed!']);\n",
       "            Plotly.purge(gd);\n",
       "            observer.disconnect();\n",
       "        }}\n",
       "}});\n",
       "\n",
       "// Listen for the removal of the full notebook cells\n",
       "var notebookContainer = gd.closest('#notebook-container');\n",
       "if (notebookContainer) {{\n",
       "    x.observe(notebookContainer, {childList: true});\n",
       "}}\n",
       "\n",
       "// Listen for the clearing of the current output cell\n",
       "var outputEl = gd.closest('.output');\n",
       "if (outputEl) {{\n",
       "    x.observe(outputEl, {childList: true});\n",
       "}}\n",
       "\n",
       "                        })                };                });            </script>        </div>"
      ]
     },
     "metadata": {},
     "output_type": "display_data"
    }
   ],
   "source": [
    "if 'best_losses' in globals() and best_losses:\n",
    "    print(\"Creating model comparison plots...\")\n",
    "    fig = plot_model_comparisons(best_losses)\n",
    "    if fig:\n",
    "        fig.show()\n",
    "else:\n",
    "    print(\"No data loaded. Please load data first.\")"
   ]
  },
  {
   "cell_type": "code",
   "execution_count": 110,
   "metadata": {},
   "outputs": [
    {
     "data": {
      "application/vnd.jupyter.widget-view+json": {
       "model_id": "8fb7294eb69241bba1f19fee2da79098",
       "version_major": 2,
       "version_minor": 0
      },
      "text/plain": [
       "Dropdown(description='Dataset Size:', layout=Layout(width='300px'), options=(('Size: 3', 3), ('Size: 33', 33))…"
      ]
     },
     "metadata": {},
     "output_type": "display_data"
    },
    {
     "data": {
      "application/vnd.jupyter.widget-view+json": {
       "model_id": "b340ef49df9048d8891640fcae3f1d41",
       "version_major": 2,
       "version_minor": 0
      },
      "text/plain": [
       "Output()"
      ]
     },
     "metadata": {},
     "output_type": "display_data"
    }
   ],
   "source": [
    "if 'df' in globals() and not df.empty:\n",
    "    dataset_sizes = sorted(df['dataset_size'].unique())\n",
    "    if dataset_sizes:\n",
    "        dataset_dropdown = widgets.Dropdown(\n",
    "            options=[(f\"Size: {ds}\", ds) for ds in dataset_sizes],\n",
    "            value=dataset_sizes[0],\n",
    "            description='Dataset Size:',\n",
    "            style={'description_width': 'initial'},\n",
    "            layout=widgets.Layout(width='300px')\n",
    "        )        \n",
    "        loss_plot_output = widgets.Output()\n",
    "        def on_dataset_change(change):\n",
    "            with loss_plot_output:\n",
    "                loss_plot_output.clear_output()\n",
    "                dataset_size = change['new']\n",
    "                print(f\"Generating loss plots for dataset size {dataset_size}...\")\n",
    "                fig = plot_comprehensive_loss_curves(df, dataset_size)\n",
    "                if fig:\n",
    "                    fig.show()\n",
    "                else:\n",
    "                    print(f\"Could not create plots for dataset size {dataset_size}.\")        \n",
    "        dataset_dropdown.observe(on_dataset_change, names='value')\n",
    "        display(dataset_dropdown)\n",
    "        display(loss_plot_output)        \n",
    "        with loss_plot_output:\n",
    "            print(f\"Generating loss plots for dataset size {dataset_sizes[0]}...\")\n",
    "            fig = plot_comprehensive_loss_curves(df, dataset_sizes[0])\n",
    "            if fig:\n",
    "                fig.show()\n",
    "    else:\n",
    "        print(\"No dataset sizes found in the data.\")\n",
    "else:\n",
    "    print(\"No data loaded. Please load data first.\")"
   ]
  },
  {
   "cell_type": "code",
   "execution_count": 111,
   "metadata": {},
   "outputs": [
    {
     "name": "stdout",
     "output_type": "stream",
     "text": [
      "Creating parameter vs loss plots...\n"
     ]
    },
    {
     "data": {
      "application/vnd.plotly.v1+json": {
       "config": {
        "plotlyServerURL": "https://plot.ly"
       },
       "data": [
        {
         "hovertemplate": "Params: %{x}<br>Loss: %{y}<br>Dataset Size: 3<extra></extra>",
         "line": {
          "color": "#636EFA"
         },
         "marker": {
          "color": "#636EFA",
          "size": 8
         },
         "mode": "lines+markers",
         "name": "Dataset Size: 3",
         "showlegend": true,
         "type": "scatter",
         "x": [
          970,
          5450,
          28682
         ],
         "xaxis": "x",
         "y": [
          302.6672668457031,
          315.5051574707031,
          331.2684020996094
         ],
         "yaxis": "y"
        },
        {
         "hovertemplate": "Params: %{x}<br>Loss: %{y}<br>Dataset Size: 33<extra></extra>",
         "line": {
          "color": "#EF553B"
         },
         "marker": {
          "color": "#EF553B",
          "size": 8
         },
         "mode": "lines+markers",
         "name": "Dataset Size: 33",
         "showlegend": true,
         "type": "scatter",
         "x": [
          970,
          5450,
          28682
         ],
         "xaxis": "x",
         "y": [
          279.15960693359375,
          326.2633972167969,
          353.53875732421875
         ],
         "yaxis": "y"
        },
        {
         "hovertemplate": "Params: %{x}<br>Loss: %{y}<br>Dataset Size: 3<extra></extra>",
         "line": {
          "color": "#636EFA"
         },
         "marker": {
          "color": "#636EFA",
          "size": 8
         },
         "mode": "lines+markers",
         "name": "Dataset Size: 3",
         "showlegend": false,
         "type": "scatter",
         "x": [
          970,
          5450,
          28682
         ],
         "xaxis": "x2",
         "y": [
          7.828356742858887,
          5.237451076507568,
          4.218497276306152
         ],
         "yaxis": "y2"
        },
        {
         "hovertemplate": "Params: %{x}<br>Loss: %{y}<br>Dataset Size: 33<extra></extra>",
         "line": {
          "color": "#EF553B"
         },
         "marker": {
          "color": "#EF553B",
          "size": 8
         },
         "mode": "lines+markers",
         "name": "Dataset Size: 33",
         "showlegend": false,
         "type": "scatter",
         "x": [
          970,
          5450,
          28682
         ],
         "xaxis": "x2",
         "y": [
          3.353917360305786,
          3.1745386123657227,
          3.1199638843536377
         ],
         "yaxis": "y2"
        },
        {
         "hovertemplate": "Params: %{x}<br>Loss: %{y}<br>Dataset Size: 3<extra></extra>",
         "line": {
          "color": "#636EFA"
         },
         "marker": {
          "color": "#636EFA",
          "size": 8
         },
         "mode": "lines+markers",
         "name": "Dataset Size: 3",
         "showlegend": false,
         "type": "scatter",
         "x": [
          970,
          5450,
          28682
         ],
         "xaxis": "x3",
         "y": [
          271.2458801269531,
          283.8420104980469,
          296.1905517578125
         ],
         "yaxis": "y3"
        },
        {
         "hovertemplate": "Params: %{x}<br>Loss: %{y}<br>Dataset Size: 33<extra></extra>",
         "line": {
          "color": "#EF553B"
         },
         "marker": {
          "color": "#EF553B",
          "size": 8
         },
         "mode": "lines+markers",
         "name": "Dataset Size: 33",
         "showlegend": false,
         "type": "scatter",
         "x": [
          970,
          5450,
          28682
         ],
         "xaxis": "x3",
         "y": [
          271.617431640625,
          316.1528015136719,
          341.645751953125
         ],
         "yaxis": "y3"
        },
        {
         "hovertemplate": "Params: %{x}<br>Loss: %{y}<br>Dataset Size: 3<extra></extra>",
         "line": {
          "color": "#636EFA"
         },
         "marker": {
          "color": "#636EFA",
          "size": 8
         },
         "mode": "lines+markers",
         "name": "Dataset Size: 3",
         "showlegend": false,
         "type": "scatter",
         "x": [
          970,
          5450,
          28682
         ],
         "xaxis": "x4",
         "y": [
          23.593008995056152,
          26.425698280334473,
          30.859365701675415
         ],
         "yaxis": "y4"
        },
        {
         "hovertemplate": "Params: %{x}<br>Loss: %{y}<br>Dataset Size: 33<extra></extra>",
         "line": {
          "color": "#EF553B"
         },
         "marker": {
          "color": "#EF553B",
          "size": 8
         },
         "mode": "lines+markers",
         "name": "Dataset Size: 33",
         "showlegend": false,
         "type": "scatter",
         "x": [
          970,
          5450,
          28682
         ],
         "xaxis": "x4",
         "y": [
          4.188255548477173,
          6.936044335365295,
          8.77305293083191
         ],
         "yaxis": "y4"
        }
       ],
       "layout": {
        "annotations": [
         {
          "font": {
           "size": 16
          },
          "showarrow": false,
          "text": "Overall Validation Loss",
          "x": 0.2125,
          "xanchor": "center",
          "xref": "paper",
          "y": 1,
          "yanchor": "bottom",
          "yref": "paper"
         },
         {
          "font": {
           "size": 16
          },
          "showarrow": false,
          "text": "Energy Loss",
          "x": 0.7875,
          "xanchor": "center",
          "xref": "paper",
          "y": 1,
          "yanchor": "bottom",
          "yref": "paper"
         },
         {
          "font": {
           "size": 16
          },
          "showarrow": false,
          "text": "Force Loss",
          "x": 0.2125,
          "xanchor": "center",
          "xref": "paper",
          "y": 0.425,
          "yanchor": "bottom",
          "yref": "paper"
         },
         {
          "font": {
           "size": 16
          },
          "showarrow": false,
          "text": "Stress Loss (Iso+Aniso)",
          "x": 0.7875,
          "xanchor": "center",
          "xref": "paper",
          "y": 0.425,
          "yanchor": "bottom",
          "yref": "paper"
         }
        ],
        "height": 1000,
        "legend": {
         "x": 0.99,
         "xanchor": "right",
         "y": 0.99,
         "yanchor": "top"
        },
        "template": {
         "data": {
          "bar": [
           {
            "error_x": {
             "color": "#2a3f5f"
            },
            "error_y": {
             "color": "#2a3f5f"
            },
            "marker": {
             "line": {
              "color": "white",
              "width": 0.5
             },
             "pattern": {
              "fillmode": "overlay",
              "size": 10,
              "solidity": 0.2
             }
            },
            "type": "bar"
           }
          ],
          "barpolar": [
           {
            "marker": {
             "line": {
              "color": "white",
              "width": 0.5
             },
             "pattern": {
              "fillmode": "overlay",
              "size": 10,
              "solidity": 0.2
             }
            },
            "type": "barpolar"
           }
          ],
          "carpet": [
           {
            "aaxis": {
             "endlinecolor": "#2a3f5f",
             "gridcolor": "#C8D4E3",
             "linecolor": "#C8D4E3",
             "minorgridcolor": "#C8D4E3",
             "startlinecolor": "#2a3f5f"
            },
            "baxis": {
             "endlinecolor": "#2a3f5f",
             "gridcolor": "#C8D4E3",
             "linecolor": "#C8D4E3",
             "minorgridcolor": "#C8D4E3",
             "startlinecolor": "#2a3f5f"
            },
            "type": "carpet"
           }
          ],
          "choropleth": [
           {
            "colorbar": {
             "outlinewidth": 0,
             "ticks": ""
            },
            "type": "choropleth"
           }
          ],
          "contour": [
           {
            "colorbar": {
             "outlinewidth": 0,
             "ticks": ""
            },
            "colorscale": [
             [
              0,
              "#0d0887"
             ],
             [
              0.1111111111111111,
              "#46039f"
             ],
             [
              0.2222222222222222,
              "#7201a8"
             ],
             [
              0.3333333333333333,
              "#9c179e"
             ],
             [
              0.4444444444444444,
              "#bd3786"
             ],
             [
              0.5555555555555556,
              "#d8576b"
             ],
             [
              0.6666666666666666,
              "#ed7953"
             ],
             [
              0.7777777777777778,
              "#fb9f3a"
             ],
             [
              0.8888888888888888,
              "#fdca26"
             ],
             [
              1,
              "#f0f921"
             ]
            ],
            "type": "contour"
           }
          ],
          "contourcarpet": [
           {
            "colorbar": {
             "outlinewidth": 0,
             "ticks": ""
            },
            "type": "contourcarpet"
           }
          ],
          "heatmap": [
           {
            "colorbar": {
             "outlinewidth": 0,
             "ticks": ""
            },
            "colorscale": [
             [
              0,
              "#0d0887"
             ],
             [
              0.1111111111111111,
              "#46039f"
             ],
             [
              0.2222222222222222,
              "#7201a8"
             ],
             [
              0.3333333333333333,
              "#9c179e"
             ],
             [
              0.4444444444444444,
              "#bd3786"
             ],
             [
              0.5555555555555556,
              "#d8576b"
             ],
             [
              0.6666666666666666,
              "#ed7953"
             ],
             [
              0.7777777777777778,
              "#fb9f3a"
             ],
             [
              0.8888888888888888,
              "#fdca26"
             ],
             [
              1,
              "#f0f921"
             ]
            ],
            "type": "heatmap"
           }
          ],
          "heatmapgl": [
           {
            "colorbar": {
             "outlinewidth": 0,
             "ticks": ""
            },
            "colorscale": [
             [
              0,
              "#0d0887"
             ],
             [
              0.1111111111111111,
              "#46039f"
             ],
             [
              0.2222222222222222,
              "#7201a8"
             ],
             [
              0.3333333333333333,
              "#9c179e"
             ],
             [
              0.4444444444444444,
              "#bd3786"
             ],
             [
              0.5555555555555556,
              "#d8576b"
             ],
             [
              0.6666666666666666,
              "#ed7953"
             ],
             [
              0.7777777777777778,
              "#fb9f3a"
             ],
             [
              0.8888888888888888,
              "#fdca26"
             ],
             [
              1,
              "#f0f921"
             ]
            ],
            "type": "heatmapgl"
           }
          ],
          "histogram": [
           {
            "marker": {
             "pattern": {
              "fillmode": "overlay",
              "size": 10,
              "solidity": 0.2
             }
            },
            "type": "histogram"
           }
          ],
          "histogram2d": [
           {
            "colorbar": {
             "outlinewidth": 0,
             "ticks": ""
            },
            "colorscale": [
             [
              0,
              "#0d0887"
             ],
             [
              0.1111111111111111,
              "#46039f"
             ],
             [
              0.2222222222222222,
              "#7201a8"
             ],
             [
              0.3333333333333333,
              "#9c179e"
             ],
             [
              0.4444444444444444,
              "#bd3786"
             ],
             [
              0.5555555555555556,
              "#d8576b"
             ],
             [
              0.6666666666666666,
              "#ed7953"
             ],
             [
              0.7777777777777778,
              "#fb9f3a"
             ],
             [
              0.8888888888888888,
              "#fdca26"
             ],
             [
              1,
              "#f0f921"
             ]
            ],
            "type": "histogram2d"
           }
          ],
          "histogram2dcontour": [
           {
            "colorbar": {
             "outlinewidth": 0,
             "ticks": ""
            },
            "colorscale": [
             [
              0,
              "#0d0887"
             ],
             [
              0.1111111111111111,
              "#46039f"
             ],
             [
              0.2222222222222222,
              "#7201a8"
             ],
             [
              0.3333333333333333,
              "#9c179e"
             ],
             [
              0.4444444444444444,
              "#bd3786"
             ],
             [
              0.5555555555555556,
              "#d8576b"
             ],
             [
              0.6666666666666666,
              "#ed7953"
             ],
             [
              0.7777777777777778,
              "#fb9f3a"
             ],
             [
              0.8888888888888888,
              "#fdca26"
             ],
             [
              1,
              "#f0f921"
             ]
            ],
            "type": "histogram2dcontour"
           }
          ],
          "mesh3d": [
           {
            "colorbar": {
             "outlinewidth": 0,
             "ticks": ""
            },
            "type": "mesh3d"
           }
          ],
          "parcoords": [
           {
            "line": {
             "colorbar": {
              "outlinewidth": 0,
              "ticks": ""
             }
            },
            "type": "parcoords"
           }
          ],
          "pie": [
           {
            "automargin": true,
            "type": "pie"
           }
          ],
          "scatter": [
           {
            "fillpattern": {
             "fillmode": "overlay",
             "size": 10,
             "solidity": 0.2
            },
            "type": "scatter"
           }
          ],
          "scatter3d": [
           {
            "line": {
             "colorbar": {
              "outlinewidth": 0,
              "ticks": ""
             }
            },
            "marker": {
             "colorbar": {
              "outlinewidth": 0,
              "ticks": ""
             }
            },
            "type": "scatter3d"
           }
          ],
          "scattercarpet": [
           {
            "marker": {
             "colorbar": {
              "outlinewidth": 0,
              "ticks": ""
             }
            },
            "type": "scattercarpet"
           }
          ],
          "scattergeo": [
           {
            "marker": {
             "colorbar": {
              "outlinewidth": 0,
              "ticks": ""
             }
            },
            "type": "scattergeo"
           }
          ],
          "scattergl": [
           {
            "marker": {
             "colorbar": {
              "outlinewidth": 0,
              "ticks": ""
             }
            },
            "type": "scattergl"
           }
          ],
          "scattermapbox": [
           {
            "marker": {
             "colorbar": {
              "outlinewidth": 0,
              "ticks": ""
             }
            },
            "type": "scattermapbox"
           }
          ],
          "scatterpolar": [
           {
            "marker": {
             "colorbar": {
              "outlinewidth": 0,
              "ticks": ""
             }
            },
            "type": "scatterpolar"
           }
          ],
          "scatterpolargl": [
           {
            "marker": {
             "colorbar": {
              "outlinewidth": 0,
              "ticks": ""
             }
            },
            "type": "scatterpolargl"
           }
          ],
          "scatterternary": [
           {
            "marker": {
             "colorbar": {
              "outlinewidth": 0,
              "ticks": ""
             }
            },
            "type": "scatterternary"
           }
          ],
          "surface": [
           {
            "colorbar": {
             "outlinewidth": 0,
             "ticks": ""
            },
            "colorscale": [
             [
              0,
              "#0d0887"
             ],
             [
              0.1111111111111111,
              "#46039f"
             ],
             [
              0.2222222222222222,
              "#7201a8"
             ],
             [
              0.3333333333333333,
              "#9c179e"
             ],
             [
              0.4444444444444444,
              "#bd3786"
             ],
             [
              0.5555555555555556,
              "#d8576b"
             ],
             [
              0.6666666666666666,
              "#ed7953"
             ],
             [
              0.7777777777777778,
              "#fb9f3a"
             ],
             [
              0.8888888888888888,
              "#fdca26"
             ],
             [
              1,
              "#f0f921"
             ]
            ],
            "type": "surface"
           }
          ],
          "table": [
           {
            "cells": {
             "fill": {
              "color": "#EBF0F8"
             },
             "line": {
              "color": "white"
             }
            },
            "header": {
             "fill": {
              "color": "#C8D4E3"
             },
             "line": {
              "color": "white"
             }
            },
            "type": "table"
           }
          ]
         },
         "layout": {
          "annotationdefaults": {
           "arrowcolor": "#2a3f5f",
           "arrowhead": 0,
           "arrowwidth": 1
          },
          "autotypenumbers": "strict",
          "coloraxis": {
           "colorbar": {
            "outlinewidth": 0,
            "ticks": ""
           }
          },
          "colorscale": {
           "diverging": [
            [
             0,
             "#8e0152"
            ],
            [
             0.1,
             "#c51b7d"
            ],
            [
             0.2,
             "#de77ae"
            ],
            [
             0.3,
             "#f1b6da"
            ],
            [
             0.4,
             "#fde0ef"
            ],
            [
             0.5,
             "#f7f7f7"
            ],
            [
             0.6,
             "#e6f5d0"
            ],
            [
             0.7,
             "#b8e186"
            ],
            [
             0.8,
             "#7fbc41"
            ],
            [
             0.9,
             "#4d9221"
            ],
            [
             1,
             "#276419"
            ]
           ],
           "sequential": [
            [
             0,
             "#0d0887"
            ],
            [
             0.1111111111111111,
             "#46039f"
            ],
            [
             0.2222222222222222,
             "#7201a8"
            ],
            [
             0.3333333333333333,
             "#9c179e"
            ],
            [
             0.4444444444444444,
             "#bd3786"
            ],
            [
             0.5555555555555556,
             "#d8576b"
            ],
            [
             0.6666666666666666,
             "#ed7953"
            ],
            [
             0.7777777777777778,
             "#fb9f3a"
            ],
            [
             0.8888888888888888,
             "#fdca26"
            ],
            [
             1,
             "#f0f921"
            ]
           ],
           "sequentialminus": [
            [
             0,
             "#0d0887"
            ],
            [
             0.1111111111111111,
             "#46039f"
            ],
            [
             0.2222222222222222,
             "#7201a8"
            ],
            [
             0.3333333333333333,
             "#9c179e"
            ],
            [
             0.4444444444444444,
             "#bd3786"
            ],
            [
             0.5555555555555556,
             "#d8576b"
            ],
            [
             0.6666666666666666,
             "#ed7953"
            ],
            [
             0.7777777777777778,
             "#fb9f3a"
            ],
            [
             0.8888888888888888,
             "#fdca26"
            ],
            [
             1,
             "#f0f921"
            ]
           ]
          },
          "colorway": [
           "#636efa",
           "#EF553B",
           "#00cc96",
           "#ab63fa",
           "#FFA15A",
           "#19d3f3",
           "#FF6692",
           "#B6E880",
           "#FF97FF",
           "#FECB52"
          ],
          "font": {
           "color": "#2a3f5f"
          },
          "geo": {
           "bgcolor": "white",
           "lakecolor": "white",
           "landcolor": "white",
           "showlakes": true,
           "showland": true,
           "subunitcolor": "#C8D4E3"
          },
          "hoverlabel": {
           "align": "left"
          },
          "hovermode": "closest",
          "mapbox": {
           "style": "light"
          },
          "paper_bgcolor": "white",
          "plot_bgcolor": "white",
          "polar": {
           "angularaxis": {
            "gridcolor": "#EBF0F8",
            "linecolor": "#EBF0F8",
            "ticks": ""
           },
           "bgcolor": "white",
           "radialaxis": {
            "gridcolor": "#EBF0F8",
            "linecolor": "#EBF0F8",
            "ticks": ""
           }
          },
          "scene": {
           "xaxis": {
            "backgroundcolor": "white",
            "gridcolor": "#DFE8F3",
            "gridwidth": 2,
            "linecolor": "#EBF0F8",
            "showbackground": true,
            "ticks": "",
            "zerolinecolor": "#EBF0F8"
           },
           "yaxis": {
            "backgroundcolor": "white",
            "gridcolor": "#DFE8F3",
            "gridwidth": 2,
            "linecolor": "#EBF0F8",
            "showbackground": true,
            "ticks": "",
            "zerolinecolor": "#EBF0F8"
           },
           "zaxis": {
            "backgroundcolor": "white",
            "gridcolor": "#DFE8F3",
            "gridwidth": 2,
            "linecolor": "#EBF0F8",
            "showbackground": true,
            "ticks": "",
            "zerolinecolor": "#EBF0F8"
           }
          },
          "shapedefaults": {
           "line": {
            "color": "#2a3f5f"
           }
          },
          "ternary": {
           "aaxis": {
            "gridcolor": "#DFE8F3",
            "linecolor": "#A2B1C6",
            "ticks": ""
           },
           "baxis": {
            "gridcolor": "#DFE8F3",
            "linecolor": "#A2B1C6",
            "ticks": ""
           },
           "bgcolor": "white",
           "caxis": {
            "gridcolor": "#DFE8F3",
            "linecolor": "#A2B1C6",
            "ticks": ""
           }
          },
          "title": {
           "x": 0.05
          },
          "xaxis": {
           "automargin": true,
           "gridcolor": "#EBF0F8",
           "linecolor": "#EBF0F8",
           "ticks": "",
           "title": {
            "standoff": 15
           },
           "zerolinecolor": "#EBF0F8",
           "zerolinewidth": 2
          },
          "yaxis": {
           "automargin": true,
           "gridcolor": "#EBF0F8",
           "linecolor": "#EBF0F8",
           "ticks": "",
           "title": {
            "standoff": 15
           },
           "zerolinecolor": "#EBF0F8",
           "zerolinewidth": 2
          }
         }
        },
        "title": {
         "text": "Validation Loss vs Model Parameters"
        },
        "width": 1250,
        "xaxis": {
         "anchor": "y",
         "domain": [
          0,
          0.425
         ],
         "title": {
          "text": "Model Parameters"
         },
         "type": "log"
        },
        "xaxis2": {
         "anchor": "y2",
         "domain": [
          0.575,
          1
         ],
         "title": {
          "text": "Model Parameters"
         },
         "type": "log"
        },
        "xaxis3": {
         "anchor": "y3",
         "domain": [
          0,
          0.425
         ],
         "title": {
          "text": "Model Parameters"
         },
         "type": "log"
        },
        "xaxis4": {
         "anchor": "y4",
         "domain": [
          0.575,
          1
         ],
         "title": {
          "text": "Model Parameters"
         },
         "type": "log"
        },
        "yaxis": {
         "anchor": "x",
         "domain": [
          0.575,
          1
         ],
         "title": {
          "text": "Loss Value"
         }
        },
        "yaxis2": {
         "anchor": "x2",
         "domain": [
          0.575,
          1
         ],
         "title": {
          "text": "Loss Value"
         }
        },
        "yaxis3": {
         "anchor": "x3",
         "domain": [
          0,
          0.425
         ],
         "title": {
          "text": "Loss Value"
         }
        },
        "yaxis4": {
         "anchor": "x4",
         "domain": [
          0,
          0.425
         ],
         "title": {
          "text": "Loss Value"
         }
        }
       }
      },
      "image/png": "[encoded data removed]",
      "text/html": [
       "<div>                            <div id=\"d0608be5-6999-4cd1-b28d-9b047749dd95\" class=\"plotly-graph-div\" style=\"height:1000px; width:1250px;\"></div>            <script type=\"text/javascript\">                require([\"plotly\"], function(Plotly) {                    window.PLOTLYENV=window.PLOTLYENV || {};                                    if (document.getElementById(\"d0608be5-6999-4cd1-b28d-9b047749dd95\")) {                    Plotly.newPlot(                        \"d0608be5-6999-4cd1-b28d-9b047749dd95\",                        [{\"hovertemplate\":\"Params: %{x}\\u003cbr\\u003eLoss: %{y}\\u003cbr\\u003eDataset Size: 3\\u003cextra\\u003e\\u003c\\u002fextra\\u003e\",\"line\":{\"color\":\"#636EFA\"},\"marker\":{\"color\":\"#636EFA\",\"size\":8},\"mode\":\"lines+markers\",\"name\":\"Dataset Size: 3\",\"showlegend\":true,\"x\":[970,5450,28682],\"y\":[302.6672668457031,315.5051574707031,331.2684020996094],\"type\":\"scatter\",\"xaxis\":\"x\",\"yaxis\":\"y\"},{\"hovertemplate\":\"Params: %{x}\\u003cbr\\u003eLoss: %{y}\\u003cbr\\u003eDataset Size: 33\\u003cextra\\u003e\\u003c\\u002fextra\\u003e\",\"line\":{\"color\":\"#EF553B\"},\"marker\":{\"color\":\"#EF553B\",\"size\":8},\"mode\":\"lines+markers\",\"name\":\"Dataset Size: 33\",\"showlegend\":true,\"x\":[970,5450,28682],\"y\":[279.15960693359375,326.2633972167969,353.53875732421875],\"type\":\"scatter\",\"xaxis\":\"x\",\"yaxis\":\"y\"},{\"hovertemplate\":\"Params: %{x}\\u003cbr\\u003eLoss: %{y}\\u003cbr\\u003eDataset Size: 3\\u003cextra\\u003e\\u003c\\u002fextra\\u003e\",\"line\":{\"color\":\"#636EFA\"},\"marker\":{\"color\":\"#636EFA\",\"size\":8},\"mode\":\"lines+markers\",\"name\":\"Dataset Size: 3\",\"showlegend\":false,\"x\":[970,5450,28682],\"y\":[7.828356742858887,5.237451076507568,4.218497276306152],\"type\":\"scatter\",\"xaxis\":\"x2\",\"yaxis\":\"y2\"},{\"hovertemplate\":\"Params: %{x}\\u003cbr\\u003eLoss: %{y}\\u003cbr\\u003eDataset Size: 33\\u003cextra\\u003e\\u003c\\u002fextra\\u003e\",\"line\":{\"color\":\"#EF553B\"},\"marker\":{\"color\":\"#EF553B\",\"size\":8},\"mode\":\"lines+markers\",\"name\":\"Dataset Size: 33\",\"showlegend\":false,\"x\":[970,5450,28682],\"y\":[3.353917360305786,3.1745386123657227,3.1199638843536377],\"type\":\"scatter\",\"xaxis\":\"x2\",\"yaxis\":\"y2\"},{\"hovertemplate\":\"Params: %{x}\\u003cbr\\u003eLoss: %{y}\\u003cbr\\u003eDataset Size: 3\\u003cextra\\u003e\\u003c\\u002fextra\\u003e\",\"line\":{\"color\":\"#636EFA\"},\"marker\":{\"color\":\"#636EFA\",\"size\":8},\"mode\":\"lines+markers\",\"name\":\"Dataset Size: 3\",\"showlegend\":false,\"x\":[970,5450,28682],\"y\":[271.2458801269531,283.8420104980469,296.1905517578125],\"type\":\"scatter\",\"xaxis\":\"x3\",\"yaxis\":\"y3\"},{\"hovertemplate\":\"Params: %{x}\\u003cbr\\u003eLoss: %{y}\\u003cbr\\u003eDataset Size: 33\\u003cextra\\u003e\\u003c\\u002fextra\\u003e\",\"line\":{\"color\":\"#EF553B\"},\"marker\":{\"color\":\"#EF553B\",\"size\":8},\"mode\":\"lines+markers\",\"name\":\"Dataset Size: 33\",\"showlegend\":false,\"x\":[970,5450,28682],\"y\":[271.617431640625,316.1528015136719,341.645751953125],\"type\":\"scatter\",\"xaxis\":\"x3\",\"yaxis\":\"y3\"},{\"hovertemplate\":\"Params: %{x}\\u003cbr\\u003eLoss: %{y}\\u003cbr\\u003eDataset Size: 3\\u003cextra\\u003e\\u003c\\u002fextra\\u003e\",\"line\":{\"color\":\"#636EFA\"},\"marker\":{\"color\":\"#636EFA\",\"size\":8},\"mode\":\"lines+markers\",\"name\":\"Dataset Size: 3\",\"showlegend\":false,\"x\":[970,5450,28682],\"y\":[23.593008995056152,26.425698280334473,30.859365701675415],\"type\":\"scatter\",\"xaxis\":\"x4\",\"yaxis\":\"y4\"},{\"hovertemplate\":\"Params: %{x}\\u003cbr\\u003eLoss: %{y}\\u003cbr\\u003eDataset Size: 33\\u003cextra\\u003e\\u003c\\u002fextra\\u003e\",\"line\":{\"color\":\"#EF553B\"},\"marker\":{\"color\":\"#EF553B\",\"size\":8},\"mode\":\"lines+markers\",\"name\":\"Dataset Size: 33\",\"showlegend\":false,\"x\":[970,5450,28682],\"y\":[4.188255548477173,6.936044335365295,8.77305293083191],\"type\":\"scatter\",\"xaxis\":\"x4\",\"yaxis\":\"y4\"}],                        {\"template\":{\"data\":{\"barpolar\":[{\"marker\":{\"line\":{\"color\":\"white\",\"width\":0.5},\"pattern\":{\"fillmode\":\"overlay\",\"size\":10,\"solidity\":0.2}},\"type\":\"barpolar\"}],\"bar\":[{\"error_x\":{\"color\":\"#2a3f5f\"},\"error_y\":{\"color\":\"#2a3f5f\"},\"marker\":{\"line\":{\"color\":\"white\",\"width\":0.5},\"pattern\":{\"fillmode\":\"overlay\",\"size\":10,\"solidity\":0.2}},\"type\":\"bar\"}],\"carpet\":[{\"aaxis\":{\"endlinecolor\":\"#2a3f5f\",\"gridcolor\":\"#C8D4E3\",\"linecolor\":\"#C8D4E3\",\"minorgridcolor\":\"#C8D4E3\",\"startlinecolor\":\"#2a3f5f\"},\"baxis\":{\"endlinecolor\":\"#2a3f5f\",\"gridcolor\":\"#C8D4E3\",\"linecolor\":\"#C8D4E3\",\"minorgridcolor\":\"#C8D4E3\",\"startlinecolor\":\"#2a3f5f\"},\"type\":\"carpet\"}],\"choropleth\":[{\"colorbar\":{\"outlinewidth\":0,\"ticks\":\"\"},\"type\":\"choropleth\"}],\"contourcarpet\":[{\"colorbar\":{\"outlinewidth\":0,\"ticks\":\"\"},\"type\":\"contourcarpet\"}],\"contour\":[{\"colorbar\":{\"outlinewidth\":0,\"ticks\":\"\"},\"colorscale\":[[0.0,\"#0d0887\"],[0.1111111111111111,\"#46039f\"],[0.2222222222222222,\"#7201a8\"],[0.3333333333333333,\"#9c179e\"],[0.4444444444444444,\"#bd3786\"],[0.5555555555555556,\"#d8576b\"],[0.6666666666666666,\"#ed7953\"],[0.7777777777777778,\"#fb9f3a\"],[0.8888888888888888,\"#fdca26\"],[1.0,\"#f0f921\"]],\"type\":\"contour\"}],\"heatmapgl\":[{\"colorbar\":{\"outlinewidth\":0,\"ticks\":\"\"},\"colorscale\":[[0.0,\"#0d0887\"],[0.1111111111111111,\"#46039f\"],[0.2222222222222222,\"#7201a8\"],[0.3333333333333333,\"#9c179e\"],[0.4444444444444444,\"#bd3786\"],[0.5555555555555556,\"#d8576b\"],[0.6666666666666666,\"#ed7953\"],[0.7777777777777778,\"#fb9f3a\"],[0.8888888888888888,\"#fdca26\"],[1.0,\"#f0f921\"]],\"type\":\"heatmapgl\"}],\"heatmap\":[{\"colorbar\":{\"outlinewidth\":0,\"ticks\":\"\"},\"colorscale\":[[0.0,\"#0d0887\"],[0.1111111111111111,\"#46039f\"],[0.2222222222222222,\"#7201a8\"],[0.3333333333333333,\"#9c179e\"],[0.4444444444444444,\"#bd3786\"],[0.5555555555555556,\"#d8576b\"],[0.6666666666666666,\"#ed7953\"],[0.7777777777777778,\"#fb9f3a\"],[0.8888888888888888,\"#fdca26\"],[1.0,\"#f0f921\"]],\"type\":\"heatmap\"}],\"histogram2dcontour\":[{\"colorbar\":{\"outlinewidth\":0,\"ticks\":\"\"},\"colorscale\":[[0.0,\"#0d0887\"],[0.1111111111111111,\"#46039f\"],[0.2222222222222222,\"#7201a8\"],[0.3333333333333333,\"#9c179e\"],[0.4444444444444444,\"#bd3786\"],[0.5555555555555556,\"#d8576b\"],[0.6666666666666666,\"#ed7953\"],[0.7777777777777778,\"#fb9f3a\"],[0.8888888888888888,\"#fdca26\"],[1.0,\"#f0f921\"]],\"type\":\"histogram2dcontour\"}],\"histogram2d\":[{\"colorbar\":{\"outlinewidth\":0,\"ticks\":\"\"},\"colorscale\":[[0.0,\"#0d0887\"],[0.1111111111111111,\"#46039f\"],[0.2222222222222222,\"#7201a8\"],[0.3333333333333333,\"#9c179e\"],[0.4444444444444444,\"#bd3786\"],[0.5555555555555556,\"#d8576b\"],[0.6666666666666666,\"#ed7953\"],[0.7777777777777778,\"#fb9f3a\"],[0.8888888888888888,\"#fdca26\"],[1.0,\"#f0f921\"]],\"type\":\"histogram2d\"}],\"histogram\":[{\"marker\":{\"pattern\":{\"fillmode\":\"overlay\",\"size\":10,\"solidity\":0.2}},\"type\":\"histogram\"}],\"mesh3d\":[{\"colorbar\":{\"outlinewidth\":0,\"ticks\":\"\"},\"type\":\"mesh3d\"}],\"parcoords\":[{\"line\":{\"colorbar\":{\"outlinewidth\":0,\"ticks\":\"\"}},\"type\":\"parcoords\"}],\"pie\":[{\"automargin\":true,\"type\":\"pie\"}],\"scatter3d\":[{\"line\":{\"colorbar\":{\"outlinewidth\":0,\"ticks\":\"\"}},\"marker\":{\"colorbar\":{\"outlinewidth\":0,\"ticks\":\"\"}},\"type\":\"scatter3d\"}],\"scattercarpet\":[{\"marker\":{\"colorbar\":{\"outlinewidth\":0,\"ticks\":\"\"}},\"type\":\"scattercarpet\"}],\"scattergeo\":[{\"marker\":{\"colorbar\":{\"outlinewidth\":0,\"ticks\":\"\"}},\"type\":\"scattergeo\"}],\"scattergl\":[{\"marker\":{\"colorbar\":{\"outlinewidth\":0,\"ticks\":\"\"}},\"type\":\"scattergl\"}],\"scattermapbox\":[{\"marker\":{\"colorbar\":{\"outlinewidth\":0,\"ticks\":\"\"}},\"type\":\"scattermapbox\"}],\"scatterpolargl\":[{\"marker\":{\"colorbar\":{\"outlinewidth\":0,\"ticks\":\"\"}},\"type\":\"scatterpolargl\"}],\"scatterpolar\":[{\"marker\":{\"colorbar\":{\"outlinewidth\":0,\"ticks\":\"\"}},\"type\":\"scatterpolar\"}],\"scatter\":[{\"fillpattern\":{\"fillmode\":\"overlay\",\"size\":10,\"solidity\":0.2},\"type\":\"scatter\"}],\"scatterternary\":[{\"marker\":{\"colorbar\":{\"outlinewidth\":0,\"ticks\":\"\"}},\"type\":\"scatterternary\"}],\"surface\":[{\"colorbar\":{\"outlinewidth\":0,\"ticks\":\"\"},\"colorscale\":[[0.0,\"#0d0887\"],[0.1111111111111111,\"#46039f\"],[0.2222222222222222,\"#7201a8\"],[0.3333333333333333,\"#9c179e\"],[0.4444444444444444,\"#bd3786\"],[0.5555555555555556,\"#d8576b\"],[0.6666666666666666,\"#ed7953\"],[0.7777777777777778,\"#fb9f3a\"],[0.8888888888888888,\"#fdca26\"],[1.0,\"#f0f921\"]],\"type\":\"surface\"}],\"table\":[{\"cells\":{\"fill\":{\"color\":\"#EBF0F8\"},\"line\":{\"color\":\"white\"}},\"header\":{\"fill\":{\"color\":\"#C8D4E3\"},\"line\":{\"color\":\"white\"}},\"type\":\"table\"}]},\"layout\":{\"annotationdefaults\":{\"arrowcolor\":\"#2a3f5f\",\"arrowhead\":0,\"arrowwidth\":1},\"autotypenumbers\":\"strict\",\"coloraxis\":{\"colorbar\":{\"outlinewidth\":0,\"ticks\":\"\"}},\"colorscale\":{\"diverging\":[[0,\"#8e0152\"],[0.1,\"#c51b7d\"],[0.2,\"#de77ae\"],[0.3,\"#f1b6da\"],[0.4,\"#fde0ef\"],[0.5,\"#f7f7f7\"],[0.6,\"#e6f5d0\"],[0.7,\"#b8e186\"],[0.8,\"#7fbc41\"],[0.9,\"#4d9221\"],[1,\"#276419\"]],\"sequential\":[[0.0,\"#0d0887\"],[0.1111111111111111,\"#46039f\"],[0.2222222222222222,\"#7201a8\"],[0.3333333333333333,\"#9c179e\"],[0.4444444444444444,\"#bd3786\"],[0.5555555555555556,\"#d8576b\"],[0.6666666666666666,\"#ed7953\"],[0.7777777777777778,\"#fb9f3a\"],[0.8888888888888888,\"#fdca26\"],[1.0,\"#f0f921\"]],\"sequentialminus\":[[0.0,\"#0d0887\"],[0.1111111111111111,\"#46039f\"],[0.2222222222222222,\"#7201a8\"],[0.3333333333333333,\"#9c179e\"],[0.4444444444444444,\"#bd3786\"],[0.5555555555555556,\"#d8576b\"],[0.6666666666666666,\"#ed7953\"],[0.7777777777777778,\"#fb9f3a\"],[0.8888888888888888,\"#fdca26\"],[1.0,\"#f0f921\"]]},\"colorway\":[\"#636efa\",\"#EF553B\",\"#00cc96\",\"#ab63fa\",\"#FFA15A\",\"#19d3f3\",\"#FF6692\",\"#B6E880\",\"#FF97FF\",\"#FECB52\"],\"font\":{\"color\":\"#2a3f5f\"},\"geo\":{\"bgcolor\":\"white\",\"lakecolor\":\"white\",\"landcolor\":\"white\",\"showlakes\":true,\"showland\":true,\"subunitcolor\":\"#C8D4E3\"},\"hoverlabel\":{\"align\":\"left\"},\"hovermode\":\"closest\",\"mapbox\":{\"style\":\"light\"},\"paper_bgcolor\":\"white\",\"plot_bgcolor\":\"white\",\"polar\":{\"angularaxis\":{\"gridcolor\":\"#EBF0F8\",\"linecolor\":\"#EBF0F8\",\"ticks\":\"\"},\"bgcolor\":\"white\",\"radialaxis\":{\"gridcolor\":\"#EBF0F8\",\"linecolor\":\"#EBF0F8\",\"ticks\":\"\"}},\"scene\":{\"xaxis\":{\"backgroundcolor\":\"white\",\"gridcolor\":\"#DFE8F3\",\"gridwidth\":2,\"linecolor\":\"#EBF0F8\",\"showbackground\":true,\"ticks\":\"\",\"zerolinecolor\":\"#EBF0F8\"},\"yaxis\":{\"backgroundcolor\":\"white\",\"gridcolor\":\"#DFE8F3\",\"gridwidth\":2,\"linecolor\":\"#EBF0F8\",\"showbackground\":true,\"ticks\":\"\",\"zerolinecolor\":\"#EBF0F8\"},\"zaxis\":{\"backgroundcolor\":\"white\",\"gridcolor\":\"#DFE8F3\",\"gridwidth\":2,\"linecolor\":\"#EBF0F8\",\"showbackground\":true,\"ticks\":\"\",\"zerolinecolor\":\"#EBF0F8\"}},\"shapedefaults\":{\"line\":{\"color\":\"#2a3f5f\"}},\"ternary\":{\"aaxis\":{\"gridcolor\":\"#DFE8F3\",\"linecolor\":\"#A2B1C6\",\"ticks\":\"\"},\"baxis\":{\"gridcolor\":\"#DFE8F3\",\"linecolor\":\"#A2B1C6\",\"ticks\":\"\"},\"bgcolor\":\"white\",\"caxis\":{\"gridcolor\":\"#DFE8F3\",\"linecolor\":\"#A2B1C6\",\"ticks\":\"\"}},\"title\":{\"x\":0.05},\"xaxis\":{\"automargin\":true,\"gridcolor\":\"#EBF0F8\",\"linecolor\":\"#EBF0F8\",\"ticks\":\"\",\"title\":{\"standoff\":15},\"zerolinecolor\":\"#EBF0F8\",\"zerolinewidth\":2},\"yaxis\":{\"automargin\":true,\"gridcolor\":\"#EBF0F8\",\"linecolor\":\"#EBF0F8\",\"ticks\":\"\",\"title\":{\"standoff\":15},\"zerolinecolor\":\"#EBF0F8\",\"zerolinewidth\":2}}},\"xaxis\":{\"anchor\":\"y\",\"domain\":[0.0,0.425],\"title\":{\"text\":\"Model Parameters\"},\"type\":\"log\"},\"yaxis\":{\"anchor\":\"x\",\"domain\":[0.575,1.0],\"title\":{\"text\":\"Loss Value\"}},\"xaxis2\":{\"anchor\":\"y2\",\"domain\":[0.575,1.0],\"title\":{\"text\":\"Model Parameters\"},\"type\":\"log\"},\"yaxis2\":{\"anchor\":\"x2\",\"domain\":[0.575,1.0],\"title\":{\"text\":\"Loss Value\"}},\"xaxis3\":{\"anchor\":\"y3\",\"domain\":[0.0,0.425],\"title\":{\"text\":\"Model Parameters\"},\"type\":\"log\"},\"yaxis3\":{\"anchor\":\"x3\",\"domain\":[0.0,0.425],\"title\":{\"text\":\"Loss Value\"}},\"xaxis4\":{\"anchor\":\"y4\",\"domain\":[0.575,1.0],\"title\":{\"text\":\"Model Parameters\"},\"type\":\"log\"},\"yaxis4\":{\"anchor\":\"x4\",\"domain\":[0.0,0.425],\"title\":{\"text\":\"Loss Value\"}},\"annotations\":[{\"font\":{\"size\":16},\"showarrow\":false,\"text\":\"Overall Validation Loss\",\"x\":0.2125,\"xanchor\":\"center\",\"xref\":\"paper\",\"y\":1.0,\"yanchor\":\"bottom\",\"yref\":\"paper\"},{\"font\":{\"size\":16},\"showarrow\":false,\"text\":\"Energy Loss\",\"x\":0.7875,\"xanchor\":\"center\",\"xref\":\"paper\",\"y\":1.0,\"yanchor\":\"bottom\",\"yref\":\"paper\"},{\"font\":{\"size\":16},\"showarrow\":false,\"text\":\"Force Loss\",\"x\":0.2125,\"xanchor\":\"center\",\"xref\":\"paper\",\"y\":0.425,\"yanchor\":\"bottom\",\"yref\":\"paper\"},{\"font\":{\"size\":16},\"showarrow\":false,\"text\":\"Stress Loss (Iso+Aniso)\",\"x\":0.7875,\"xanchor\":\"center\",\"xref\":\"paper\",\"y\":0.425,\"yanchor\":\"bottom\",\"yref\":\"paper\"}],\"legend\":{\"yanchor\":\"top\",\"y\":0.99,\"xanchor\":\"right\",\"x\":0.99},\"title\":{\"text\":\"Validation Loss vs Model Parameters\"},\"width\":1250,\"height\":1000},                        {\"responsive\": true}                    ).then(function(){\n",
       "                            \n",
       "var gd = document.getElementById('d0608be5-6999-4cd1-b28d-9b047749dd95');\n",
       "var x = new MutationObserver(function (mutations, observer) {{\n",
       "        var display = window.getComputedStyle(gd).display;\n",
       "        if (!display || display === 'none') {{\n",
       "            console.log([gd, 'removed!']);\n",
       "            Plotly.purge(gd);\n",
       "            observer.disconnect();\n",
       "        }}\n",
       "}});\n",
       "\n",
       "// Listen for the removal of the full notebook cells\n",
       "var notebookContainer = gd.closest('#notebook-container');\n",
       "if (notebookContainer) {{\n",
       "    x.observe(notebookContainer, {childList: true});\n",
       "}}\n",
       "\n",
       "// Listen for the clearing of the current output cell\n",
       "var outputEl = gd.closest('.output');\n",
       "if (outputEl) {{\n",
       "    x.observe(outputEl, {childList: true});\n",
       "}}\n",
       "\n",
       "                        })                };                });            </script>        </div>"
      ]
     },
     "metadata": {},
     "output_type": "display_data"
    }
   ],
   "source": [
    "# Display plots directly when cell is run\n",
    "if 'best_losses' in globals() and best_losses:\n",
    "    print(\"Creating parameter vs loss plots...\")\n",
    "    fig = plot_params_vs_losses(best_losses)\n",
    "    if fig:\n",
    "        fig.show()\n",
    "else:\n",
    "    print(\"No data loaded. Please load data first.\")"
   ]
  },
  {
   "cell_type": "code",
   "execution_count": null,
   "metadata": {},
   "outputs": [],
   "source": []
  }
 ],
 "metadata": {
  "kernelspec": {
   "display_name": "Python 3 (ipykernel)",
   "language": "python",
   "name": "python3"
  },
  "language_info": {
   "codemirror_mode": {
    "name": "ipython",
    "version": 3
   },
   "file_extension": ".py",
   "mimetype": "text/x-python",
   "name": "python",
   "nbconvert_exporter": "python",
   "pygments_lexer": "ipython3",
   "version": "3.10.4"
  }
 },
 "nbformat": 4,
 "nbformat_minor": 4
}
